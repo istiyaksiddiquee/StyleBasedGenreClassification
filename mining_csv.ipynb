{
 "cells": [
  {
   "cell_type": "code",
   "execution_count": 2,
   "metadata": {},
   "outputs": [],
   "source": [
    "import pandas as pd \n",
    "pd.set_option('display.max_rows', 200)"
   ]
  },
  {
   "cell_type": "code",
   "execution_count": 3,
   "metadata": {},
   "outputs": [
    {
     "output_type": "execute_result",
     "data": {
      "text/plain": "                                             Book_Name  \\\n0    The Mystery of the Boule Cabinet: A Detective ...   \n1                                            The Pupil   \n2                                       At Love's Cost   \n3                               The Heart of the Range   \n4                          The Worshipper of the Image   \n..                                                 ...   \n991                                  David Copperfield   \n992                                         Hard Times   \n993                          Memoirs of Shelock Holmes   \n994                    The Mysterious Affair at Styles   \n995                               A Tale of Two Cities   \n\n                          book_id            guten_genre  \\\n0                    pg10067.epub  Detective and Mystery   \n1                     pg1032.epub               Literary   \n2                    pg10379.epub               Literary   \n3                    pg10473.epub        Western Stories   \n4                    pg10812.epub               Literary   \n..                            ...                    ...   \n991  pg766DickensDavidCopfld.epub               Literary   \n992    pg786DickensHardTimes.epub               Literary   \n993  pg834DoyleMemoirsSherlk.epub  Detective and Mystery   \n994             pg863Agatha1.epub  Detective and Mystery   \n995    pg98DickensTaleCities.epub               Literary   \n\n                  Author_Name  \n0    Stevenson| Burton Egbert  \n1                James| Henry  \n2            Garvice| Charles  \n3    White| William Patterson  \n4       Gallienne| Richard Le  \n..                        ...  \n991          Dickens| Charles  \n992          Dickens| Charles  \n993             Connan| Doyle  \n994          Christie| Agatha  \n995          Dickens| Charles  \n\n[996 rows x 4 columns]",
      "text/html": "<div>\n<style scoped>\n    .dataframe tbody tr th:only-of-type {\n        vertical-align: middle;\n    }\n\n    .dataframe tbody tr th {\n        vertical-align: top;\n    }\n\n    .dataframe thead th {\n        text-align: right;\n    }\n</style>\n<table border=\"1\" class=\"dataframe\">\n  <thead>\n    <tr style=\"text-align: right;\">\n      <th></th>\n      <th>Book_Name</th>\n      <th>book_id</th>\n      <th>guten_genre</th>\n      <th>Author_Name</th>\n    </tr>\n  </thead>\n  <tbody>\n    <tr>\n      <th>0</th>\n      <td>The Mystery of the Boule Cabinet: A Detective ...</td>\n      <td>pg10067.epub</td>\n      <td>Detective and Mystery</td>\n      <td>Stevenson| Burton Egbert</td>\n    </tr>\n    <tr>\n      <th>1</th>\n      <td>The Pupil</td>\n      <td>pg1032.epub</td>\n      <td>Literary</td>\n      <td>James| Henry</td>\n    </tr>\n    <tr>\n      <th>2</th>\n      <td>At Love's Cost</td>\n      <td>pg10379.epub</td>\n      <td>Literary</td>\n      <td>Garvice| Charles</td>\n    </tr>\n    <tr>\n      <th>3</th>\n      <td>The Heart of the Range</td>\n      <td>pg10473.epub</td>\n      <td>Western Stories</td>\n      <td>White| William Patterson</td>\n    </tr>\n    <tr>\n      <th>4</th>\n      <td>The Worshipper of the Image</td>\n      <td>pg10812.epub</td>\n      <td>Literary</td>\n      <td>Gallienne| Richard Le</td>\n    </tr>\n    <tr>\n      <th>...</th>\n      <td>...</td>\n      <td>...</td>\n      <td>...</td>\n      <td>...</td>\n    </tr>\n    <tr>\n      <th>991</th>\n      <td>David Copperfield</td>\n      <td>pg766DickensDavidCopfld.epub</td>\n      <td>Literary</td>\n      <td>Dickens| Charles</td>\n    </tr>\n    <tr>\n      <th>992</th>\n      <td>Hard Times</td>\n      <td>pg786DickensHardTimes.epub</td>\n      <td>Literary</td>\n      <td>Dickens| Charles</td>\n    </tr>\n    <tr>\n      <th>993</th>\n      <td>Memoirs of Shelock Holmes</td>\n      <td>pg834DoyleMemoirsSherlk.epub</td>\n      <td>Detective and Mystery</td>\n      <td>Connan| Doyle</td>\n    </tr>\n    <tr>\n      <th>994</th>\n      <td>The Mysterious Affair at Styles</td>\n      <td>pg863Agatha1.epub</td>\n      <td>Detective and Mystery</td>\n      <td>Christie| Agatha</td>\n    </tr>\n    <tr>\n      <th>995</th>\n      <td>A Tale of Two Cities</td>\n      <td>pg98DickensTaleCities.epub</td>\n      <td>Literary</td>\n      <td>Dickens| Charles</td>\n    </tr>\n  </tbody>\n</table>\n<p>996 rows × 4 columns</p>\n</div>"
     },
     "metadata": {},
     "execution_count": 3
    }
   ],
   "source": [
    "import chardet\n",
    "\n",
    "address = \"E:\\DKE related\\Studies\\Second Semester\\ATiML\\Codes\\Semester Project\\Gutenberg_English_Fiction_1k\\master996.csv\"\n",
    "\n",
    "with open(address, 'rb') as rawdata:\n",
    "    result = chardet.detect(rawdata.read(100000))\n",
    "\n",
    "pd.set_option('display.max_rows', 500)\n",
    "df = pd.read_csv(address, sep=\";\", encoding=result.get('encoding'))\n",
    "df"
   ]
  },
  {
   "cell_type": "code",
   "execution_count": 11,
   "metadata": {},
   "outputs": [
    {
     "output_type": "execute_result",
     "data": {
      "text/plain": "Literary                       794\nDetective and Mystery          111\nSea and Adventure               36\nLove and Romance                18\nWestern Stories                 18\nGhost and Horror                 6\nHumorous and Wit and Satire      6\nChristmas Stories                5\nAllegories                       2\nName: guten_genre, dtype: int64"
     },
     "metadata": {},
     "execution_count": 11
    }
   ],
   "source": [
    "df.guten_genre.value_counts()"
   ]
  },
  {
   "cell_type": "code",
   "execution_count": 28,
   "metadata": {},
   "outputs": [
    {
     "output_type": "execute_result",
     "data": {
      "text/plain": "                                            Book_Name       book_id  \\\n1                                           The Pupil   pg1032.epub   \n2                                      At Love's Cost  pg10379.epub   \n4                         The Worshipper of the Image  pg10812.epub   \n5   The Book-Bills of Narcissus - An Account Rende...  pg10826.epub   \n7                              Joe Burke's Last Stand  pg11004.epub   \n8                                                 O+F  pg11005.epub   \n9                              Polly and the Princess  pg11259.epub   \n10     Maggie Miller: The Story of Old Hagar's Secret  pg11280.epub   \n11                                  The Obstacle Race  pg11520.epub   \n12                            From out the Vasty Deep  pg11581.epub   \n13                   Fate Knocks at the Door: A Novel  pg11655.epub   \n14                       The Torrent (Entre Naranjos)  pg11674.epub   \n16                                     The Coxon Fund   pg1193.epub   \n17                      The Mystery of Monastery Farm  pg11931.epub   \n18                                  Wife in Name Only  pg11970.epub   \n19                        Darrel of the Blessed Isles  pg12102.epub   \n21                       The Story of Bessie Costrell  pg12181.epub   \n22                          Fated to Be Free: A Novel  pg12303.epub   \n23                                     Nancy: A Novel  pg12304.epub   \n24                               The Top of the World  pg12360.epub   \n25                                     The Reason Why  pg12450.epub   \n26                           Miriam Monfort - A Novel  pg12453.epub   \n27                                  A Perilous Secret  pg12470.epub   \n28                            Deadham Hard: A Romance  pg12520.epub   \n29                                      A Simple Soul   pg1253.epub   \n30                               A Spinner in the Sun  pg12672.epub   \n31                     The Autobiography of a Slander   pg1273.epub   \n32       Tokyo to Tijuana: Gabriele Departing America  pg12733.epub   \n33  The Coquette's Victim - Everyday Life Library ...  pg12886.epub   \n34                   The Song of the Blood-Red Flower  pg12935.epub   \n35                         People Like That - A Novel  pg12972.epub   \n36                             The Lady of Big Shanty  pg12989.epub   \n37                                   The Philanderers  pg13057.epub   \n38              Coralie - Everyday Life Library No. 2  pg13162.epub   \n39                       Broken to the Plow - A Novel  pg13178.epub   \n40                            The Wild Olive: A Novel  pg13212.epub   \n41                        The American Baron: A Novel  pg13257.epub   \n42                                   Out of the Ashes  pg13273.epub   \n43                               The Light That Lures  pg13312.epub   \n44                                    Miss Bretherton  pg13432.epub   \n45                                             Aylwin  pg13454.epub   \n46    The Collected Works of Ambrose Bierce- Volume 1  pg13541.epub   \n47  The Son of Clemenceau- A Novel of Modern Love ...  pg13572.epub   \n48                 One Day  A sequel to 'Three Weeks'  pg13776.epub   \n49                            The Port of Missing Men  pg13913.epub   \n52                                       V. V.'s Eyes  pg13985.epub   \n55                                    If Winter Comes  pg14145.epub   \n56                                 Going into Society   pg1422.epub   \n57                                             Flames  pg14253.epub   \n58                                    Queed - A Novel  pg14303.epub   \n\n   guten_genre                 Author_Name  \n1     Literary                James| Henry  \n2     Literary            Garvice| Charles  \n4     Literary       Gallienne| Richard Le  \n5     Literary       Gallienne| Richard Le  \n7     Literary      Wetterau| John Moncure  \n8     Literary      Wetterau| John Moncure  \n9     Literary               Dowd| Emma C.  \n10    Literary           Holmes| Mary Jane  \n11    Literary              Dell| Ethel M.  \n12    Literary       Lowndes| Marie Belloc  \n13    Literary     Comfort| Will Levington  \n14    Literary        Ibez| Vicente Blasco  \n16    Literary                James| Henry  \n17    Literary               Naylor| H. R.  \n18    Literary         Brame| Charlotte M.  \n19    Literary           Bacheller| Irving  \n21    Literary          Ward| Mrs. Humphry  \n22    Literary               Ingelow| Jean  \n23    Literary            Broughton| Rhoda  \n24    Literary              Dell| Ethel M.  \n25    Literary                Glyn| Elinor  \n26    Literary      Warfield| Catherine A.  \n27    Literary              Reade| Charles  \n28    Literary                Malet| Lucas  \n29    Literary           Flaubert| Gustave  \n30    Literary                Reed| Myrtle  \n31    Literary                 Lyall| Edna  \n32    Literary  Sills| Steven David Justin  \n33    Literary          Brame| Charlotte M  \n34    Literary       Linnankoski| Johannes  \n35    Literary        Bosher| Kate Langley  \n36    Literary          Smith| F. Berkeley  \n37    Literary             Mason| A. E. W.  \n38    Literary         Brame| Charlotte M.  \n39    Literary     Dobie| Charles Caldwell  \n40    Literary                 King| Basil  \n41    Literary             Mille| James De  \n42    Literary  Grant| Ethel Watts Mumford  \n43    Literary        Brebner| Percy James  \n44    Literary          Ward| Mrs. Humphry  \n45    Literary      Watts-Dunton| Theodore  \n46    Literary             Bierce| Ambrose  \n47    Literary            Dumas| Alexandre  \n48    Literary                 Elinor Glyn  \n49    Literary         Nicholson| Meredith  \n52    Literary      Harrison| Henry Sydnor  \n55    Literary        Hutchinson| A. S. M.  \n56    Literary            Dickens| Charles  \n57    Literary             Hichens| Robert  \n58    Literary      Harrison| Henry Sydnor  ",
      "text/html": "<div>\n<style scoped>\n    .dataframe tbody tr th:only-of-type {\n        vertical-align: middle;\n    }\n\n    .dataframe tbody tr th {\n        vertical-align: top;\n    }\n\n    .dataframe thead th {\n        text-align: right;\n    }\n</style>\n<table border=\"1\" class=\"dataframe\">\n  <thead>\n    <tr style=\"text-align: right;\">\n      <th></th>\n      <th>Book_Name</th>\n      <th>book_id</th>\n      <th>guten_genre</th>\n      <th>Author_Name</th>\n    </tr>\n  </thead>\n  <tbody>\n    <tr>\n      <th>1</th>\n      <td>The Pupil</td>\n      <td>pg1032.epub</td>\n      <td>Literary</td>\n      <td>James| Henry</td>\n    </tr>\n    <tr>\n      <th>2</th>\n      <td>At Love's Cost</td>\n      <td>pg10379.epub</td>\n      <td>Literary</td>\n      <td>Garvice| Charles</td>\n    </tr>\n    <tr>\n      <th>4</th>\n      <td>The Worshipper of the Image</td>\n      <td>pg10812.epub</td>\n      <td>Literary</td>\n      <td>Gallienne| Richard Le</td>\n    </tr>\n    <tr>\n      <th>5</th>\n      <td>The Book-Bills of Narcissus - An Account Rende...</td>\n      <td>pg10826.epub</td>\n      <td>Literary</td>\n      <td>Gallienne| Richard Le</td>\n    </tr>\n    <tr>\n      <th>7</th>\n      <td>Joe Burke's Last Stand</td>\n      <td>pg11004.epub</td>\n      <td>Literary</td>\n      <td>Wetterau| John Moncure</td>\n    </tr>\n    <tr>\n      <th>8</th>\n      <td>O+F</td>\n      <td>pg11005.epub</td>\n      <td>Literary</td>\n      <td>Wetterau| John Moncure</td>\n    </tr>\n    <tr>\n      <th>9</th>\n      <td>Polly and the Princess</td>\n      <td>pg11259.epub</td>\n      <td>Literary</td>\n      <td>Dowd| Emma C.</td>\n    </tr>\n    <tr>\n      <th>10</th>\n      <td>Maggie Miller: The Story of Old Hagar's Secret</td>\n      <td>pg11280.epub</td>\n      <td>Literary</td>\n      <td>Holmes| Mary Jane</td>\n    </tr>\n    <tr>\n      <th>11</th>\n      <td>The Obstacle Race</td>\n      <td>pg11520.epub</td>\n      <td>Literary</td>\n      <td>Dell| Ethel M.</td>\n    </tr>\n    <tr>\n      <th>12</th>\n      <td>From out the Vasty Deep</td>\n      <td>pg11581.epub</td>\n      <td>Literary</td>\n      <td>Lowndes| Marie Belloc</td>\n    </tr>\n    <tr>\n      <th>13</th>\n      <td>Fate Knocks at the Door: A Novel</td>\n      <td>pg11655.epub</td>\n      <td>Literary</td>\n      <td>Comfort| Will Levington</td>\n    </tr>\n    <tr>\n      <th>14</th>\n      <td>The Torrent (Entre Naranjos)</td>\n      <td>pg11674.epub</td>\n      <td>Literary</td>\n      <td>Ibez| Vicente Blasco</td>\n    </tr>\n    <tr>\n      <th>16</th>\n      <td>The Coxon Fund</td>\n      <td>pg1193.epub</td>\n      <td>Literary</td>\n      <td>James| Henry</td>\n    </tr>\n    <tr>\n      <th>17</th>\n      <td>The Mystery of Monastery Farm</td>\n      <td>pg11931.epub</td>\n      <td>Literary</td>\n      <td>Naylor| H. R.</td>\n    </tr>\n    <tr>\n      <th>18</th>\n      <td>Wife in Name Only</td>\n      <td>pg11970.epub</td>\n      <td>Literary</td>\n      <td>Brame| Charlotte M.</td>\n    </tr>\n    <tr>\n      <th>19</th>\n      <td>Darrel of the Blessed Isles</td>\n      <td>pg12102.epub</td>\n      <td>Literary</td>\n      <td>Bacheller| Irving</td>\n    </tr>\n    <tr>\n      <th>21</th>\n      <td>The Story of Bessie Costrell</td>\n      <td>pg12181.epub</td>\n      <td>Literary</td>\n      <td>Ward| Mrs. Humphry</td>\n    </tr>\n    <tr>\n      <th>22</th>\n      <td>Fated to Be Free: A Novel</td>\n      <td>pg12303.epub</td>\n      <td>Literary</td>\n      <td>Ingelow| Jean</td>\n    </tr>\n    <tr>\n      <th>23</th>\n      <td>Nancy: A Novel</td>\n      <td>pg12304.epub</td>\n      <td>Literary</td>\n      <td>Broughton| Rhoda</td>\n    </tr>\n    <tr>\n      <th>24</th>\n      <td>The Top of the World</td>\n      <td>pg12360.epub</td>\n      <td>Literary</td>\n      <td>Dell| Ethel M.</td>\n    </tr>\n    <tr>\n      <th>25</th>\n      <td>The Reason Why</td>\n      <td>pg12450.epub</td>\n      <td>Literary</td>\n      <td>Glyn| Elinor</td>\n    </tr>\n    <tr>\n      <th>26</th>\n      <td>Miriam Monfort - A Novel</td>\n      <td>pg12453.epub</td>\n      <td>Literary</td>\n      <td>Warfield| Catherine A.</td>\n    </tr>\n    <tr>\n      <th>27</th>\n      <td>A Perilous Secret</td>\n      <td>pg12470.epub</td>\n      <td>Literary</td>\n      <td>Reade| Charles</td>\n    </tr>\n    <tr>\n      <th>28</th>\n      <td>Deadham Hard: A Romance</td>\n      <td>pg12520.epub</td>\n      <td>Literary</td>\n      <td>Malet| Lucas</td>\n    </tr>\n    <tr>\n      <th>29</th>\n      <td>A Simple Soul</td>\n      <td>pg1253.epub</td>\n      <td>Literary</td>\n      <td>Flaubert| Gustave</td>\n    </tr>\n    <tr>\n      <th>30</th>\n      <td>A Spinner in the Sun</td>\n      <td>pg12672.epub</td>\n      <td>Literary</td>\n      <td>Reed| Myrtle</td>\n    </tr>\n    <tr>\n      <th>31</th>\n      <td>The Autobiography of a Slander</td>\n      <td>pg1273.epub</td>\n      <td>Literary</td>\n      <td>Lyall| Edna</td>\n    </tr>\n    <tr>\n      <th>32</th>\n      <td>Tokyo to Tijuana: Gabriele Departing America</td>\n      <td>pg12733.epub</td>\n      <td>Literary</td>\n      <td>Sills| Steven David Justin</td>\n    </tr>\n    <tr>\n      <th>33</th>\n      <td>The Coquette's Victim - Everyday Life Library ...</td>\n      <td>pg12886.epub</td>\n      <td>Literary</td>\n      <td>Brame| Charlotte M</td>\n    </tr>\n    <tr>\n      <th>34</th>\n      <td>The Song of the Blood-Red Flower</td>\n      <td>pg12935.epub</td>\n      <td>Literary</td>\n      <td>Linnankoski| Johannes</td>\n    </tr>\n    <tr>\n      <th>35</th>\n      <td>People Like That - A Novel</td>\n      <td>pg12972.epub</td>\n      <td>Literary</td>\n      <td>Bosher| Kate Langley</td>\n    </tr>\n    <tr>\n      <th>36</th>\n      <td>The Lady of Big Shanty</td>\n      <td>pg12989.epub</td>\n      <td>Literary</td>\n      <td>Smith| F. Berkeley</td>\n    </tr>\n    <tr>\n      <th>37</th>\n      <td>The Philanderers</td>\n      <td>pg13057.epub</td>\n      <td>Literary</td>\n      <td>Mason| A. E. W.</td>\n    </tr>\n    <tr>\n      <th>38</th>\n      <td>Coralie - Everyday Life Library No. 2</td>\n      <td>pg13162.epub</td>\n      <td>Literary</td>\n      <td>Brame| Charlotte M.</td>\n    </tr>\n    <tr>\n      <th>39</th>\n      <td>Broken to the Plow - A Novel</td>\n      <td>pg13178.epub</td>\n      <td>Literary</td>\n      <td>Dobie| Charles Caldwell</td>\n    </tr>\n    <tr>\n      <th>40</th>\n      <td>The Wild Olive: A Novel</td>\n      <td>pg13212.epub</td>\n      <td>Literary</td>\n      <td>King| Basil</td>\n    </tr>\n    <tr>\n      <th>41</th>\n      <td>The American Baron: A Novel</td>\n      <td>pg13257.epub</td>\n      <td>Literary</td>\n      <td>Mille| James De</td>\n    </tr>\n    <tr>\n      <th>42</th>\n      <td>Out of the Ashes</td>\n      <td>pg13273.epub</td>\n      <td>Literary</td>\n      <td>Grant| Ethel Watts Mumford</td>\n    </tr>\n    <tr>\n      <th>43</th>\n      <td>The Light That Lures</td>\n      <td>pg13312.epub</td>\n      <td>Literary</td>\n      <td>Brebner| Percy James</td>\n    </tr>\n    <tr>\n      <th>44</th>\n      <td>Miss Bretherton</td>\n      <td>pg13432.epub</td>\n      <td>Literary</td>\n      <td>Ward| Mrs. Humphry</td>\n    </tr>\n    <tr>\n      <th>45</th>\n      <td>Aylwin</td>\n      <td>pg13454.epub</td>\n      <td>Literary</td>\n      <td>Watts-Dunton| Theodore</td>\n    </tr>\n    <tr>\n      <th>46</th>\n      <td>The Collected Works of Ambrose Bierce- Volume 1</td>\n      <td>pg13541.epub</td>\n      <td>Literary</td>\n      <td>Bierce| Ambrose</td>\n    </tr>\n    <tr>\n      <th>47</th>\n      <td>The Son of Clemenceau- A Novel of Modern Love ...</td>\n      <td>pg13572.epub</td>\n      <td>Literary</td>\n      <td>Dumas| Alexandre</td>\n    </tr>\n    <tr>\n      <th>48</th>\n      <td>One Day  A sequel to 'Three Weeks'</td>\n      <td>pg13776.epub</td>\n      <td>Literary</td>\n      <td>Elinor Glyn</td>\n    </tr>\n    <tr>\n      <th>49</th>\n      <td>The Port of Missing Men</td>\n      <td>pg13913.epub</td>\n      <td>Literary</td>\n      <td>Nicholson| Meredith</td>\n    </tr>\n    <tr>\n      <th>52</th>\n      <td>V. V.'s Eyes</td>\n      <td>pg13985.epub</td>\n      <td>Literary</td>\n      <td>Harrison| Henry Sydnor</td>\n    </tr>\n    <tr>\n      <th>55</th>\n      <td>If Winter Comes</td>\n      <td>pg14145.epub</td>\n      <td>Literary</td>\n      <td>Hutchinson| A. S. M.</td>\n    </tr>\n    <tr>\n      <th>56</th>\n      <td>Going into Society</td>\n      <td>pg1422.epub</td>\n      <td>Literary</td>\n      <td>Dickens| Charles</td>\n    </tr>\n    <tr>\n      <th>57</th>\n      <td>Flames</td>\n      <td>pg14253.epub</td>\n      <td>Literary</td>\n      <td>Hichens| Robert</td>\n    </tr>\n    <tr>\n      <th>58</th>\n      <td>Queed - A Novel</td>\n      <td>pg14303.epub</td>\n      <td>Literary</td>\n      <td>Harrison| Henry Sydnor</td>\n    </tr>\n  </tbody>\n</table>\n</div>"
     },
     "metadata": {},
     "execution_count": 28
    }
   ],
   "source": [
    "df[df.guten_genre == 'Literary'].head(50)"
   ]
  },
  {
   "cell_type": "code",
   "execution_count": 26,
   "metadata": {},
   "outputs": [
    {
     "output_type": "execute_result",
     "data": {
      "text/plain": "500"
     },
     "metadata": {},
     "execution_count": 26
    }
   ],
   "source": [
    "pd.options.display.max_rows"
   ]
  },
  {
   "cell_type": "code",
   "execution_count": 7,
   "metadata": {},
   "outputs": [
    {
     "output_type": "execute_result",
     "data": {
      "text/plain": "(747, 249, 747, 249)"
     },
     "metadata": {},
     "execution_count": 7
    }
   ],
   "source": []
  },
  {
   "cell_type": "code",
   "execution_count": 61,
   "metadata": {},
   "outputs": [
    {
     "output_type": "execute_result",
     "data": {
      "text/plain": "Literary                       794\nDetective and Mystery          111\nSea and Adventure               36\nWestern Stories                 18\nLove and Romance                18\nGhost and Horror                 6\nHumorous and Wit and Satire      6\nChristmas Stories                5\nAllegories                       2\nName: guten_genre, dtype: int64"
     },
     "metadata": {},
     "execution_count": 61
    }
   ],
   "source": [
    "df.guten_genre.value_counts()"
   ]
  },
  {
   "cell_type": "code",
   "execution_count": 62,
   "metadata": {},
   "outputs": [],
   "source": [
    "literary_15 = df[df.guten_genre == \"Literary\"].sample(n=15)\n",
    "mystery_15 = df[df.guten_genre == \"Detective and Mystery\"].sample(n=15)\n",
    "adventure_15 = df[df.guten_genre == \"Sea and Adventure\"].sample(n=15)\n",
    "western_15 = df[df.guten_genre == \"Western Stories\"].sample(n=15)\n",
    "romance_15 = df[df.guten_genre == \"Love and Romance\"].sample(n=15)\n",
    "horror_6 = df[df.guten_genre == \"Ghost and Horror\"]\n",
    "humorous_6 = df[df.guten_genre == \"Humorous and Wit and Satire\"]\n",
    "christmas_5 = df[df.guten_genre == \"Christmas Stories\"]\n",
    "allegories_2 = df[df.guten_genre == \"Allegories\"]"
   ]
  },
  {
   "cell_type": "code",
   "execution_count": 76,
   "metadata": {},
   "outputs": [
    {
     "output_type": "error",
     "ename": "ValueError",
     "evalue": "The truth value of a DataFrame is ambiguous. Use a.empty, a.bool(), a.item(), a.any() or a.all().",
     "traceback": [
      "\u001b[1;31m---------------------------------------------------------------------------\u001b[0m",
      "\u001b[1;31mValueError\u001b[0m                                Traceback (most recent call last)",
      "\u001b[1;32m<ipython-input-76-8fe63edba1c0>\u001b[0m in \u001b[0;36m<module>\u001b[1;34m\u001b[0m\n\u001b[0;32m      1\u001b[0m \u001b[0mmodified_df\u001b[0m \u001b[1;33m=\u001b[0m \u001b[0mliterary_15\u001b[0m\u001b[1;33m\u001b[0m\u001b[1;33m\u001b[0m\u001b[0m\n\u001b[1;32m----> 2\u001b[1;33m \u001b[0mmodified_df\u001b[0m \u001b[1;33m=\u001b[0m \u001b[0mmodified_df\u001b[0m\u001b[1;33m.\u001b[0m\u001b[0mappend\u001b[0m\u001b[1;33m(\u001b[0m\u001b[0mmystery_15\u001b[0m\u001b[1;33m,\u001b[0m \u001b[0madventure_15\u001b[0m\u001b[1;33m)\u001b[0m\u001b[1;33m\u001b[0m\u001b[1;33m\u001b[0m\u001b[0m\n\u001b[0m\u001b[0;32m      3\u001b[0m \u001b[1;33m\u001b[0m\u001b[0m\n\u001b[0;32m      4\u001b[0m \u001b[0mmodified_df\u001b[0m\u001b[1;33m.\u001b[0m\u001b[0mshape\u001b[0m\u001b[1;33m\u001b[0m\u001b[1;33m\u001b[0m\u001b[0m\n",
      "\u001b[1;32mC:\\ProgramData\\Anaconda3\\lib\\site-packages\\pandas\\core\\frame.py\u001b[0m in \u001b[0;36mappend\u001b[1;34m(self, other, ignore_index, verify_integrity, sort)\u001b[0m\n\u001b[0;32m   7083\u001b[0m             \u001b[0mignore_index\u001b[0m\u001b[1;33m=\u001b[0m\u001b[0mignore_index\u001b[0m\u001b[1;33m,\u001b[0m\u001b[1;33m\u001b[0m\u001b[1;33m\u001b[0m\u001b[0m\n\u001b[0;32m   7084\u001b[0m             \u001b[0mverify_integrity\u001b[0m\u001b[1;33m=\u001b[0m\u001b[0mverify_integrity\u001b[0m\u001b[1;33m,\u001b[0m\u001b[1;33m\u001b[0m\u001b[1;33m\u001b[0m\u001b[0m\n\u001b[1;32m-> 7085\u001b[1;33m             \u001b[0msort\u001b[0m\u001b[1;33m=\u001b[0m\u001b[0msort\u001b[0m\u001b[1;33m,\u001b[0m\u001b[1;33m\u001b[0m\u001b[1;33m\u001b[0m\u001b[0m\n\u001b[0m\u001b[0;32m   7086\u001b[0m         )\n\u001b[0;32m   7087\u001b[0m \u001b[1;33m\u001b[0m\u001b[0m\n",
      "\u001b[1;32mC:\\ProgramData\\Anaconda3\\lib\\site-packages\\pandas\\core\\reshape\\concat.py\u001b[0m in \u001b[0;36mconcat\u001b[1;34m(objs, axis, join, ignore_index, keys, levels, names, verify_integrity, sort, copy)\u001b[0m\n\u001b[0;32m    279\u001b[0m         \u001b[0mverify_integrity\u001b[0m\u001b[1;33m=\u001b[0m\u001b[0mverify_integrity\u001b[0m\u001b[1;33m,\u001b[0m\u001b[1;33m\u001b[0m\u001b[1;33m\u001b[0m\u001b[0m\n\u001b[0;32m    280\u001b[0m         \u001b[0mcopy\u001b[0m\u001b[1;33m=\u001b[0m\u001b[0mcopy\u001b[0m\u001b[1;33m,\u001b[0m\u001b[1;33m\u001b[0m\u001b[1;33m\u001b[0m\u001b[0m\n\u001b[1;32m--> 281\u001b[1;33m         \u001b[0msort\u001b[0m\u001b[1;33m=\u001b[0m\u001b[0msort\u001b[0m\u001b[1;33m,\u001b[0m\u001b[1;33m\u001b[0m\u001b[1;33m\u001b[0m\u001b[0m\n\u001b[0m\u001b[0;32m    282\u001b[0m     )\n\u001b[0;32m    283\u001b[0m \u001b[1;33m\u001b[0m\u001b[0m\n",
      "\u001b[1;32mC:\\ProgramData\\Anaconda3\\lib\\site-packages\\pandas\\core\\reshape\\concat.py\u001b[0m in \u001b[0;36m__init__\u001b[1;34m(self, objs, axis, join, keys, levels, names, ignore_index, verify_integrity, copy, sort)\u001b[0m\n\u001b[0;32m    450\u001b[0m         \u001b[0mself\u001b[0m\u001b[1;33m.\u001b[0m\u001b[0mcopy\u001b[0m \u001b[1;33m=\u001b[0m \u001b[0mcopy\u001b[0m\u001b[1;33m\u001b[0m\u001b[1;33m\u001b[0m\u001b[0m\n\u001b[0;32m    451\u001b[0m \u001b[1;33m\u001b[0m\u001b[0m\n\u001b[1;32m--> 452\u001b[1;33m         \u001b[0mself\u001b[0m\u001b[1;33m.\u001b[0m\u001b[0mnew_axes\u001b[0m \u001b[1;33m=\u001b[0m \u001b[0mself\u001b[0m\u001b[1;33m.\u001b[0m\u001b[0m_get_new_axes\u001b[0m\u001b[1;33m(\u001b[0m\u001b[1;33m)\u001b[0m\u001b[1;33m\u001b[0m\u001b[1;33m\u001b[0m\u001b[0m\n\u001b[0m\u001b[0;32m    453\u001b[0m \u001b[1;33m\u001b[0m\u001b[0m\n\u001b[0;32m    454\u001b[0m     \u001b[1;32mdef\u001b[0m \u001b[0mget_result\u001b[0m\u001b[1;33m(\u001b[0m\u001b[0mself\u001b[0m\u001b[1;33m)\u001b[0m\u001b[1;33m:\u001b[0m\u001b[1;33m\u001b[0m\u001b[1;33m\u001b[0m\u001b[0m\n",
      "\u001b[1;32mC:\\ProgramData\\Anaconda3\\lib\\site-packages\\pandas\\core\\reshape\\concat.py\u001b[0m in \u001b[0;36m_get_new_axes\u001b[1;34m(self)\u001b[0m\n\u001b[0;32m    515\u001b[0m         return [\n\u001b[0;32m    516\u001b[0m             \u001b[0mself\u001b[0m\u001b[1;33m.\u001b[0m\u001b[0m_get_concat_axis\u001b[0m\u001b[1;33m(\u001b[0m\u001b[1;33m)\u001b[0m \u001b[1;32mif\u001b[0m \u001b[0mi\u001b[0m \u001b[1;33m==\u001b[0m \u001b[0mself\u001b[0m\u001b[1;33m.\u001b[0m\u001b[0maxis\u001b[0m \u001b[1;32melse\u001b[0m \u001b[0mself\u001b[0m\u001b[1;33m.\u001b[0m\u001b[0m_get_comb_axis\u001b[0m\u001b[1;33m(\u001b[0m\u001b[0mi\u001b[0m\u001b[1;33m)\u001b[0m\u001b[1;33m\u001b[0m\u001b[1;33m\u001b[0m\u001b[0m\n\u001b[1;32m--> 517\u001b[1;33m             \u001b[1;32mfor\u001b[0m \u001b[0mi\u001b[0m \u001b[1;32min\u001b[0m \u001b[0mrange\u001b[0m\u001b[1;33m(\u001b[0m\u001b[0mndim\u001b[0m\u001b[1;33m)\u001b[0m\u001b[1;33m\u001b[0m\u001b[1;33m\u001b[0m\u001b[0m\n\u001b[0m\u001b[0;32m    518\u001b[0m         ]\n\u001b[0;32m    519\u001b[0m \u001b[1;33m\u001b[0m\u001b[0m\n",
      "\u001b[1;32mC:\\ProgramData\\Anaconda3\\lib\\site-packages\\pandas\\core\\reshape\\concat.py\u001b[0m in \u001b[0;36m<listcomp>\u001b[1;34m(.0)\u001b[0m\n\u001b[0;32m    515\u001b[0m         return [\n\u001b[0;32m    516\u001b[0m             \u001b[0mself\u001b[0m\u001b[1;33m.\u001b[0m\u001b[0m_get_concat_axis\u001b[0m\u001b[1;33m(\u001b[0m\u001b[1;33m)\u001b[0m \u001b[1;32mif\u001b[0m \u001b[0mi\u001b[0m \u001b[1;33m==\u001b[0m \u001b[0mself\u001b[0m\u001b[1;33m.\u001b[0m\u001b[0maxis\u001b[0m \u001b[1;32melse\u001b[0m \u001b[0mself\u001b[0m\u001b[1;33m.\u001b[0m\u001b[0m_get_comb_axis\u001b[0m\u001b[1;33m(\u001b[0m\u001b[0mi\u001b[0m\u001b[1;33m)\u001b[0m\u001b[1;33m\u001b[0m\u001b[1;33m\u001b[0m\u001b[0m\n\u001b[1;32m--> 517\u001b[1;33m             \u001b[1;32mfor\u001b[0m \u001b[0mi\u001b[0m \u001b[1;32min\u001b[0m \u001b[0mrange\u001b[0m\u001b[1;33m(\u001b[0m\u001b[0mndim\u001b[0m\u001b[1;33m)\u001b[0m\u001b[1;33m\u001b[0m\u001b[1;33m\u001b[0m\u001b[0m\n\u001b[0m\u001b[0;32m    518\u001b[0m         ]\n\u001b[0;32m    519\u001b[0m \u001b[1;33m\u001b[0m\u001b[0m\n",
      "\u001b[1;32mC:\\ProgramData\\Anaconda3\\lib\\site-packages\\pandas\\core\\reshape\\concat.py\u001b[0m in \u001b[0;36m_get_concat_axis\u001b[1;34m(self)\u001b[0m\n\u001b[0;32m    559\u001b[0m             \u001b[0mindexes\u001b[0m \u001b[1;33m=\u001b[0m \u001b[1;33m[\u001b[0m\u001b[0mx\u001b[0m\u001b[1;33m.\u001b[0m\u001b[0m_data\u001b[0m\u001b[1;33m.\u001b[0m\u001b[0maxes\u001b[0m\u001b[1;33m[\u001b[0m\u001b[0mself\u001b[0m\u001b[1;33m.\u001b[0m\u001b[0maxis\u001b[0m\u001b[1;33m]\u001b[0m \u001b[1;32mfor\u001b[0m \u001b[0mx\u001b[0m \u001b[1;32min\u001b[0m \u001b[0mself\u001b[0m\u001b[1;33m.\u001b[0m\u001b[0mobjs\u001b[0m\u001b[1;33m]\u001b[0m\u001b[1;33m\u001b[0m\u001b[1;33m\u001b[0m\u001b[0m\n\u001b[0;32m    560\u001b[0m \u001b[1;33m\u001b[0m\u001b[0m\n\u001b[1;32m--> 561\u001b[1;33m         \u001b[1;32mif\u001b[0m \u001b[0mself\u001b[0m\u001b[1;33m.\u001b[0m\u001b[0mignore_index\u001b[0m\u001b[1;33m:\u001b[0m\u001b[1;33m\u001b[0m\u001b[1;33m\u001b[0m\u001b[0m\n\u001b[0m\u001b[0;32m    562\u001b[0m             \u001b[0midx\u001b[0m \u001b[1;33m=\u001b[0m \u001b[0mibase\u001b[0m\u001b[1;33m.\u001b[0m\u001b[0mdefault_index\u001b[0m\u001b[1;33m(\u001b[0m\u001b[0msum\u001b[0m\u001b[1;33m(\u001b[0m\u001b[0mlen\u001b[0m\u001b[1;33m(\u001b[0m\u001b[0mi\u001b[0m\u001b[1;33m)\u001b[0m \u001b[1;32mfor\u001b[0m \u001b[0mi\u001b[0m \u001b[1;32min\u001b[0m \u001b[0mindexes\u001b[0m\u001b[1;33m)\u001b[0m\u001b[1;33m)\u001b[0m\u001b[1;33m\u001b[0m\u001b[1;33m\u001b[0m\u001b[0m\n\u001b[0;32m    563\u001b[0m             \u001b[1;32mreturn\u001b[0m \u001b[0midx\u001b[0m\u001b[1;33m\u001b[0m\u001b[1;33m\u001b[0m\u001b[0m\n",
      "\u001b[1;32mC:\\ProgramData\\Anaconda3\\lib\\site-packages\\pandas\\core\\generic.py\u001b[0m in \u001b[0;36m__nonzero__\u001b[1;34m(self)\u001b[0m\n\u001b[0;32m   1477\u001b[0m     \u001b[1;32mdef\u001b[0m \u001b[0m__nonzero__\u001b[0m\u001b[1;33m(\u001b[0m\u001b[0mself\u001b[0m\u001b[1;33m)\u001b[0m\u001b[1;33m:\u001b[0m\u001b[1;33m\u001b[0m\u001b[1;33m\u001b[0m\u001b[0m\n\u001b[0;32m   1478\u001b[0m         raise ValueError(\n\u001b[1;32m-> 1479\u001b[1;33m             \u001b[1;34mf\"The truth value of a {type(self).__name__} is ambiguous. \"\u001b[0m\u001b[1;33m\u001b[0m\u001b[1;33m\u001b[0m\u001b[0m\n\u001b[0m\u001b[0;32m   1480\u001b[0m             \u001b[1;34m\"Use a.empty, a.bool(), a.item(), a.any() or a.all().\"\u001b[0m\u001b[1;33m\u001b[0m\u001b[1;33m\u001b[0m\u001b[0m\n\u001b[0;32m   1481\u001b[0m         )\n",
      "\u001b[1;31mValueError\u001b[0m: The truth value of a DataFrame is ambiguous. Use a.empty, a.bool(), a.item(), a.any() or a.all()."
     ]
    }
   ],
   "source": [
    "modified_df = literary_15 \n",
    "modified_df = modified_df.append(mystery_15, aadventure_15)\n",
    "modified_df = modified_df.append(adventure_15)\n",
    "modified_df = modified_df.append(western_14)\n",
    "modified_df = modified_df.append(romance_13)\n",
    "modified_df = modified_df.append(horror_5)\n",
    "modified_df = modified_df.append(christmas_4)\n",
    "modified_df = modified_df.append(humorous_4)\n",
    "modified_df = modified_df.append(allegories_2) \n",
    "\n",
    "modified_df.shape"
   ]
  },
  {
   "cell_type": "code",
   "execution_count": 66,
   "metadata": {},
   "outputs": [
    {
     "output_type": "execute_result",
     "data": {
      "text/plain": "(75, 25, 75, 25)"
     },
     "metadata": {},
     "execution_count": 66
    }
   ],
   "source": [
    "from sklearn.model_selection import train_test_split\n",
    "X_train, X_test, y_train, y_test = train_test_split(modified_df.book_id, modified_df.guten_genre, test_size=0.25, random_state=42, shuffle=True, stratify=modified_df.guten_genre)\n",
    "\n",
    "len(X_train), len(X_test), len(y_train), len(y_test)"
   ]
  },
  {
   "cell_type": "code",
   "execution_count": 70,
   "metadata": {},
   "outputs": [
    {
     "output_type": "execute_result",
     "data": {
      "text/plain": "Western Stories                14\nLove and Romance               13\nDetective and Mystery          11\nLiterary                       11\nSea and Adventure              11\nHumorous and Wit and Satire     5\nGhost and Horror                5\nChristmas Stories               4\nAllegories                      1\nName: guten_genre, dtype: int64"
     },
     "metadata": {},
     "execution_count": 70
    }
   ],
   "source": [
    "y_train.value_counts()"
   ]
  },
  {
   "cell_type": "code",
   "execution_count": 69,
   "metadata": {},
   "outputs": [
    {
     "output_type": "execute_result",
     "data": {
      "text/plain": "Love and Romance               5\nDetective and Mystery          4\nWestern Stories                4\nLiterary                       4\nSea and Adventure              4\nChristmas Stories              1\nGhost and Horror               1\nHumorous and Wit and Satire    1\nAllegories                     1\nName: guten_genre, dtype: int64"
     },
     "metadata": {},
     "execution_count": 69
    }
   ],
   "source": [
    "y_test.value_counts()"
   ]
  },
  {
   "cell_type": "code",
   "execution_count": 73,
   "metadata": {},
   "outputs": [
    {
     "output_type": "execute_result",
     "data": {
      "text/plain": "<TensorSliceDataset shapes: ((), ()), types: (tf.string, tf.string)>"
     },
     "metadata": {},
     "execution_count": 73
    }
   ],
   "source": [
    "import tensorflow as tf \n",
    "\n",
    "\n",
    "dataset = tf.data.Dataset.from_tensor_slices((X_train, y_train))\n"
   ]
  },
  {
   "cell_type": "code",
   "execution_count": 74,
   "metadata": {},
   "outputs": [
    {
     "output_type": "stream",
     "name": "stdout",
     "text": "tf.Tensor(b'pg33498.epub', shape=(), dtype=string) tf.Tensor(b'Western Stories', shape=(), dtype=string)\ntf.Tensor(b'pg17359.epub', shape=(), dtype=string) tf.Tensor(b'Love and Romance', shape=(), dtype=string)\ntf.Tensor(b'pg6105.epub', shape=(), dtype=string) tf.Tensor(b'Love and Romance', shape=(), dtype=string)\ntf.Tensor(b'pg13720HermanVoyage1.epub', shape=(), dtype=string) tf.Tensor(b'Sea and Adventure', shape=(), dtype=string)\ntf.Tensor(b'pg8182.epub', shape=(), dtype=string) tf.Tensor(b'Ghost and Horror', shape=(), dtype=string)\ntf.Tensor(b'pg41247.epub', shape=(), dtype=string) tf.Tensor(b'Literary', shape=(), dtype=string)\ntf.Tensor(b'pg5662.epub', shape=(), dtype=string) tf.Tensor(b'Christmas Stories', shape=(), dtype=string)\ntf.Tensor(b'pg37710.epub', shape=(), dtype=string) tf.Tensor(b'Love and Romance', shape=(), dtype=string)\ntf.Tensor(b'pg5179.epub', shape=(), dtype=string) tf.Tensor(b'Detective and Mystery', shape=(), dtype=string)\ntf.Tensor(b'pg36159.epub', shape=(), dtype=string) tf.Tensor(b'Love and Romance', shape=(), dtype=string)\ntf.Tensor(b'pg1190.epub', shape=(), dtype=string) tf.Tensor(b'Ghost and Horror', shape=(), dtype=string)\ntf.Tensor(b'pg41315.epub', shape=(), dtype=string) tf.Tensor(b'Sea and Adventure', shape=(), dtype=string)\ntf.Tensor(b'pg1748.epub', shape=(), dtype=string) tf.Tensor(b'Detective and Mystery', shape=(), dtype=string)\ntf.Tensor(b'pg46457.epub', shape=(), dtype=string) tf.Tensor(b'Western Stories', shape=(), dtype=string)\ntf.Tensor(b'pg39905.epub', shape=(), dtype=string) tf.Tensor(b'Humorous and Wit and Satire', shape=(), dtype=string)\ntf.Tensor(b'pg32132.epub', shape=(), dtype=string) tf.Tensor(b'Literary', shape=(), dtype=string)\ntf.Tensor(b'pg4046.epub', shape=(), dtype=string) tf.Tensor(b'Ghost and Horror', shape=(), dtype=string)\ntf.Tensor(b'pg35358.epub', shape=(), dtype=string) tf.Tensor(b'Love and Romance', shape=(), dtype=string)\ntf.Tensor(b'pg44796.epub', shape=(), dtype=string) tf.Tensor(b'Christmas Stories', shape=(), dtype=string)\ntf.Tensor(b'pg42117.epub', shape=(), dtype=string) tf.Tensor(b'Western Stories', shape=(), dtype=string)\ntf.Tensor(b'pg35078.epub', shape=(), dtype=string) tf.Tensor(b'Western Stories', shape=(), dtype=string)\ntf.Tensor(b'pg44581.epub', shape=(), dtype=string) tf.Tensor(b'Ghost and Horror', shape=(), dtype=string)\ntf.Tensor(b'pg35254.epub', shape=(), dtype=string) tf.Tensor(b'Detective and Mystery', shape=(), dtype=string)\ntf.Tensor(b'pg863Agatha1.epub', shape=(), dtype=string) tf.Tensor(b'Detective and Mystery', shape=(), dtype=string)\ntf.Tensor(b'pg21944.epub', shape=(), dtype=string) tf.Tensor(b'Literary', shape=(), dtype=string)\ntf.Tensor(b'pg34567.epub', shape=(), dtype=string) tf.Tensor(b'Western Stories', shape=(), dtype=string)\ntf.Tensor(b'pg2701HermanMobyDick.epub', shape=(), dtype=string) tf.Tensor(b'Sea and Adventure', shape=(), dtype=string)\ntf.Tensor(b'pg44375.epub', shape=(), dtype=string) tf.Tensor(b'Sea and Adventure', shape=(), dtype=string)\ntf.Tensor(b'pg17047.epub', shape=(), dtype=string) tf.Tensor(b'Sea and Adventure', shape=(), dtype=string)\ntf.Tensor(b'pg17434.epub', shape=(), dtype=string) tf.Tensor(b'Literary', shape=(), dtype=string)\ntf.Tensor(b'pg4918.epub', shape=(), dtype=string) tf.Tensor(b'Love and Romance', shape=(), dtype=string)\ntf.Tensor(b'pg587.epub', shape=(), dtype=string) tf.Tensor(b'Humorous and Wit and Satire', shape=(), dtype=string)\ntf.Tensor(b'pg21887.epub', shape=(), dtype=string) tf.Tensor(b'Sea and Adventure', shape=(), dtype=string)\ntf.Tensor(b'pg36588.epub', shape=(), dtype=string) tf.Tensor(b'Sea and Adventure', shape=(), dtype=string)\ntf.Tensor(b'pg43190.epub', shape=(), dtype=string) tf.Tensor(b'Christmas Stories', shape=(), dtype=string)\ntf.Tensor(b'pg28229.epub', shape=(), dtype=string) tf.Tensor(b'Detective and Mystery', shape=(), dtype=string)\ntf.Tensor(b'pg37204.epub', shape=(), dtype=string) tf.Tensor(b'Western Stories', shape=(), dtype=string)\ntf.Tensor(b'pg6113.epub', shape=(), dtype=string) tf.Tensor(b'Love and Romance', shape=(), dtype=string)\ntf.Tensor(b'pg45401.epub', shape=(), dtype=string) tf.Tensor(b'Western Stories', shape=(), dtype=string)\ntf.Tensor(b'pg5165.epub', shape=(), dtype=string) tf.Tensor(b'Love and Romance', shape=(), dtype=string)\ntf.Tensor(b'pg23246.epub', shape=(), dtype=string) tf.Tensor(b'Literary', shape=(), dtype=string)\ntf.Tensor(b'pg6410.epub', shape=(), dtype=string) tf.Tensor(b'Humorous and Wit and Satire', shape=(), dtype=string)\ntf.Tensor(b'pg13960.epub', shape=(), dtype=string) tf.Tensor(b'Love and Romance', shape=(), dtype=string)\ntf.Tensor(b'pg45047.epub', shape=(), dtype=string) tf.Tensor(b'Western Stories', shape=(), dtype=string)\ntf.Tensor(b'pg12CarolGlassLook.epub', shape=(), dtype=string) tf.Tensor(b'Literary', shape=(), dtype=string)\ntf.Tensor(b'pg35787.epub', shape=(), dtype=string) tf.Tensor(b'Humorous and Wit and Satire', shape=(), dtype=string)\ntf.Tensor(b'pg3828.epub', shape=(), dtype=string) tf.Tensor(b'Humorous and Wit and Satire', shape=(), dtype=string)\ntf.Tensor(b'pg13721HermanVoyage2.epub', shape=(), dtype=string) tf.Tensor(b'Sea and Adventure', shape=(), dtype=string)\ntf.Tensor(b'pg47997.epub', shape=(), dtype=string) tf.Tensor(b'Literary', shape=(), dtype=string)\ntf.Tensor(b'pg40491.epub', shape=(), dtype=string) tf.Tensor(b'Detective and Mystery', shape=(), dtype=string)\ntf.Tensor(b'pg1846.epub', shape=(), dtype=string) tf.Tensor(b'Western Stories', shape=(), dtype=string)\ntf.Tensor(b'pg19472.epub', shape=(), dtype=string) tf.Tensor(b'Western Stories', shape=(), dtype=string)\ntf.Tensor(b'pg1834.epub', shape=(), dtype=string) tf.Tensor(b'Detective and Mystery', shape=(), dtype=string)\ntf.Tensor(b'pg30110.epub', shape=(), dtype=string) tf.Tensor(b'Literary', shape=(), dtype=string)\ntf.Tensor(b'pg1897.epub', shape=(), dtype=string) tf.Tensor(b'Western Stories', shape=(), dtype=string)\ntf.Tensor(b'pg22883.epub', shape=(), dtype=string) tf.Tensor(b'Love and Romance', shape=(), dtype=string)\ntf.Tensor(b'pg20661.epub', shape=(), dtype=string) tf.Tensor(b'Love and Romance', shape=(), dtype=string)\ntf.Tensor(b'pg1392.epub', shape=(), dtype=string) tf.Tensor(b'Christmas Stories', shape=(), dtype=string)\ntf.Tensor(b'pg41376.epub', shape=(), dtype=string) tf.Tensor(b'Literary', shape=(), dtype=string)\ntf.Tensor(b'pg9849.epub', shape=(), dtype=string) tf.Tensor(b'Sea and Adventure', shape=(), dtype=string)\ntf.Tensor(b'pg30648.epub', shape=(), dtype=string) tf.Tensor(b'Literary', shape=(), dtype=string)\ntf.Tensor(b'pg45618.epub', shape=(), dtype=string) tf.Tensor(b'Western Stories', shape=(), dtype=string)\ntf.Tensor(b'pg35517.epub', shape=(), dtype=string) tf.Tensor(b'Ghost and Horror', shape=(), dtype=string)\ntf.Tensor(b'pg8396.epub', shape=(), dtype=string) tf.Tensor(b'Sea and Adventure', shape=(), dtype=string)\ntf.Tensor(b'pg36758.epub', shape=(), dtype=string) tf.Tensor(b'Detective and Mystery', shape=(), dtype=string)\ntf.Tensor(b'pg10473.epub', shape=(), dtype=string) tf.Tensor(b'Western Stories', shape=(), dtype=string)\ntf.Tensor(b'pg9746.epub', shape=(), dtype=string) tf.Tensor(b'Detective and Mystery', shape=(), dtype=string)\ntf.Tensor(b'pg15895.epub', shape=(), dtype=string) tf.Tensor(b'Allegories', shape=(), dtype=string)\ntf.Tensor(b'pg45636.epub', shape=(), dtype=string) tf.Tensor(b'Detective and Mystery', shape=(), dtype=string)\ntf.Tensor(b'pg43925.epub', shape=(), dtype=string) tf.Tensor(b'Western Stories', shape=(), dtype=string)\ntf.Tensor(b'pg4653.epub', shape=(), dtype=string) tf.Tensor(b'Love and Romance', shape=(), dtype=string)\ntf.Tensor(b'pg35833.epub', shape=(), dtype=string) tf.Tensor(b'Detective and Mystery', shape=(), dtype=string)\ntf.Tensor(b'pg8569.epub', shape=(), dtype=string) tf.Tensor(b'Literary', shape=(), dtype=string)\ntf.Tensor(b'pg14708.epub', shape=(), dtype=string) tf.Tensor(b'Love and Romance', shape=(), dtype=string)\ntf.Tensor(b'pg23118.epub', shape=(), dtype=string) tf.Tensor(b'Sea and Adventure', shape=(), dtype=string)\n"
    }
   ],
   "source": [
    "for x, y in dataset:\n",
    "    print (x, y)"
   ]
  },
  {
   "cell_type": "code",
   "execution_count": 23,
   "metadata": {},
   "outputs": [],
   "source": []
  },
  {
   "cell_type": "code",
   "execution_count": 24,
   "metadata": {},
   "outputs": [],
   "source": []
  },
  {
   "cell_type": "code",
   "execution_count": 25,
   "metadata": {},
   "outputs": [],
   "source": []
  },
  {
   "cell_type": "code",
   "execution_count": null,
   "metadata": {},
   "outputs": [],
   "source": []
  },
  {
   "cell_type": "code",
   "execution_count": null,
   "metadata": {},
   "outputs": [],
   "source": []
  },
  {
   "cell_type": "code",
   "execution_count": null,
   "metadata": {},
   "outputs": [],
   "source": []
  },
  {
   "cell_type": "code",
   "execution_count": null,
   "metadata": {},
   "outputs": [],
   "source": []
  },
  {
   "cell_type": "code",
   "execution_count": null,
   "metadata": {},
   "outputs": [],
   "source": []
  }
 ],
 "metadata": {
  "language_info": {
   "codemirror_mode": {
    "name": "ipython",
    "version": 3
   },
   "file_extension": ".py",
   "mimetype": "text/x-python",
   "name": "python",
   "nbconvert_exporter": "python",
   "pygments_lexer": "ipython3",
   "version": "3.7.7-final"
  },
  "orig_nbformat": 2,
  "kernelspec": {
   "name": "python",
   "display_name": "python"
  }
 },
 "nbformat": 4,
 "nbformat_minor": 2
}