{
 "cells": [
  {
   "cell_type": "code",
   "execution_count": 1,
   "metadata": {},
   "outputs": [],
   "source": [
    "# from bs4 import BeautifulSoup\n",
    "import re\n",
    "import nltk \n",
    "from collections import Counter\n",
    "import string\n",
    "from concurrent.futures import ThreadPoolExecutor, as_completed, wait\n",
    "import chardet\n"
   ]
  },
  {
   "cell_type": "code",
   "execution_count": null,
   "metadata": {
    "tags": [
     "outputPrepend"
    ]
   },
   "outputs": [],
   "source": [
    "import os \n",
    "\n",
    "address_to_folder = \"E:\\\\DKE related\\\\Studies\\\\Second Semester\\\\ATiML\\\\Codes\\\\Semester Project\\\\Gutenberg_English_Fiction_1k\\\\Gutenberg_19th_century_English_Fiction\"\n",
    "file_list = os.listdir(address_to_folder) \n",
    "\n",
    "print(len(file_list))\n",
    "\n",
    "file = open(os.path.join(address_to_folder, file_list[0]))\n",
    "file.read()"
   ]
  },
  {
   "cell_type": "code",
   "execution_count": null,
   "metadata": {},
   "outputs": [],
   "source": []
  },
  {
   "cell_type": "code",
   "execution_count": null,
   "metadata": {},
   "outputs": [],
   "source": []
  },
  {
   "cell_type": "code",
   "execution_count": null,
   "metadata": {},
   "outputs": [],
   "source": []
  },
  {
   "cell_type": "code",
   "execution_count": null,
   "metadata": {},
   "outputs": [],
   "source": []
  },
  {
   "cell_type": "code",
   "execution_count": null,
   "metadata": {},
   "outputs": [],
   "source": []
  },
  {
   "cell_type": "code",
   "execution_count": null,
   "metadata": {},
   "outputs": [],
   "source": []
  },
  {
   "cell_type": "code",
   "execution_count": null,
   "metadata": {},
   "outputs": [],
   "source": []
  },
  {
   "cell_type": "code",
   "execution_count": 113,
   "metadata": {
    "tags": [
     "outputPrepend",
     "outputPrepend",
     "outputPrepend",
     "outputPrepend",
     "outputPrepend",
     "outputPrepend",
     "outputPrepend",
     "outputPrepend",
     "outputPrepend",
     "outputPrepend",
     "outputPrepend",
     "outputPrepend",
     "outputPrepend",
     "outputPrepend",
     "outputPrepend",
     "outputPrepend",
     "outputPrepend",
     "outputPrepend"
    ]
   },
   "outputs": [
    {
     "output_type": "stream",
     "name": "stdout",
     "text": ")\n(7, 188, 779, 34, 25, 43, 26, 13, 17, 24, 12, 2, 1, 0, 4)\n(4, 176, 793, 30, 32, 39, 26, 19, 23, 22, 13, 6, 0, 1, 5)\n(4, 167, 793, 35, 39, 41, 29, 18, 16, 19, 17, 2, 1, 0, 2)\n(5, 180, 784, 33, 34, 32, 39, 15, 21, 17, 13, 6, 0, 0, 4)\n(9, 187, 741, 67, 26, 48, 41, 9, 13, 7, 10, 0, 0, 1, 7)\n(5, 174, 785, 37, 37, 57, 22, 5, 31, 15, 16, 2, 0, 0, 2)\n(4, 180, 787, 33, 29, 49, 28, 9, 27, 16, 13, 3, 1, 0, 2)\n(2, 177, 783, 37, 35, 33, 33, 26, 23, 14, 9, 2, 1, 0, 7)\n(5, 172, 784, 39, 30, 49, 17, 11, 15, 18, 10, 2, 0, 0, 4)\n(8, 182, 757, 57, 22, 41, 33, 11, 18, 19, 6, 0, 2, 0, 4)\n(6, 177, 787, 33, 29, 46, 25, 5, 30, 14, 11, 1, 0, 1, 7)\n(15, 172, 779, 48, 35, 48, 30, 8, 22, 10, 12, 1, 0, 0, 5)\n(8, 176, 778, 44, 31, 49, 30, 8, 14, 25, 12, 4, 0, 0, 3)\n(4, 170, 798, 31, 42, 50, 29, 9, 16, 17, 9, 6, 1, 1, 3)\n(8, 185, 778, 36, 27, 45, 32, 11, 20, 13, 16, 1, 0, 0, 1)\n(9, 186, 744, 72, 27, 56, 35, 11, 17, 17, 15, 6, 1, 0, 2)\n(4, 178, 772, 51, 27, 40, 32, 19, 17, 16, 8, 5, 1, 0, 3)\n(19, 185, 746, 68, 23, 57, 32, 7, 14, 10, 12, 1, 0, 1, 4)\n(5, 178, 788, 32, 32, 39, 37, 10, 22, 11, 12, 6, 1, 0, 3)\n(8, 181, 782, 34, 31, 46, 30, 10, 21, 14, 12, 2, 0, 0, 7)\n(8, 175, 761, 62, 30, 50, 23, 13, 26, 16, 7, 1, 1, 0, 4)\n(8, 165, 788, 44, 35, 46, 27, 10, 18, 20, 10, 4, 0, 0, 4)\n(6, 172, 792, 35, 41, 38, 28, 23, 20, 18, 11, 2, 0, 3, 2)\n(16, 182, 732, 84, 27, 57, 27, 15, 19, 10, 17, 2, 0, 0, 3)\n(9, 172, 788, 38, 40, 35, 32, 5, 21, 18, 8, 4, 0, 0, 4)\n(7, 184, 779, 35, 28, 39, 36, 23, 19, 10, 14, 2, 2, 1, 4)\n(8, 180, 778, 43, 32, 49, 31, 9, 19, 13, 13, 4, 0, 0, 3)\n(7, 183, 771, 40, 23, 51, 31, 8, 16, 14, 11, 0, 1, 1, 4)\n(7, 178, 785, 36, 29, 41, 31, 15, 19, 19, 14, 2, 0, 1, 4)\n(15, 188, 743, 65, 21, 44, 32, 11, 15, 17, 12, 0, 0, 0, 2)\n(8, 176, 748, 71, 34, 51, 33, 16, 17, 9, 7, 2, 0, 1, 2)\n(4, 193, 769, 37, 22, 39, 30, 11, 28, 19, 11, 1, 1, 0, 5)\n(8, 192, 760, 43, 23, 46, 35, 11, 21, 17, 18, 3, 1, 1, 4)\n(9, 170, 785, 42, 33, 44, 29, 7, 18, 22, 7, 3, 0, 0, 6)\n(8, 174, 788, 35, 39, 47, 34, 11, 21, 19, 7, 2, 0, 0, 5)\n(9, 176, 777, 45, 27, 42, 34, 14, 18, 11, 8, 4, 2, 0, 4)\n(7, 167, 802, 31, 39, 48, 22, 6, 28, 13, 20, 7, 0, 0, 2)\n(3, 191, 771, 37, 24, 43, 34, 17, 22, 13, 17, 4, 0, 2, 3)\n(3, 162, 806, 31, 42, 40, 23, 16, 22, 18, 13, 4, 0, 0, 5)\n(11, 190, 762, 44, 23, 45, 34, 7, 22, 15, 17, 2, 0, 0, 2)\n(8, 184, 759, 53, 28, 45, 39, 5, 19, 12, 9, 3, 0, 1, 2)\n(8, 186, 771, 42, 25, 36, 41, 12, 16, 15, 12, 3, 0, 1, 6)\n(16, 184, 733, 76, 17, 58, 35, 7, 16, 13, 10, 2, 0, 1, 3)\n(7, 182, 776, 42, 27, 44, 30, 7, 22, 15, 20, 2, 1, 0, 1)\n(7, 188, 743, 62, 21, 51, 29, 21, 15, 11, 13, 3, 1, 0, 3)\n(6, 186, 762, 47, 27, 41, 38, 17, 30, 16, 13, 10, 0, 0, 3)\n(6, 182, 780, 37, 30, 38, 30, 15, 30, 19, 14, 3, 0, 1, 4)\n(8, 171, 790, 39, 32, 45, 27, 17, 24, 12, 9, 1, 0, 0, 4)\n(12, 167, 769, 62, 38, 57, 29, 7, 18, 19, 11, 3, 0, 0, 5)\n(12, 192, 737, 68, 15, 50, 36, 14, 13, 12, 11, 2, 0, 0, 0)\n(9, 189, 753, 58, 22, 50, 31, 14, 19, 13, 14, 1, 1, 1, 2)\n(6, 167, 800, 34, 36, 42, 29, 10, 16, 17, 13, 6, 0, 1, 2)\n(6, 172, 787, 40, 38, 47, 22, 7, 20, 22, 17, 2, 0, 0, 3)\n(5, 174, 786, 41, 40, 45, 31, 7, 23, 16, 18, 8, 0, 0, 6)\n(8, 178, 780, 41, 28, 44, 33, 15, 19, 12, 15, 1, 2, 0, 3)\n(7, 176, 783, 39, 32, 38, 36, 12, 17, 15, 13, 6, 0, 0, 1)\n(11, 187, 752, 61, 28, 47, 34, 19, 25, 10, 12, 2, 2, 1, 1)\n(5, 187, 778, 32, 20, 55, 22, 7, 28, 17, 21, 1, 0, 1, 1)\n(9, 187, 758, 52, 25, 46, 35, 13, 23, 16, 10, 5, 0, 0, 6)\n(11, 190, 763, 41, 20, 41, 36, 11, 27, 15, 8, 7, 1, 1, 4)\n(11, 184, 748, 63, 24, 45, 30, 17, 23, 10, 10, 2, 1, 0, 1)\n(4, 185, 778, 33, 35, 37, 37, 20, 21, 10, 18, 1, 1, 3, 6)\n(7, 182, 775, 36, 26, 52, 34, 9, 20, 7, 13, 0, 0, 0, 3)\n(3, 173, 791, 35, 38, 51, 22, 9, 24, 13, 14, 1, 1, 0, 2)\n(5, 179, 781, 40, 38, 39, 38, 9, 25, 12, 11, 10, 1, 0, 6)\n(8, 186, 766, 44, 22, 39, 36, 9, 20, 10, 13, 3, 0, 0, 6)\n(14, 171, 782, 43, 31, 46, 23, 9, 24, 18, 11, 1, 0, 0, 4)\n(7, 178, 791, 31, 28, 53, 28, 8, 20, 18, 13, 2, 0, 1, 6)\n(11, 170, 795, 35, 37, 49, 28, 13, 23, 12, 13, 1, 0, 1, 4)\n(10, 187, 761, 53, 25, 51, 32, 10, 20, 7, 17, 3, 0, 0, 3)\n(14, 170, 764, 58, 36, 45, 30, 10, 12, 20, 14, 5, 0, 0, 1)\n(4, 177, 786, 37, 37, 43, 34, 10, 24, 9, 12, 4, 0, 1, 2)\n(4, 184, 793, 24, 33, 46, 33, 4, 24, 20, 15, 5, 0, 0, 3)\n(5, 172, 791, 36, 40, 54, 21, 3, 21, 18, 19, 3, 0, 0, 1)\n(8, 186, 762, 49, 27, 42, 35, 16, 24, 9, 15, 3, 0, 2, 0)\n(13, 179, 765, 52, 33, 40, 39, 12, 10, 8, 13, 4, 1, 0, 2)\n(6, 186, 775, 38, 21, 38, 31, 14, 20, 14, 18, 0, 1, 1, 2)\n(6, 182, 774, 38, 20, 53, 27, 6, 23, 20, 15, 5, 1, 0, 7)\n(8, 181, 782, 32, 22, 50, 33, 11, 18, 17, 13, 3, 0, 0, 1)\n(9, 179, 761, 60, 27, 39, 41, 13, 10, 10, 8, 4, 1, 1, 4)\n(7, 190, 773, 34, 19, 37, 32, 22, 21, 20, 13, 0, 0, 0, 6)\n(8, 174, 784, 39, 35, 41, 30, 11, 23, 8, 13, 1, 0, 0, 9)\n(10, 182, 767, 51, 27, 53, 32, 6, 22, 15, 17, 1, 0, 0, 3)\n(4, 176, 790, 32, 31, 40, 35, 3, 24, 18, 16, 5, 0, 0, 1)\n(4, 181, 780, 37, 29, 42, 29, 10, 24, 17, 14, 2, 1, 1, 5)\n(7, 169, 794, 36, 44, 34, 30, 14, 12, 21, 13, 2, 0, 2, 3)\n(3, 169, 791, 40, 41, 47, 23, 15, 27, 14, 12, 3, 0, 1, 1)\n(10, 177, 776, 47, 33, 47, 30, 13, 22, 9, 14, 0, 0, 0, 4)\n(8, 192, 755, 49, 23, 40, 36, 13, 17, 18, 11, 0, 2, 0, 4)\n(3, 178, 787, 32, 35, 43, 29, 16, 28, 15, 12, 1, 0, 0, 2)\n(3, 159, 807, 34, 43, 48, 21, 4, 32, 10, 15, 8, 0, 0, 3)\n(6, 171, 778, 47, 33, 53, 24, 10, 23, 25, 14, 4, 1, 0, 3)\n(10, 184, 757, 59, 25, 48, 30, 14, 24, 13, 12, 2, 0, 0, 4)\n(7, 184, 764, 50, 25, 41, 33, 10, 21, 17, 13, 5, 0, 0, 6)\n(5, 181, 787, 29, 33, 40, 32, 10, 28, 15, 10, 3, 1, 0, 4)\n(2, 182, 791, 27, 28, 45, 20, 14, 25, 18, 10, 0, 1, 0, 1)\n(9, 179, 784, 38, 28, 55, 30, 4, 23, 14, 23, 0, 0, 0, 0)\n(8, 174, 792, 35, 34, 40, 35, 15, 26, 10, 7, 0, 0, 0, 5)\n(8, 183, 782, 35, 28, 40, 36, 16, 22, 11, 19, 9, 1, 2, 0)\n(7, 180, 760, 44, 26, 50, 35, 10, 25, 14, 11, 6, 0, 0, 3)\n(4, 182, 789, 28, 30, 45, 29, 10, 24, 11, 14, 1, 1, 0, 4)\n(11, 183, 764, 48, 29, 50, 28, 11, 21, 14, 17, 3, 0, 1, 4)\n(6, 171, 772, 49, 38, 48, 22, 10, 22, 16, 10, 2, 0, 0, 6)\n(10, 178, 774, 47, 31, 41, 38, 13, 20, 9, 12, 6, 0, 1, 1)\n(6, 170, 766, 58, 26, 47, 27, 5, 23, 24, 10, 1, 0, 0, 4)\n(7, 184, 783, 34, 31, 49, 37, 9, 22, 3, 19, 3, 0, 0, 2)\n(11, 187, 757, 45, 27, 34, 29, 19, 26, 20, 16, 6, 1, 0, 5)\n(5, 173, 791, 33, 44, 56, 21, 10, 25, 12, 14, 2, 0, 0, 5)\n(8, 187, 761, 49, 21, 42, 31, 10, 21, 16, 9, 2, 1, 0, 1)\n(4, 168, 800, 32, 43, 41, 30, 20, 18, 13, 13, 2, 0, 0, 4)\n(5, 168, 797, 33, 47, 39, 28, 11, 23, 18, 12, 5, 0, 0, 5)\n(4, 172, 790, 38, 37, 41, 26, 15, 23, 17, 18, 3, 3, 1, 5)\n(9, 179, 756, 58, 28, 40, 37, 10, 18, 9, 11, 1, 2, 0, 2)\n(11, 193, 771, 34, 21, 41, 31, 9, 23, 12, 13, 2, 0, 1, 5)\n(6, 166, 792, 40, 35, 40, 25, 10, 20, 16, 19, 5, 1, 1, 3)\n(6, 186, 779, 35, 24, 48, 23, 8, 22, 22, 21, 1, 0, 0, 2)\n(6, 169, 798, 27, 30, 46, 26, 9, 24, 22, 10, 1, 1, 0, 6)\n(3, 180, 790, 28, 36, 35, 25, 17, 23, 15, 9, 2, 2, 1, 5)\n(5, 173, 791, 36, 36, 55, 26, 7, 27, 13, 12, 2, 0, 0, 4)\n(6, 176, 781, 41, 30, 50, 22, 10, 24, 19, 13, 1, 1, 0, 2)\n(4, 170, 782, 46, 34, 44, 30, 7, 21, 17, 12, 1, 0, 0, 2)\n(10, 178, 777, 44, 30, 40, 34, 17, 16, 15, 14, 4, 1, 0, 5)\n(4, 179, 784, 37, 34, 45, 27, 16, 26, 18, 23, 4, 2, 0, 1)\n(7, 174, 775, 45, 32, 53, 32, 11, 16, 14, 5, 2, 0, 0, 2)\n(9, 176, 791, 34, 36, 48, 27, 13, 21, 16, 17, 4, 0, 3, 0)\n(5, 182, 775, 40, 28, 43, 32, 16, 21, 14, 15, 5, 1, 0, 4)\n(16, 174, 749, 71, 27, 54, 31, 10, 21, 8, 16, 1, 0, 0, 0)\n(9, 180, 781, 39, 37, 38, 31, 14, 22, 19, 12, 7, 0, 0, 4)\n(12, 176, 771, 41, 26, 38, 32, 12, 16, 13, 9, 2, 1, 0, 5)\n(10, 190, 754, 54, 22, 43, 32, 10, 26, 21, 9, 1, 0, 0, 2)\n(8, 187, 775, 37, 20, 43, 29, 12, 24, 15, 15, 2, 1, 0, 2)\n(7, 184, 788, 26, 28, 40, 33, 11, 23, 15, 13, 3, 2, 0, 1)\n(4, 187, 774, 39, 27, 40, 28, 16, 22, 13, 14, 1, 0, 1, 3)\n(4, 170, 795, 34, 32, 50, 31, 10, 19, 17, 13, 3, 0, 0, 7)\n(5, 179, 782, 39, 36, 38, 27, 13, 23, 19, 17, 3, 0, 0, 3)\n(8, 190, 781, 29, 36, 48, 25, 5, 27, 13, 23, 4, 0, 0, 3)\n(4, 175, 785, 37, 34, 48, 30, 9, 28, 11, 17, 4, 0, 0, 3)\n(8, 183, 778, 36, 27, 52, 30, 7, 23, 28, 11, 1, 0, 1, 3)\n(13, 181, 757, 60, 27, 39, 37, 13, 20, 14, 9, 4, 0, 0, 3)\n(11, 185, 762, 54, 23, 50, 28, 16, 19, 17, 14, 2, 0, 0, 4)\n(3, 168, 791, 41, 37, 45, 25, 7, 23, 17, 16, 1, 0, 0, 1)\n(5, 185, 770, 41, 25, 47, 31, 10, 26, 17, 9, 2, 1, 0, 1)\n(6, 168, 796, 35, 40, 39, 36, 17, 19, 9, 10, 3, 1, 0, 2)\n(4, 180, 790, 29, 29, 49, 30, 11, 19, 15, 14, 1, 0, 0, 1)\n(6, 180, 789, 31, 33, 42, 34, 12, 18, 20, 13, 3, 0, 0, 2)\n(6, 181, 779, 35, 25, 41, 32, 10, 25, 9, 8, 4, 0, 0, 6)\n(10, 187, 751, 55, 22, 45, 35, 8, 20, 9, 15, 2, 0, 0, 5)\n(9, 181, 754, 67, 27, 45, 37, 13, 19, 14, 12, 2, 0, 1, 5)\n(5, 186, 780, 33, 26, 46, 37, 8, 26, 16, 12, 2, 0, 0, 3)\n(2, 170, 797, 26, 40, 47, 23, 7, 28, 14, 14, 0, 0, 1, 9)\n(8, 182, 763, 53, 23, 39, 33, 15, 12, 17, 11, 2, 0, 0, 4)\n(6, 182, 767, 46, 26, 34, 41, 18, 10, 14, 15, 1, 0, 0, 1)\n(8, 168, 787, 42, 32, 43, 29, 12, 21, 18, 10, 3, 1, 0, 3)\n(13, 175, 780, 44, 34, 37, 27, 11, 26, 20, 8, 2, 0, 0, 2)\n(11, 183, 751, 66, 29, 43, 41, 12, 12, 14, 11, 2, 0, 0, 2)\n(6, 169, 799, 30, 40, 44, 27, 12, 22, 16, 15, 2, 0, 0, 3)\n(7, 179, 784, 37, 33, 47, 36, 15, 20, 10, 8, 4, 1, 0, 2)\n(6, 183, 766, 44, 28, 41, 33, 16, 22, 15, 13, 4, 2, 0, 6)\n(11, 187, 728, 83, 24, 51, 35, 12, 14, 22, 15, 1, 0, 0, 3)\n(12, 184, 760, 57, 29, 42, 34, 17, 23, 8, 16, 4, 0, 0, 3)\n(9, 186, 780, 32, 24, 47, 32, 17, 25, 13, 17, 0, 0, 0, 2)\n(5, 185, 777, 36, 24, 42, 33, 16, 24, 12, 10, 5, 1, 0, 5)\n(3, 185, 783, 30, 24, 46, 31, 13, 27, 16, 13, 3, 1, 0, 3)\n(16, 173, 754, 59, 26, 47, 31, 11, 11, 19, 9, 6, 0, 1, 1)\n(6, 176, 787, 34, 33, 48, 27, 11, 21, 12, 13, 3, 0, 2, 1)\n(6, 170, 791, 37, 41, 40, 35, 10, 18, 15, 10, 2, 0, 0, 1)\n(5, 193, 769, 35, 24, 42, 43, 18, 19, 11, 11, 2, 0, 0, 5)\n(13, 181, 756, 56, 25, 49, 35, 11, 16, 8, 8, 3, 0, 0, 6)\n(8, 171, 788, 40, 31, 53, 24, 14, 23, 19, 14, 1, 0, 0, 3)\n(7, 167, 800, 30, 36, 43, 30, 19, 19, 13, 9, 3, 1, 1, 5)\n(7, 187, 773, 40, 27, 40, 35, 17, 23, 11, 13, 3, 0, 0, 4)\n(5, 183, 757, 54, 26, 46, 29, 11, 23, 14, 12, 2, 0, 1, 7)\n(5, 174, 791, 33, 42, 47, 34, 11, 15, 14, 11, 3, 0, 0, 2)\n(7, 167, 798, 31, 34, 48, 20, 16, 29, 16, 14, 4, 0, 0, 4)\n(4, 182, 785, 32, 25, 42, 34, 12, 24, 15, 9, 2, 0, 2, 5)\n(5, 178, 788, 30, 37, 39, 37, 15, 18, 12, 16, 1, 1, 0, 1)\n(8, 186, 776, 31, 28, 55, 19, 14, 25, 13, 23, 1, 0, 0, 2)\n(6, 173, 796, 30, 35, 46, 27, 9, 20, 19, 15, 2, 0, 0, 1)\n(12, 177, 771, 48, 29, 43, 33, 9, 18, 20, 12, 4, 2, 0, 7)\n(11, 183, 761, 49, 25, 45, 28, 13, 19, 13, 16, 4, 1, 0, 2)\n(8, 172, 776, 48, 32, 49, 31, 8, 23, 14, 8, 4, 0, 0, 5)\n(7, 181, 783, 31, 31, 43, 31, 6, 23, 18, 10, 5, 0, 0, 6)\n(10, 177, 773, 49, 32, 52, 32, 10, 18, 11, 17, 4, 0, 0, 1)\n(7, 173, 797, 30, 33, 50, 31, 10, 24, 14, 13, 1, 0, 0, 0)\n(9, 175, 790, 32, 29, 55, 33, 9, 23, 9, 17, 4, 0, 0, 5)\n(7, 183, 783, 32, 33, 37, 26, 22, 23, 14, 20, 2, 2, 0, 2)\n(4, 178, 774, 47, 36, 43, 28, 11, 34, 15, 13, 3, 0, 0, 2)\n(8, 196, 766, 36, 24, 46, 37, 8, 25, 12, 9, 3, 0, 0, 5)\n(10, 171, 790, 37, 38, 38, 32, 10, 18, 12, 12, 4, 0, 0, 3)\n(5, 180, 784, 36, 37, 37, 38, 16, 19, 9, 10, 1, 1, 1, 3)\n(10, 179, 781, 40, 30, 39, 27, 17, 18, 17, 16, 4, 1, 0, 9)\n(15, 191, 761, 43, 20, 50, 44, 13, 20, 9, 10, 3, 1, 1, 6)\n(5, 178, 791, 30, 33, 45, 33, 11, 26, 12, 11, 4, 1, 0, 4)\n(5, 186, 783, 31, 27, 31, 41, 13, 25, 10, 11, 10, 1, 1, 5)\n(4, 165, 792, 39, 39, 41, 24, 8, 25, 22, 7, 0, 1, 1, 8)\n(3, 163, 800, 39, 40, 58, 17, 8, 26, 15, 14, 3, 0, 1, 1)\n(11, 189, 771, 41, 22, 43, 31, 15, 23, 18, 11, 2, 1, 1, 2)\n(8, 194, 737, 66, 16, 53, 37, 11, 15, 16, 14, 1, 0, 0, 1)\n(5, 189, 772, 38, 19, 47, 30, 6, 24, 19, 14, 2, 0, 1, 5)\n(14, 188, 743, 67, 28, 47, 37, 11, 8, 15, 16, 1, 1, 1, 1)\n(5, 170, 801, 29, 34, 40, 26, 16, 23, 17, 8, 8, 0, 0, 0)\n(6, 174, 789, 32, 31, 38, 26, 12, 28, 20, 7, 2, 0, 0, 9)\n(3, 171, 789, 36, 41, 42, 21, 6, 25, 26, 8, 4, 2, 0, 4)\n(8, 188, 758, 55, 28, 53, 28, 12, 21, 9, 19, 1, 0, 0, 1)\n(12, 191, 749, 59, 18, 45, 32, 13, 24, 11, 16, 3, 0, 0, 5)\n(4, 168, 791, 40, 38, 48, 25, 7, 20, 18, 20, 2, 0, 0, 6)\n(5, 165, 803, 31, 42, 43, 26, 9, 27, 14, 9, 3, 0, 2, 6)\n(8, 183, 773, 38, 30, 38, 25, 14, 26, 16, 11, 1, 0, 0, 1)\n(8, 184, 776, 40, 28, 46, 31, 6, 14, 18, 10, 2, 1, 0, 0)\n(6, 171, 782, 45, 34, 52, 24, 9, 23, 14, 7, 1, 2, 0, 3)\n(9, 184, 754, 59, 27, 39, 38, 16, 24, 11, 9, 4, 0, 2, 0)\n(5, 179, 777, 43, 26, 42, 37, 16, 9, 14, 21, 7, 1, 0, 4)\n(9, 190, 749, 56, 19, 37, 35, 24, 16, 16, 6, 2, 1, 2, 5)\n(5, 173, 800, 28, 32, 42, 32, 10, 20, 15, 17, 2, 0, 0, 2)\n(10, 183, 763, 52, 23, 46, 25, 14, 24, 16, 11, 2, 1, 0, 0)\n(8, 184, 747, 67, 19, 48, 36, 7, 14, 17, 11, 0, 0, 0, 5)\n(14, 177, 765, 58, 31, 53, 30, 7, 22, 9, 12, 0, 1, 0, 3)\n(8, 186, 772, 37, 29, 48, 32, 9, 29, 12, 19, 0, 2, 0, 2)\n(10, 183, 774, 43, 23, 52, 24, 15, 18, 11, 16, 2, 1, 0, 1)\n(5, 173, 786, 40, 34, 46, 20, 12, 29, 21, 14, 1, 2, 0, 4)\n(8, 191, 744, 64, 21, 48, 37, 9, 24, 14, 13, 1, 0, 0, 3)\n(5, 180, 779, 39, 33, 51, 22, 10, 22, 12, 19, 2, 0, 1, 1)\n(6, 178, 787, 31, 33, 26, 37, 14, 16, 19, 12, 2, 0, 0, 3)\n(7, 172, 785, 43, 40, 48, 32, 4, 23, 15, 17, 3, 0, 0, 4)\n(8, 186, 777, 36, 29, 38, 39, 17, 15, 14, 11, 1, 1, 1, 2)\n(7, 159, 659, 40, 26, 39, 31, 8, 18, 10, 8, 3, 1, 0, 1)\n(3, 171, 799, 29, 34, 41, 24, 12, 23, 21, 14, 1, 2, 0, 6)\n(6, 176, 800, 25, 35, 37, 30, 14, 22, 18, 12, 2, 0, 0, 2)\n(4, 167, 800, 34, 38, 42, 33, 12, 17, 8, 13, 3, 0, 1, 3)\n(6, 171, 782, 48, 33, 43, 27, 17, 14, 13, 12, 0, 1, 0, 3)\n(2, 172, 790, 35, 29, 52, 25, 6, 17, 15, 19, 9, 0, 1, 4)\n(16, 184, 744, 68, 22, 42, 36, 11, 18, 13, 10, 3, 2, 1, 8)\n(3, 168, 799, 33, 36, 52, 17, 11, 21, 23, 19, 0, 0, 0, 0)\n(8, 173, 789, 39, 34, 41, 39, 3, 26, 11, 11, 4, 0, 0, 6)\n(7, 167, 803, 30, 43, 50, 26, 8, 26, 14, 18, 1, 0, 1, 3)\n(6, 170, 795, 37, 41, 50, 22, 12, 19, 19, 14, 4, 0, 1, 1)\n(15, 171, 766, 64, 33, 48, 33, 9, 21, 16, 10, 2, 0, 0, 2)\n(10, 183, 777, 37, 26, 37, 33, 19, 22, 13, 13, 1, 0, 1, 5)\n(3, 178, 793, 29, 30, 46, 23, 11, 23, 19, 17, 5, 1, 0, 6)\n(6, 180, 775, 43, 36, 52, 37, 9, 16, 10, 18, 2, 0, 0, 3)\n(20, 178, 760, 56, 29, 47, 32, 8, 23, 15, 9, 3, 0, 0, 3)\n(4, 170, 794, 34, 42, 42, 35, 12, 22, 8, 12, 2, 0, 0, 6)\n(12, 187, 749, 64, 17, 49, 35, 13, 21, 14, 13, 3, 0, 0, 1)\n(9, 173, 776, 44, 33, 41, 40, 10, 14, 15, 14, 3, 0, 0, 2)\n(5, 170, 790, 37, 35, 48, 25, 8, 29, 16, 12, 5, 1, 2, 5)\n(5, 175, 773, 48, 26, 41, 27, 12, 23, 17, 15, 2, 0, 0, 3)\n(7, 186, 765, 45, 24, 52, 30, 10, 20, 16, 16, 1, 0, 0, 3)\n(3, 184, 775, 32, 25, 40, 34, 12, 19, 9, 12, 1, 0, 0, 6)\n(2, 172, 777, 45, 34, 52, 21, 8, 19, 15, 15, 3, 0, 1, 2)\n(12, 184, 774, 42, 28, 56, 29, 9, 20, 16, 8, 0, 0, 0, 2)\n(9, 174, 794, 31, 38, 49, 28, 11, 21, 18, 13, 4, 1, 0, 1)\n(4, 183, 787, 29, 32, 40, 32, 14, 25, 14, 13, 7, 2, 0, 5)\n(18, 184, 745, 62, 14, 52, 32, 12, 18, 14, 9, 0, 0, 0, 5)\n(5, 176, 788, 36, 37, 45, 27, 13, 24, 16, 18, 3, 0, 1, 1)\n(8, 181, 772, 46, 23, 44, 26, 9, 25, 19, 16, 1, 0, 0, 4)\n(3, 172, 789, 37, 35, 42, 22, 16, 26, 20, 16, 2, 0, 0, 2)\n(9, 180, 758, 61, 22, 40, 34, 19, 9, 17, 15, 3, 1, 0, 3)\n(6, 184, 790, 24, 25, 49, 29, 14, 23, 15, 11, 5, 0, 0, 1)\n(7, 176, 786, 35, 29, 45, 28, 16, 23, 13, 14, 4, 0, 1, 5)\n(5, 177, 780, 41, 29, 44, 36, 5, 24, 13, 8, 11, 0, 0, 5)\n(13, 184, 745, 68, 21, 45, 37, 22, 13, 11, 12, 2, 1, 1, 0)\n(4, 163, 792, 44, 39, 49, 24, 8, 20, 14, 18, 4, 0, 0, 1)\n(11, 177, 752, 68, 21, 52, 32, 12, 19, 10, 8, 0, 2, 0, 1)\n(4, 180, 787, 32, 34, 45, 28, 13, 30, 11, 14, 2, 1, 0, 5)\n(11, 182, 736, 81, 21, 55, 24, 13, 24, 13, 9, 1, 2, 0, 1)\n(5, 170, 796, 35, 33, 44, 22, 11, 25, 24, 10, 0, 0, 0, 5)\n(9, 172, 770, 46, 24, 46, 34, 13, 16, 14, 13, 5, 1, 0, 1)\n(2, 178, 791, 29, 30, 44, 30, 14, 26, 10, 15, 2, 2, 2, 7)\n(4, 179, 784, 36, 33, 40, 34, 14, 15, 16, 13, 3, 1, 1, 2)\n(4, 178, 787, 34, 29, 46, 28, 13, 23, 17, 12, 3, 1, 1, 2)\n(11, 189, 743, 63, 20, 48, 32, 15, 15, 19, 19, 3, 1, 0, 4)\n(6, 171, 792, 35, 35, 53, 25, 7, 31, 12, 21, 3, 0, 0, 3)\n(4, 172, 796, 32, 34, 46, 27, 8, 25, 17, 14, 2, 0, 0, 3)\n(4, 166, 800, 32, 34, 39, 31, 12, 22, 18, 16, 4, 0, 0, 3)\n(12, 179, 775, 45, 33, 46, 33, 11, 20, 11, 9, 3, 0, 0, 2)\n(5, 169, 796, 35, 35, 43, 28, 9, 15, 20, 19, 2, 1, 0, 2)\n(9, 176, 789, 34, 31, 49, 32, 7, 27, 17, 19, 2, 0, 0, 5)\n(14, 180, 749, 63, 24, 38, 38, 11, 12, 9, 18, 1, 0, 1, 1)\n(3, 177, 798, 22, 33, 41, 34, 10, 26, 14, 17, 1, 0, 0, 5)\n(9, 173, 779, 42, 31, 45, 30, 9, 30, 11, 16, 4, 0, 0, 2)\n(4, 177, 793, 28, 25, 41, 30, 11, 19, 20, 15, 3, 0, 0, 2)\n(10, 191, 749, 60, 21, 48, 33, 7, 22, 12, 11, 3, 1, 0, 2)\n(10, 193, 764, 41, 16, 53, 34, 9, 21, 15, 13, 2, 0, 0, 1)\n(5, 177, 786, 35, 34, 36, 32, 12, 18, 15, 8, 5, 0, 0, 3)\n(8, 184, 775, 40, 32, 42, 32, 9, 23, 17, 15, 1, 0, 1, 4)\n(7, 180, 784, 31, 27, 46, 31, 9, 17, 17, 14, 2, 0, 0, 5)\n(2, 164, 801, 31, 41, 53, 22, 7, 24, 19, 18, 3, 0, 0, 2)\n(4, 180, 781, 37, 35, 40, 27, 20, 28, 14, 16, 5, 1, 1, 4)\n(5, 177, 777, 42, 26, 55, 26, 7, 26, 18, 10, 4, 0, 0, 3)\n(5, 181, 787, 33, 28, 55, 19, 9, 24, 21, 22, 1, 3, 0, 3)\n(7, 166, 797, 38, 39, 38, 34, 13, 24, 12, 11, 5, 1, 1, 2)\n(6, 184, 777, 37, 28, 39, 35, 17, 20, 16, 14, 7, 0, 1, 4)\n(4, 176, 787, 35, 34, 56, 21, 12, 21, 14, 17, 2, 0, 0, 2)\n(9, 174, 769, 51, 26, 49, 22, 14, 27, 14, 12, 0, 1, 0, 1)\n(4, 173, 796, 31, 33, 47, 30, 4, 26, 14, 10, 4, 0, 0, 2)\n(9, 184, 787, 29, 25, 43, 33, 13, 24, 12, 12, 3, 2, 0, 5)\n(5, 181, 787, 33, 28, 42, 29, 22, 19, 8, 8, 4, 1, 0, 3)\n(6, 179, 786, 36, 31, 57, 25, 4, 30, 12, 20, 6, 0, 0, 2)\n(5, 176, 786, 37, 33, 33, 29, 12, 21, 19, 12, 2, 1, 2, 1)\n(7, 169, 782, 43, 35, 51, 33, 8, 22, 12, 16, 8, 0, 0, 4)\n(4, 178, 789, 32, 35, 47, 32, 8, 24, 15, 15, 2, 0, 0, 4)\n(5, 170, 798, 31, 34, 45, 24, 6, 21, 17, 13, 4, 0, 0, 2)\n(12, 191, 756, 51, 25, 46, 38, 11, 19, 14, 10, 4, 0, 0, 5)\n(3, 168, 794, 39, 36, 50, 20, 4, 28, 21, 13, 0, 0, 0, 1)\n(5, 179, 788, 31, 37, 47, 31, 8, 29, 15, 17, 6, 0, 1, 3)\n(8, 170, 771, 57, 34, 51, 29, 8, 21, 16, 10, 1, 0, 0, 1)\n(13, 186, 761, 50, 26, 43, 36, 11, 18, 15, 11, 5, 0, 0, 3)\n(7, 185, 767, 39, 27, 39, 40, 15, 17, 8, 15, 2, 0, 0, 3)\n(10, 186, 757, 49, 29, 49, 37, 17, 21, 11, 7, 1, 0, 1, 3)\n(11, 183, 765, 50, 22, 47, 26, 14, 23, 11, 11, 5, 0, 0, 3)\n(8, 180, 771, 48, 31, 52, 28, 14, 17, 13, 17, 1, 0, 0, 0)\n(8, 187, 761, 49, 31, 45, 25, 20, 20, 9, 14, 2, 0, 2, 3)\n(8, 181, 775, 45, 28, 43, 37, 11, 14, 13, 14, 2, 0, 0, 2)\n(5, 179, 771, 47, 31, 44, 36, 11, 20, 13, 8, 3, 1, 0, 3)\n(3, 157, 807, 35, 45, 48, 21, 12, 21, 20, 13, 1, 1, 1, 1)\n(4, 171, 800, 30, 41, 37, 25, 11, 30, 22, 8, 2, 0, 1, 2)\n(7, 184, 772, 42, 20, 40, 30, 16, 28, 14, 7, 2, 1, 0, 3)\n(12, 184, 779, 36, 26, 49, 33, 8, 20, 13, 12, 2, 1, 0, 3)\n(8, 185, 778, 36, 35, 41, 29, 11, 27, 14, 12, 2, 2, 1, 3)\n(15, 180, 767, 47, 22, 38, 42, 11, 15, 13, 15, 3, 2, 0, 3)\n(5, 177, 795, 29, 36, 42, 29, 12, 24, 17, 11, 2, 1, 0, 6)\n(7, 183, 760, 52, 18, 42, 32, 12, 16, 24, 9, 1, 0, 1, 4)\n(6, 188, 780, 32, 27, 41, 31, 13, 26, 14, 11, 3, 1, 0, 3)\n(4, 171, 796, 33, 43, 45, 27, 8, 24, 12, 24, 3, 0, 1, 3)\n(4, 158, 816, 26, 53, 35, 27, 12, 23, 21, 9, 1, 1, 0, 4)\n(9, 180, 769, 50, 26, 53, 29, 11, 21, 11, 14, 1, 2, 0, 4)\n(4, 171, 782, 43, 34, 47, 24, 10, 30, 16, 13, 1, 0, 1, 4)\n(6, 175, 782, 43, 31, 45, 30, 13, 18, 13, 14, 3, 0, 1, 4)\n(7, 188, 779, 34, 25, 43, 26, 13, 17, 24, 12, 2, 1, 0, 4)\n(4, 176, 793, 30, 32, 39, 26, 19, 23, 22, 13, 6, 0, 1, 5)\n(4, 167, 793, 35, 39, 41, 29, 18, 16, 19, 17, 2, 1, 0, 2)\n(5, 180, 784, 33, 34, 32, 39, 15, 21, 17, 13, 6, 0, 0, 4)\n(9, 187, 741, 67, 26, 48, 41, 9, 13, 7, 10, 0, 0, 1, 7)\n(5, 174, 785, 37, 37, 57, 22, 5, 31, 15, 16, 2, 0, 0, 2)\n(4, 180, 787, 33, 29, 49, 28, 9, 27, 16, 13, 3, 1, 0, 2)\n(2, 177, 783, 37, 35, 33, 33, 26, 23, 14, 9, 2, 1, 0, 7)\n(5, 172, 784, 39, 30, 49, 17, 11, 15, 18, 10, 2, 0, 0, 4)\n(8, 182, 757, 57, 22, 41, 33, 11, 18, 19, 6, 0, 2, 0, 4)\n(6, 177, 787, 33, 29, 46, 25, 5, 30, 14, 11, 1, 0, 1, 7)\n(15, 172, 779, 48, 35, 48, 30, 8, 22, 10, 12, 1, 0, 0, 5)\n(8, 176, 778, 44, 31, 49, 30, 8, 14, 25, 12, 4, 0, 0, 3)\n(4, 170, 798, 31, 42, 50, 29, 9, 16, 17, 9, 6, 1, 1, 3)\n(8, 185, 778, 36, 27, 45, 32, 11, 20, 13, 16, 1, 0, 0, 1)\n(9, 186, 744, 72, 27, 56, 35, 11, 17, 17, 15, 6, 1, 0, 2)\n(4, 178, 772, 51, 27, 40, 32, 19, 17, 16, 8, 5, 1, 0, 3)\n(19, 185, 746, 68, 23, 57, 32, 7, 14, 10, 12, 1, 0, 1, 4)\n(5, 178, 788, 32, 32, 39, 37, 10, 22, 11, 12, 6, 1, 0, 3)\n"
    }
   ],
   "source": [
    "address = \"Gutenberg_English_Fiction_1k/Gutenberg_19th_century_English_Fiction/pg17062-content.html\"\n",
    "\n",
    "with open(address, 'rb') as rawdata:\n",
    "    result = chardet.detect(rawdata.read(100000))\n",
    "\n",
    "file = open(address, \"r\", encoding=result.get('encoding'))\n",
    "unformatted_text = file.read()\n",
    "p_removed_text = unformatted_text.replace(\"<p>\", \"\")\n",
    "\n",
    "process(p_removed_text)\n",
    "\n",
    "    # input_text = p_removed_text[start_index:end_index]\n",
    "    # print(grammatical_counts(input_text))\n",
    "\n",
    "file.close()"
   ]
  },
  {
   "cell_type": "code",
   "execution_count": null,
   "metadata": {},
   "outputs": [],
   "source": [
    "sentence_count, word_count, char_count, punctuation_count, long_word_count, noun_count, verb_count, adverb_count, preposition_count, adjective_count, article_count, infinitive_gerund_count, downtoner_count, amplifier_count, demonstrative_count"
   ]
  },
  {
   "cell_type": "code",
   "execution_count": 111,
   "metadata": {},
   "outputs": [],
   "source": [
    "def process(input_text):\n",
    "\n",
    "    total_sentence_count = 0 \n",
    "    total_word_count = 0 \n",
    "    total_char_count = 0 \n",
    "    total_punctuation_count = 0\n",
    "    total_long_word_count = 0 \n",
    "    total_noun_count = 0 \n",
    "    total_verb_count = 0 \n",
    "    total_adverb_count = 0 \n",
    "    total_preposition_count = 0        \n",
    "    total_adjective_count = 0 \n",
    "    total_article_count = 0 \n",
    "    total_infinitive_gerund_count = 0 \n",
    "    total_downtoner_count = 0\n",
    "    total_amplifier_count = 0 \n",
    "    total_demonstrative_count = 0\n",
    "\n",
    "    total_unique_word = len(set(parse_text(input_text)))\n",
    "\n",
    "    steps = len(p_removed_text)/1000\n",
    "    if (steps - int(steps)) != 0:\n",
    "        steps = int(steps) + 1\n",
    "\n",
    "    pool = ThreadPoolExecutor(10)\n",
    "    futures = []\n",
    "\n",
    "    # steps = 15 \n",
    "    j = 0\n",
    "    for i in range(steps):\n",
    "\n",
    "        l = 10 \n",
    "        if j != 0: \n",
    "            i =  j + 1\n",
    "            if i >= steps: \n",
    "                break\n",
    "\n",
    "        if i+l >= steps: \n",
    "            l = steps-i\n",
    "        \n",
    "        for j in range(i, i+l):\n",
    "            start_index = j*1000 \n",
    "            end_index = (j+1)*1000\n",
    "            futures.append(pool.submit(get_sentence_and_word_level_stats, p_removed_text[start_index:end_index]))\n",
    "            # futures.append(pool.submit(dummy, \"hello\"))\n",
    "        \n",
    "        wait(futures)\n",
    "\n",
    "        for f in as_completed(futures):\n",
    "            sentence_count, word_count, char_count, punctuation_count, long_word_count, noun_count, verb_count, adverb_count, preposition_count, adjective_count, article_count, infinitive_gerund_count, downtoner_count, amplifier_count, demonstrative_count = f.result() \n",
    "            total_sentence_count += sentence_count\n",
    "            total_word_count += word_count\n",
    "            total_char_count += char_count\n",
    "            total_punctuation_count += punctuation_count\n",
    "            total_long_word_count += long_word_count\n",
    "            total_noun_count += noun_count\n",
    "            total_verb_count += verb_count\n",
    "            total_adverb_count += adverb_count\n",
    "            total_preposition_count += preposition_count\n",
    "            total_adjective_count += adjective_count\n",
    "            total_article_count += article_count\n",
    "            total_infinitive_gerund_count += infinitive_gerund_count\n",
    "            total_downtoner_count += downtoner_count\n",
    "            total_amplifier_count += amplifier_count\n",
    "            total_demonstrative_count += demonstrative_count\n",
    "\n",
    "\n",
    "    avg_sentence_length = round(float(total_sentence_count/total_word_count), 4)\n",
    "    avg_char_per_word = round(float(total_char_count/total_word_count), 4)\n",
    "    avg_punctuation_per_sentence = round(float(total_punctuation_count/total_sentence_count), 4)\n",
    "    long_word_ratio = round(float(total_long_word_count/total_word_count), 4)\n",
    "    noun_ratio = round(float(total_noun_count/total_word_count), 4)\n",
    "    verb_ratio = round(float(total_verb_count/total_word_count), 4)\n",
    "    adverb_ratio = round(float(total_adverb_count/total_word_count), 4)\n",
    "    preposition_ratio = round(float(total_preposition_count/total_word_count), 4)\n",
    "    adjective_ratio = round(float(total_adjective_count/total_word_count), 4)\n",
    "    article_ratio = round(float(total_article_count/total_word_count), 4)\n",
    "    gerund_infinitive_ratio = round(float(total_infinitive_gerund_count/total_word_count), 4)\n",
    "    downtoner_ratio = round(float(total_downtoner_count/total_word_count), 4)\n",
    "    amplifier_ratio = round(float(total_amplifier_count/total_word_count), 4)\n",
    "    demonstrative_ratio = round(float(total_demonstrative_count/total_word_count), 4)\n",
    "    type_token_ratio = round(float(total_unique_word/total_word_count), 4)\n",
    "\n",
    "\n",
    "    return (avg_sentence_length, avg_char_per_word, avg_punctuation_per_sentence, long_word_ratio, noun_ratio, verb_ratio, adverb_ratio, preposition_ratio, adjective_ratio, article_ratio, gerund_infinitive_ratio, downtoner_ratio, amplifier_ratio, demonstrative_ratio, type_token_ratio)\n"
   ]
  },
  {
   "cell_type": "code",
   "execution_count": null,
   "metadata": {},
   "outputs": [],
   "source": [
    "def parse_text(input_text): \n",
    "\n",
    "    regex = r\"\\w+(?:[-'’]\\w+)*|'|[-.(]+|\\S\\w*\"\n",
    "    parsed_strings = re.findall(regex, input_text)\n",
    "    return_list = [re.sub('[^A-Za-z0-9]+', '', item) for item in parsed_strings if len(re.sub('[^A-Za-z0-9]+', '', item)) != 0 and item not in string.punctuation+''.join(['’', '”', '“', '”'])   and not item.isnumeric()]\n",
    "    return return_list"
   ]
  },
  {
   "cell_type": "code",
   "execution_count": null,
   "metadata": {},
   "outputs": [],
   "source": [
    "def get_grammatical_counts(tokens):\n",
    "    \n",
    "    downtoners_list = ['almost', 'barely', 'hardly', 'merely', 'mildly', 'nearly', 'only', 'partially', 'partly', 'practically', 'scarcely', 'slightly', 'somewhat']\n",
    "\n",
    "    amplifier_list = ['absolutely', 'altogether', 'completely', 'enormously', 'entirely', 'extremely', 'fully', 'greatly', 'highly', 'intensely', 'perfectly', 'strongly', 'thoroughly', 'totally', 'utterly', 'very']\n",
    "\n",
    "    demostrative_list = ['this', 'that', 'these', 'those']\n",
    "\n",
    "    article_list = ['a', 'an', 'the']\n",
    "\n",
    "    # tokens = parse_text(input_text)\n",
    "    tags = nltk.pos_tag(tokens=tokens)\n",
    "    pos_counts = Counter(tag for _, tag in tags)    \n",
    "\n",
    "    noun_count = 0\n",
    "    verb_count = 0\n",
    "    adverb_count = 0\n",
    "    preposition_count = 0\n",
    "    adjective_count = 0     \n",
    "    infinitive_gerund_count = 0\n",
    "    \n",
    "    article_count = 0 \n",
    "    downtoner_count = 0\n",
    "    amplifier_count = 0 \n",
    "    demonstrative_count = 0\n",
    "\n",
    "    for item in tokens:\n",
    "        if item in article_list: \n",
    "            article_count += 1\n",
    "        if item in downtoners_list: \n",
    "            downtoner_count += 1 \n",
    "        if item in amplifier_list: \n",
    "            amplifier_count += 1 \n",
    "        if item in demostrative_list: \n",
    "            demonstrative_count += 1        \n",
    "\n",
    "    if pos_counts.get('NN') != None: \n",
    "        noun_count += pos_counts.get('NN')\n",
    "    if pos_counts.get('NNS') != None: \n",
    "        noun_count += pos_counts.get('NNS')\n",
    "    if pos_counts.get('NNP') != None: \n",
    "        noun_count += pos_counts.get('NNP')\n",
    "    if pos_counts.get('NNPS') != None: \n",
    "        noun_count += pos_counts.get('NNPS')    \n",
    "    \n",
    "    if pos_counts.get('VB') != None: \n",
    "        verb_count += pos_counts.get('VB')    \n",
    "    if pos_counts.get('VBD') != None: \n",
    "        verb_count += pos_counts.get('VBD')    \n",
    "    if pos_counts.get('VBG') != None: \n",
    "        verb_count += pos_counts.get('VBG')\n",
    "        infinitive_gerund_count += pos_counts.get('VBG')\n",
    "    if pos_counts.get('VBN') != None: \n",
    "        verb_count += pos_counts.get('VBN')    \n",
    "    if pos_counts.get('VBP') != None: \n",
    "        verb_count += pos_counts.get('VBP')    \n",
    "    if pos_counts.get('VBZ') != None: \n",
    "        verb_count += pos_counts.get('VBZ')    \n",
    "\n",
    "    if pos_counts.get('RB') != None: \n",
    "        adverb_count += pos_counts.get('RB')    \n",
    "    if pos_counts.get('RBR') != None: \n",
    "        adverb_count += pos_counts.get('RBR')    \n",
    "    if pos_counts.get('RBS') != None: \n",
    "        adverb_count += pos_counts.get('RBS') \n",
    "\n",
    "    if pos_counts.get('IN') != None: \n",
    "        preposition_count += pos_counts.get('IN') \n",
    "\n",
    "    if pos_counts.get('JJ') != None: \n",
    "        adjective_count += pos_counts.get('JJ')    \n",
    "    if pos_counts.get('JJR') != None: \n",
    "        adjective_count += pos_counts.get('JJR')    \n",
    "    if pos_counts.get('JJS') != None: \n",
    "        adjective_count += pos_counts.get('JJS') \n",
    "    \n",
    "    return (noun_count, verb_count, adverb_count, preposition_count, adjective_count, article_count, infinitive_gerund_count, downtoner_count, amplifier_count, demonstrative_count)\n"
   ]
  },
  {
   "cell_type": "code",
   "execution_count": null,
   "metadata": {},
   "outputs": [],
   "source": [
    "def get_sentence_and_word_level_stats(input_text):\n",
    "\n",
    "    char_count = 0\n",
    "    long_word_count = 0\n",
    "\n",
    "    punctuation_set = set(string.punctuation)\n",
    "    punctuation_count = sum([1 for x in input_text if x in punctuation_set])\n",
    "\n",
    "    sentences = nltk.sent_tokenize(input_text)\n",
    "    sentence_count = len(sentences)\n",
    "\n",
    "    tokens = parse_text(input_text)\n",
    "    word_count = len(tokens)    \n",
    "\n",
    "    for word in tokens: \n",
    "        char_count += len(word)\n",
    "        if len(word) > 6: \n",
    "            long_word_count += 1        \n",
    "\n",
    "    noun_count, verb_count, adverb_count, preposition_count, adjective_count, article_count, infinitive_gerund_count, downtoner_count, amplifier_count, demonstrative_count = get_grammatical_counts(tokens)\n",
    "\n",
    "    # avg_sentence_length = round(float(total_words/sentence_count), 3)\n",
    "    # avg_char_per_word = round(float(char_count/total_words), 3)\n",
    "\n",
    "    return sentence_count, word_count, char_count, punctuation_count, long_word_count, noun_count, verb_count, adverb_count, preposition_count, adjective_count, article_count, infinitive_gerund_count, downtoner_count, amplifier_count, demonstrative_count"
   ]
  },
  {
   "cell_type": "code",
   "execution_count": null,
   "metadata": {},
   "outputs": [],
   "source": [
    "get_sentence_and_word_level_stats(input_text)"
   ]
  },
  {
   "cell_type": "code",
   "execution_count": 7,
   "metadata": {},
   "outputs": [
    {
     "output_type": "stream",
     "name": "stdout",
     "text": "kahti\nDone\n"
    }
   ],
   "source": [
    "# import chardet\n",
    "\n",
    "# address = \"input.txt\"\n",
    "\n",
    "# with open(address, 'rb') as rawdata:\n",
    "#     result = chardet.detect(rawdata.read(100000))\n",
    "\n",
    "# file = open(address, \"r\", encoding=result.get('encoding'))\n",
    "# text = file.read()\n",
    "\n",
    "from threading import Thread\n",
    "\n",
    "def target_method(info): \n",
    "    _, _, dk, _ = info\n",
    "    # print(type(info))\n",
    "    print(dk)\n",
    "\n",
    "t1 = Thread(target=target_method, args=[(\"hello\", \"ok\", \"kahti\", \"okaoa\")], name=\"t1-thread\")\n",
    "t1.start()\n",
    "print('Done')\n"
   ]
  },
  {
   "cell_type": "code",
   "execution_count": null,
   "metadata": {},
   "outputs": [],
   "source": []
  },
  {
   "cell_type": "code",
   "execution_count": null,
   "metadata": {},
   "outputs": [],
   "source": [
    "steps = 39\n",
    "j = 0\n",
    "for i in range(steps):\n",
    "\n",
    "    l = 10 \n",
    "    if j != 0: \n",
    "        i =  j + 1\n",
    "        if i >= steps: \n",
    "            break\n",
    "\n",
    "    if i+l >= steps: \n",
    "        l = steps-i\n",
    "    \n",
    "    for j in range(i, i+l):\n",
    "        print(j)\n",
    "    print(\"returning\")\n"
   ]
  },
  {
   "cell_type": "code",
   "execution_count": null,
   "metadata": {},
   "outputs": [],
   "source": [
    "class Item: \n",
    "    \n",
    "    def __init__(self, file_id, genre, feature_vector):\n",
    "        super().__init__()        \n",
    "        self.file_id = file_id     \n",
    "        self.genre = genre     \n",
    "        self.feature_vector = feature_vector\n",
    "\n",
    "a = Item('abc1', 'horror', (1,2,3,4))\n",
    "b = Item('abc2', 'comedy', (5, 4, 6, 0))\n",
    "c = Item('abc3', 'erotic', (10, 2, 6, 2)) \n",
    "\n",
    "cus_dict = {}\n",
    "\n",
    "cus_dict[a.file_id] = a\n",
    "cus_dict[b.file_id] = b\n",
    "cus_dict[c.file_id] = c\n",
    "\n",
    "for item in cus_dict: \n",
    "    # print(\"file_id: \".format(item.))\n",
    "    dummy = cus_dict.get(item)\n",
    "    print(dummy.genre)"
   ]
  },
  {
   "cell_type": "code",
   "execution_count": 119,
   "metadata": {},
   "outputs": [
    {
     "output_type": "execute_result",
     "data": {
      "text/plain": "8777"
     },
     "metadata": {},
     "execution_count": 119
    }
   ],
   "source": [
    "len(set(parse_text(p_removed_text)))"
   ]
  }
 ],
 "metadata": {
  "language_info": {
   "codemirror_mode": {
    "name": "ipython",
    "version": 3
   },
   "file_extension": ".py",
   "mimetype": "text/x-python",
   "name": "python",
   "nbconvert_exporter": "python",
   "pygments_lexer": "ipython3",
   "version": "3.7.7-final"
  },
  "orig_nbformat": 2,
  "kernelspec": {
   "name": "python",
   "display_name": "python"
  }
 },
 "nbformat": 4,
 "nbformat_minor": 2
}