{
 "cells": [
  {
   "cell_type": "code",
   "execution_count": 52,
   "metadata": {},
   "outputs": [],
   "source": [
    "import os \n",
    "import pandas as pd \n",
    "import tensorflow as tf \n",
    "import time \n",
    "\n",
    "from sklearn.model_selection import train_test_split\n",
    "from sklearn  import feature_selection\n",
    "from sklearn.preprocessing import StandardScaler\n",
    "\n",
    "from imblearn.over_sampling import SMOTE, ADASYN\n",
    "from imblearn.under_sampling import RandomUnderSampler\n",
    "from imblearn.pipeline import Pipeline\n",
    "\n",
    "\n",
    "from sklearn.ensemble import RandomForestClassifier"
   ]
  },
  {
   "cell_type": "code",
   "execution_count": null,
   "metadata": {},
   "outputs": [],
   "source": [
    "def convert_data(a, b):\n",
    "    \n",
    "    row_list =[]     \n",
    "\n",
    "    for index, rows in a.iterrows(): \n",
    "        \n",
    "        my_list = [rows[i] for i in a.columns]     \n",
    "        row_list.append(my_list) \n",
    "    \n",
    "    target = [rows for _, rows in b.items()]\n",
    "        \n",
    "    return row_list, target"
   ]
  },
  {
   "cell_type": "code",
   "execution_count": 86,
   "metadata": {},
   "outputs": [],
   "source": [
    "address = \"E:\\\\DKE related\\\\Studies\\\\Second Semester\\\\ATiML\\\\Codes\\\\Semester Project\\\\feature_vector.csv\"\n",
    "\n",
    "df = pd.read_csv(address)\n",
    "\n",
    "# df['genre'] = df['genre'].astype('category')\n",
    "# df['genre'] = df['genre'].cat.codes\n",
    "\n",
    "# X_train,X_test,y_train,y_test = train_test_split(df.iloc[:, 1:-1].to_numpy(), df.iloc[:, -1].to_numpy(),random_state=0)\n",
    "\n",
    "df[df['genre']=='Allegories']\n",
    "df.drop([90, 93], inplace=True)"
   ]
  },
  {
   "cell_type": "code",
   "execution_count": null,
   "metadata": {},
   "outputs": [],
   "source": [
    "X_train"
   ]
  },
  {
   "cell_type": "code",
   "execution_count": null,
   "metadata": {},
   "outputs": [],
   "source": [
    "train_data = tf.data.Dataset.from_tensor_slices((X_train, y_train))\n",
    "train_data = train_data.shuffle(buffer_size=500).batch(50).repeat(200)\n",
    "\n",
    "test_data = tf.data.Dataset.from_tensor_slices((X_test, y_test))\n",
    "test_data = test_data.batch(64)\n",
    "\n",
    "# for item in train_data:\n",
    "#     print(item)"
   ]
  },
  {
   "cell_type": "code",
   "execution_count": null,
   "metadata": {
    "tags": []
   },
   "outputs": [],
   "source": [
    "from tensorflow import keras\n",
    "\n",
    "model = keras.models.Sequential([\n",
    "    keras.layers.Dense(30, activation=\"relu\", input_shape=X_train.shape[1:]),\n",
    "    keras.layers.Dense(50, activation=\"relu\"),\n",
    "    keras.layers.Dense(50, activation=\"relu\"),\n",
    "    keras.layers.Dense(1)\n",
    "])\n",
    "\n",
    "model.compile(loss=\"mean_squared_error\", optimizer=keras.optimizers.SGD(lr=1e-3))\n",
    "\n",
    "model.fit(train_data, epochs=3)\n",
    "\n",
    "result = model.evaluate(test_data)\n",
    "print(model.metrics_names, result)"
   ]
  },
  {
   "cell_type": "code",
   "execution_count": null,
   "metadata": {
    "tags": []
   },
   "outputs": [],
   "source": [
    "model = keras.models.Sequential([\n",
    "    keras.layers.Dense(30, activation=\"relu\", input_shape=X_train.shape[1:]),\n",
    "    keras.layers.Dense(1)\n",
    "])\n",
    "\n",
    "model.compile(loss=\"mean_squared_error\", optimizer=keras.optimizers.SGD(lr=1e-3))\n",
    "history = model.fit(X_train, y_train, epochs=20)\n",
    "# mse_test = model.evaluate(X_test, y_test)\n",
    "# X_new = X_test[:3]\n",
    "# y_pred = model.predict(X_new)\n",
    "\n",
    "\n",
    "plt.plot(pd.DataFrame(history.history))\n",
    "plt.grid(True)\n",
    "plt.gca().set_ylim(0, 1)\n",
    "plt.show()\n",
    "\n",
    "y_pred"
   ]
  },
  {
   "cell_type": "code",
   "execution_count": null,
   "metadata": {},
   "outputs": [],
   "source": [
    "df"
   ]
  },
  {
   "cell_type": "code",
   "execution_count": null,
   "metadata": {},
   "outputs": [],
   "source": [
    "address = \"E:\\\\DKE related\\\\Studies\\\\Second Semester\\\\ATiML\\\\Codes\\\\Semester Project\\\\feature_vector.csv\"\n",
    "\n",
    "df = pd.read_csv(address)\n",
    "df['genre'] = df['genre'].astype('category')\n",
    "df['genre'] = df['genre'].cat.codes\n",
    "\n",
    "df"
   ]
  },
  {
   "cell_type": "code",
   "execution_count": null,
   "metadata": {},
   "outputs": [],
   "source": [
    "X = df.iloc[:, 1:-1].to_numpy()\n",
    "Y = df.iloc[:, -1].to_numpy()\n",
    "\n",
    "scaler = StandardScaler()\n",
    "X = scaler.fit_transform(X.astype(np.float64))\n",
    "\n"
   ]
  },
  {
   "cell_type": "code",
   "execution_count": null,
   "metadata": {
    "tags": []
   },
   "outputs": [],
   "source": [
    "X_train_val, X_test, Y_train_val, Y_test = train_test_split(df.iloc[:, 1:-1], df.iloc[:, -1], test_size=0.20, random_state = 0, shuffle=True, stratify = df.iloc[:, -1])\n",
    "\n",
    "skf = StratifiedKFold(n_splits=5, shuffle=True)\n",
    "\n",
    "for train_index, val_index in skf.split(X_train_val, Y_train_val):\n",
    "    \n",
    "    X_train, X_val = X[train_index], X[val_index]\n",
    "    Y_train, Y_val = Y[train_index], Y[val_index]\n",
    "\n",
    "    print(X_train.shape, X_val.shape, Y_train.shape, Y_val.shape)\n",
    "\n",
    "    nb = MultinomialNB()\n",
    "\n",
    "    %time nb.fit(X_train, Y_train)\n",
    "\n",
    "    y_pred_nb = nb.predict(X_val)\n",
    "    acc_nb = metrics.accuracy_score(y_val, y_pred_nb)\n",
    "    print(acc_nb)\n",
    "    \n"
   ]
  },
  {
   "cell_type": "code",
   "execution_count": null,
   "metadata": {},
   "outputs": [],
   "source": [
    "X = df.iloc[:, 1:-1].to_numpy()\n",
    "Y = df.iloc[:, -1].to_numpy()\n",
    "\n",
    "X_train, X_test, Y_train, Y_test = train_test_split(X, Y, test_size=0.25, random_state = 0, shuffle=True, stratify = Y)\n",
    "\n",
    "X_train.shape, X_test.shape, Y_train.shape, Y_test.shape\n"
   ]
  },
  {
   "cell_type": "code",
   "execution_count": null,
   "metadata": {
    "tags": []
   },
   "outputs": [],
   "source": [
    "nb = MultinomialNB()\n",
    "\n",
    "%time nb.fit(X_train, Y_train)\n",
    "\n",
    "Y_pred_nb = nb.predict(X_test)\n",
    "\n",
    "acc_nb = metrics.accuracy_score(Y_test, Y_pred_nb)\n",
    "print(acc_nb)"
   ]
  },
  {
   "cell_type": "code",
   "execution_count": null,
   "metadata": {},
   "outputs": [],
   "source": []
  },
  {
   "cell_type": "code",
   "execution_count": null,
   "metadata": {},
   "outputs": [],
   "source": []
  },
  {
   "cell_type": "code",
   "execution_count": null,
   "metadata": {},
   "outputs": [],
   "source": [
    "X"
   ]
  },
  {
   "cell_type": "code",
   "execution_count": 125,
   "metadata": {
    "tags": []
   },
   "outputs": [
    {
     "output_type": "stream",
     "name": "stdout",
     "text": "--------------------------------\n(170, 15) (170,) Counter({'Adventure': 25, 'Mystery': 24, 'Literary': 21, 'Humorous': 21, 'Christmas': 21, 'Western': 20, 'Horror': 20, 'Romance': 18})\n(144, 15) (144,) Counter({'Adventure': 18, 'Christmas': 18, 'Horror': 18, 'Humorous': 18, 'Literary': 18, 'Mystery': 18, 'Romance': 18, 'Western': 18})\n--------------------------------\nfitting data to SVM\nWall time: 5.25 ms\nfitting data to Logistic\nWall time: 29.4 ms\nfitting data to Naive Bayes\nWall time: 954 µs\n--------------------------------\n(164, 15) (164,) Counter({'Western': 24, 'Literary': 23, 'Christmas': 21, 'Humorous': 21, 'Horror': 20, 'Mystery': 19, 'Romance': 18, 'Adventure': 18})\n(144, 15) (144,) Counter({'Adventure': 18, 'Christmas': 18, 'Horror': 18, 'Humorous': 18, 'Literary': 18, 'Mystery': 18, 'Romance': 18, 'Western': 18})\n--------------------------------\nfitting data to SVM\nWall time: 2.03 ms\nfitting data to Logistic\nWall time: 37 ms\nfitting data to Naive Bayes\nWall time: 2.24 ms\n--------------------------------\n(176, 15) (176,) Counter({'Romance': 25, 'Adventure': 24, 'Western': 23, 'Horror': 22, 'Mystery': 21, 'Humorous': 21, 'Literary': 20, 'Christmas': 20})\n(160, 15) (160,) Counter({'Adventure': 20, 'Christmas': 20, 'Horror': 20, 'Humorous': 20, 'Literary': 20, 'Mystery': 20, 'Romance': 20, 'Western': 20})\n--------------------------------\nfitting data to SVM\nWall time: 2.11 ms\nfitting data to Logistic\nWall time: 45.4 ms\nfitting data to Naive Bayes\nWall time: 1.83 ms\n--------------------------------\n(172, 15) (172,) Counter({'Literary': 26, 'Adventure': 26, 'Christmas': 21, 'Romance': 21, 'Mystery': 20, 'Horror': 20, 'Humorous': 20, 'Western': 18})\n(144, 15) (144,) Counter({'Adventure': 18, 'Christmas': 18, 'Horror': 18, 'Humorous': 18, 'Literary': 18, 'Mystery': 18, 'Romance': 18, 'Western': 18})\n--------------------------------\nfitting data to SVM\nWall time: 6.24 ms\nfitting data to Logistic\nWall time: 33.1 ms\nfitting data to Naive Bayes\nWall time: 1.02 ms\n--------------------------------\n(178, 15) (178,) Counter({'Western': 26, 'Adventure': 25, 'Romance': 24, 'Literary': 22, 'Christmas': 21, 'Humorous': 21, 'Horror': 20, 'Mystery': 19})\n(152, 15) (152,) Counter({'Adventure': 19, 'Christmas': 19, 'Horror': 19, 'Humorous': 19, 'Literary': 19, 'Mystery': 19, 'Romance': 19, 'Western': 19})\n--------------------------------\nfitting data to SVM\nWall time: 1.45 ms\nfitting data to Logistic\nWall time: 30.9 ms\nfitting data to Naive Bayes\nWall time: 2.02 ms\nAverage Validation Accuracy\nSVM: 0.2457; Logistic: 0.2467; NB: 0.2305; RB: 0.3543\n"
    }
   ],
   "source": [
    "import numpy as np\n",
    "\n",
    "from sklearn.model_selection import train_test_split\n",
    "from sklearn.model_selection import StratifiedKFold\n",
    "\n",
    "from sklearn.svm import SVC\n",
    "from sklearn.svm import LinearSVC\n",
    "from sklearn.pipeline import Pipeline\n",
    "from sklearn.naive_bayes import MultinomialNB\n",
    "from sklearn.linear_model import LogisticRegression\n",
    "\n",
    "from sklearn import metrics\n",
    "\n",
    "val_acc_svm = 0\n",
    "val_acc_logistic = 0\n",
    "val_acc_nb = 0\n",
    "val_acc_rf = 0\n",
    "\n",
    "X = df.iloc[:, 1:-1].to_numpy()\n",
    "Y = df.iloc[:, -1].to_numpy()\n",
    "\n",
    "X_train_val, X_test, Y_train_val, Y_test = train_test_split(X, Y, test_size=0.20, random_state = 0, shuffle=True, stratify = Y)\n",
    "\n",
    "skf = StratifiedKFold(n_splits=5, shuffle=True)\n",
    "\n",
    "for train_index, val_index in skf.split(X_train_val, Y_train_val):\n",
    "    \n",
    "    X_train, X_val = X_train_val[train_index], X_train_val[val_index]\n",
    "    Y_train, Y_val = Y_train_val[train_index], Y_train_val[val_index]\n",
    "    \n",
    "    X_train, Y_train = tackle_data_imbalance(X_train, Y_train) \n",
    "\n",
    "    val_acc_svm += perform_SVM(X_train, Y_train, X_val, Y_val)\n",
    "    val_acc_logistic += perform_Logistic(X_train, Y_train, X_val, Y_val)\n",
    "    val_acc_nb += perform_NB(X_train, Y_train, X_val, Y_val)\n",
    "    val_acc_rf += perform_random_forrest(X_train, Y_train, X_val, Y_val)\n",
    "\n",
    "    # print(\"SVM: {}; Logistic: {}; NB: {}; RB: {}\".format(round(acc_svm, 4), round(acc_logistic, 4), round(acc_nb, 4), round()))\n",
    "\n",
    "val_acc_svm = float(val_acc_svm/5)\n",
    "val_acc_logistic = float(val_acc_logistic/5)\n",
    "val_acc_nb = float(val_acc_nb/5) \n",
    "val_acc_rf = float(val_acc_rf/5) \n",
    "\n",
    "print(\"Average Validation Accuracy\")\n",
    "print(\"SVM: {}; Logistic: {}; NB: {}; RB: {}\".format(round(val_acc_svm, 4), round(val_acc_logistic, 4), round(val_acc_nb, 4), round(val_acc_rf, 4)))\n",
    "\n",
    "# test accuracy \n"
   ]
  },
  {
   "cell_type": "code",
   "execution_count": 124,
   "metadata": {},
   "outputs": [],
   "source": [
    "from collections import Counter\n",
    "import operator\n",
    "\n",
    "def tackle_data_imbalance(X, Y):\n",
    "    \n",
    "    counter = Counter(Y)\n",
    "        \n",
    "    total_classes = len(counter)\n",
    "    total_data_points = sum(counter.values())\n",
    "    expected_points = total_data_points*3\n",
    "    avg_points_per_class = int(expected_points/total_classes)\n",
    "    \n",
    "    # generating highest amount of data for each class \n",
    "    # higest_key, highest_val = max(counter.items(), key=operator.itemgetter(1))\n",
    "    # famous_dict = dict((key, highest_val) for key in counter) \n",
    "    \n",
    "    famous_dict = dict((key, avg_points_per_class) for key in counter) # generating double of previous for each class\n",
    "    \n",
    "    over = ADASYN(n_neighbors=1, sampling_strategy=famous_dict)    \n",
    "    under = RandomUnderSampler(sampling_strategy=\"auto\")\n",
    "    \n",
    "    print(\"--------------------------------\")\n",
    "\n",
    "    X, Y = over.fit_resample(X, Y)\n",
    "    print(X.shape, Y.shape, Counter(Y))\n",
    "    X, Y = under.fit_resample(X, Y)    \n",
    "    print(X.shape, Y.shape, Counter(Y))\n",
    "    print(\"--------------------------------\")\n",
    "    return X, Y"
   ]
  },
  {
   "cell_type": "code",
   "execution_count": null,
   "metadata": {
    "tags": []
   },
   "outputs": [],
   "source": [
    "import operator\n",
    "\n",
    "\n",
    "famous_dict = {\n",
    "        7: 10, \n",
    "        6: 10, \n",
    "        5: 9, \n",
    "        0: 9, \n",
    "        8: 9, \n",
    "        2: 4, \n",
    "        3: 4, \n",
    "        4: 4, \n",
    "        1: 1\n",
    "    }\n",
    "\n",
    "counter = Counter(famous_dict)\n",
    "\n",
    "new_dict = {}\n",
    "higest_key, highest_val = max(famous_dict.items(), key=operator.itemgetter(1))\n",
    "\n",
    "new_dict = dict((key, counter.get(key)*2) for key in counter)\n",
    "\n",
    "print(new_dict)"
   ]
  },
  {
   "cell_type": "code",
   "execution_count": null,
   "metadata": {},
   "outputs": [],
   "source": []
  },
  {
   "cell_type": "code",
   "execution_count": null,
   "metadata": {},
   "outputs": [],
   "source": []
  },
  {
   "cell_type": "code",
   "execution_count": 115,
   "metadata": {},
   "outputs": [],
   "source": [
    "from sklearn.svm import SVC\n",
    "\n",
    "def perform_SVM(X_train, Y_train, X_val, Y_val):\n",
    "    # SVM \n",
    "    \n",
    "    svm_clf = Pipeline([\n",
    "        (\"scaler\", StandardScaler()),\n",
    "        (\"svm_clf\", SVC(kernel=\"poly\", degree=10, coef0=50, C=500))\n",
    "    ])\n",
    "\n",
    "\n",
    "    # (\"svm_clf\", SVC(kernel=\"rbf\", gamma=0.0001, C=0.1)) -> 28 \n",
    "    # (\"svm_clf\", SVC(kernel=\"poly\", degree=10, coef0=50, C=500)) -> 30\n",
    "    \n",
    "    print(\"fitting data to SVM\")\n",
    "    # svm_clf = SVC(gamma='auto')\n",
    "    %time svm_clf.fit(X_train, Y_train)\n",
    "    Y_pred_svm = svm_clf.predict(X_val)\n",
    "    \n",
    "    return metrics.accuracy_score(Y_val, Y_pred_svm)\n",
    "\n",
    "def perform_Logistic(X_train, Y_train, X_val, Y_val):\n",
    "    \n",
    "\n",
    "    clf = Pipeline([\n",
    "            (\"scaler\", StandardScaler()),\n",
    "            (\"lr\", LogisticRegression(multi_class=\"multinomial\", solver=\"lbfgs\", C=50, n_jobs=-1, class_weight='balanced'))\n",
    "        ])        \n",
    "    \n",
    "    print(\"fitting data to Logistic\")\n",
    "    %time clf.fit(X_train, Y_train)\n",
    "    Y_pred_logistic = clf.predict(X_val)\n",
    "    return metrics.accuracy_score(Y_val, Y_pred_logistic)\n",
    "\n",
    "    # Multinomial Naive Bayes\n",
    "\n",
    "def perform_NB(X_train, Y_train, X_val, Y_val):\n",
    "    \n",
    "    nb = MultinomialNB(alpha=0.001)\n",
    "    print(\"fitting data to Naive Bayes\")\n",
    "    %time nb.fit(X_train, Y_train)\n",
    "    Y_pred_nb = nb.predict(X_val)\n",
    "    return metrics.accuracy_score(Y_val, Y_pred_nb)\n",
    "\n",
    "def perform_random_forrest(X_train, Y_train, X_val, Y_val):\n",
    "\n",
    "    clf = Pipeline([\n",
    "            (\"scaler\", StandardScaler()),\n",
    "            (\"rf\", RandomForestClassifier(max_depth=100))\n",
    "        ])\n",
    "            \n",
    "    clf.fit(X_train, Y_train)\n",
    "\n",
    "    Y_pred = clf.predict(X_val)\n",
    "    return metrics.accuracy_score(Y_val, Y_pred)"
   ]
  },
  {
   "cell_type": "code",
   "execution_count": null,
   "metadata": {
    "tags": []
   },
   "outputs": [],
   "source": []
  },
  {
   "cell_type": "code",
   "execution_count": null,
   "metadata": {},
   "outputs": [],
   "source": [
    "def select_k_features(k, X_train, X_test, Y_train):\n",
    "    ch2 = feature_selection.SelectKBest(feature_selection.chi2, k=k)\n",
    "    X_train = ch2.fit_transform(X_train, Y_train)\n",
    "    X_test = ch2.transform(X_test)\n",
    "    return X_train, X_test"
   ]
  },
  {
   "cell_type": "code",
   "execution_count": null,
   "metadata": {},
   "outputs": [],
   "source": [
    "X = df.iloc[:, 1:-1].to_numpy()\n",
    "Y = df.iloc[:, -1].to_numpy()\n",
    "\n",
    "X_train_val, X_test, Y_train_val, Y_test = train_test_split(X, Y, test_size=0.20, shuffle=True, stratify = Y)"
   ]
  },
  {
   "cell_type": "code",
   "execution_count": null,
   "metadata": {
    "tags": []
   },
   "outputs": [],
   "source": [
    "X_train_val, X_test = select_k_features(10, X_train_val, X_test, Y_train_val)\n",
    "perform_random_forrest(X_train_val, Y_train_val, X_test, Y_test)\n"
   ]
  },
  {
   "cell_type": "code",
   "execution_count": null,
   "metadata": {},
   "outputs": [],
   "source": []
  },
  {
   "cell_type": "code",
   "execution_count": null,
   "metadata": {},
   "outputs": [],
   "source": []
  },
  {
   "cell_type": "code",
   "execution_count": null,
   "metadata": {},
   "outputs": [],
   "source": []
  },
  {
   "cell_type": "code",
   "execution_count": null,
   "metadata": {},
   "outputs": [],
   "source": []
  },
  {
   "cell_type": "code",
   "execution_count": null,
   "metadata": {},
   "outputs": [],
   "source": []
  }
 ],
 "metadata": {
  "language_info": {
   "codemirror_mode": {
    "name": "ipython",
    "version": 3
   },
   "file_extension": ".py",
   "mimetype": "text/x-python",
   "name": "python",
   "nbconvert_exporter": "python",
   "pygments_lexer": "ipython3",
   "version": "3.8.2-final"
  },
  "orig_nbformat": 2,
  "kernelspec": {
   "name": "python38264bit904d071412294ae39b6cab4e9556921d",
   "display_name": "Python 3.8.2 64-bit"
  }
 },
 "nbformat": 4,
 "nbformat_minor": 2
}