{
 "cells": [
  {
   "cell_type": "code",
   "execution_count": null,
   "metadata": {},
   "outputs": [],
   "source": [
    "import os \n",
    "import pandas as pd \n",
    "import tensorflow as tf \n",
    "import time \n",
    "\n",
    "from sklearn.model_selection import train_test_split"
   ]
  },
  {
   "cell_type": "code",
   "execution_count": null,
   "metadata": {},
   "outputs": [],
   "source": [
    "def convert_data(a, b):\n",
    "    \n",
    "    row_list =[]     \n",
    "\n",
    "    for index, rows in a.iterrows(): \n",
    "        \n",
    "        my_list = [rows[i] for i in a.columns]     \n",
    "        row_list.append(my_list) \n",
    "    \n",
    "    target = [rows for _, rows in b.items()]\n",
    "        \n",
    "    return row_list, target"
   ]
  },
  {
   "cell_type": "code",
   "execution_count": null,
   "metadata": {},
   "outputs": [],
   "source": [
    "address = \"E:\\\\DKE related\\\\Studies\\\\Second Semester\\\\ATiML\\\\Codes\\\\Semester Project\\\\feature_vector.csv\"\n",
    "\n",
    "df = pd.read_csv(address)\n",
    "df['genre'] = df['genre'].astype('category')\n",
    "df['genre'] = df['genre'].cat.codes\n",
    "\n",
    "X_train,X_test,y_train,y_test = train_test_split(df.iloc[:, 1:-1], df.iloc[:, -1],random_state=0)\n",
    "\n",
    "df"
   ]
  },
  {
   "cell_type": "code",
   "execution_count": null,
   "metadata": {},
   "outputs": [],
   "source": [
    "train_data = tf.data.Dataset.from_tensor_slices(convert_data(X_train, y_train))\n",
    "train_data = train_data.shuffle(buffer_size=500).batch(50).repeat(200)\n",
    "\n",
    "test_data = tf.data.Dataset.from_tensor_slices(convert_data(X_test, y_test))\n",
    "test_data = test_data.batch(64)\n",
    "\n",
    "# for item in train_data:\n",
    "#     print(item)"
   ]
  },
  {
   "cell_type": "code",
   "execution_count": null,
   "metadata": {
    "tags": []
   },
   "outputs": [],
   "source": [
    "from tensorflow import keras\n",
    "\n",
    "model = keras.models.Sequential([\n",
    "    keras.layers.Dense(30, activation=\"relu\", input_shape=X_train.shape[1:]),\n",
    "    keras.layers.Dense(50, activation=\"relu\"),\n",
    "    keras.layers.Dense(50, activation=\"relu\"),\n",
    "    keras.layers.Dense(1)\n",
    "])\n",
    "\n",
    "model.compile(loss=\"mean_squared_error\", optimizer=keras.optimizers.SGD(lr=1e-3))\n",
    "\n",
    "model.fit(train_data, epochs=3)\n",
    "\n",
    "result = model.evaluate(test_data)\n",
    "print(model.metrics_names, result)"
   ]
  },
  {
   "cell_type": "code",
   "execution_count": null,
   "metadata": {
    "tags": []
   },
   "outputs": [],
   "source": [
    "model = keras.models.Sequential([\n",
    "    keras.layers.Dense(30, activation=\"relu\", input_shape=X_train.shape[1:]),\n",
    "    keras.layers.Dense(1)\n",
    "])\n",
    "\n",
    "model.compile(loss=\"mean_squared_error\", optimizer=keras.optimizers.SGD(lr=1e-3))\n",
    "history = model.fit(X_train, y_train, epochs=20)\n",
    "# mse_test = model.evaluate(X_test, y_test)\n",
    "# X_new = X_test[:3]\n",
    "# y_pred = model.predict(X_new)\n",
    "\n",
    "\n",
    "plt.plot(pd.DataFrame(history.history))\n",
    "plt.grid(True)\n",
    "plt.gca().set_ylim(0, 1)\n",
    "plt.show()\n",
    "\n",
    "y_pred"
   ]
  },
  {
   "cell_type": "code",
   "execution_count": null,
   "metadata": {},
   "outputs": [],
   "source": [
    "df"
   ]
  },
  {
   "cell_type": "code",
   "execution_count": null,
   "metadata": {},
   "outputs": [],
   "source": [
    "address = \"E:\\\\DKE related\\\\Studies\\\\Second Semester\\\\ATiML\\\\Codes\\\\Semester Project\\\\feature_vector.csv\"\n",
    "\n",
    "df = pd.read_csv(address)\n",
    "df['genre'] = df['genre'].astype('category')\n",
    "df['genre'] = df['genre'].cat.codes\n",
    "\n",
    "df"
   ]
  },
  {
   "cell_type": "code",
   "execution_count": null,
   "metadata": {},
   "outputs": [],
   "source": [
    "X = df.iloc[:, 1:-1].to_numpy()\n",
    "Y = df.iloc[:, -1].to_numpy()\n",
    "\n",
    "scaler = StandardScaler()\n",
    "X = scaler.fit_transform(X.astype(np.float64))\n",
    "\n"
   ]
  },
  {
   "cell_type": "code",
   "execution_count": null,
   "metadata": {
    "tags": []
   },
   "outputs": [],
   "source": [
    "X_train_val, X_test, Y_train_val, Y_test = train_test_split(df.iloc[:, 1:-1], df.iloc[:, -1], test_size=0.20, random_state = 0, shuffle=True, stratify = df.iloc[:, -1])\n",
    "\n",
    "skf = StratifiedKFold(n_splits=5, shuffle=True)\n",
    "\n",
    "for train_index, val_index in skf.split(X_train_val, Y_train_val):\n",
    "    \n",
    "    X_train, X_val = X[train_index], X[val_index]\n",
    "    Y_train, Y_val = Y[train_index], Y[val_index]\n",
    "\n",
    "    print(X_train.shape, X_val.shape, Y_train.shape, Y_val.shape)\n",
    "\n",
    "    nb = MultinomialNB()\n",
    "\n",
    "    %time nb.fit(X_train, Y_train)\n",
    "\n",
    "    y_pred_nb = nb.predict(X_val)\n",
    "    acc_nb = metrics.accuracy_score(y_val, y_pred_nb)\n",
    "    print(acc_nb)\n",
    "    \n"
   ]
  },
  {
   "cell_type": "code",
   "execution_count": 164,
   "metadata": {},
   "outputs": [
    {
     "output_type": "execute_result",
     "data": {
      "text/plain": "((70, 15), (24, 15), (70,), (24,))"
     },
     "metadata": {},
     "execution_count": 164
    }
   ],
   "source": [
    "X = df.iloc[:, 1:-1].to_numpy()\n",
    "Y = df.iloc[:, -1].to_numpy()\n",
    "\n",
    "X_train, X_test, Y_train, Y_test = train_test_split(X, Y, test_size=0.25, random_state = 0, shuffle=True, stratify = Y)\n",
    "\n",
    "X_train.shape, X_test.shape, Y_train.shape, Y_test.shape\n"
   ]
  },
  {
   "cell_type": "code",
   "execution_count": 168,
   "metadata": {
    "tags": []
   },
   "outputs": [
    {
     "output_type": "stream",
     "name": "stdout",
     "text": "Wall time: 964 µs\n0.375\n"
    }
   ],
   "source": [
    "nb = MultinomialNB()\n",
    "\n",
    "%time nb.fit(X_train, Y_train)\n",
    "\n",
    "Y_pred_nb = nb.predict(X_test)\n",
    "\n",
    "acc_nb = metrics.accuracy_score(Y_test, Y_pred_nb)\n",
    "print(acc_nb)"
   ]
  },
  {
   "cell_type": "code",
   "execution_count": null,
   "metadata": {},
   "outputs": [],
   "source": []
  },
  {
   "cell_type": "code",
   "execution_count": null,
   "metadata": {},
   "outputs": [],
   "source": []
  },
  {
   "cell_type": "code",
   "execution_count": null,
   "metadata": {},
   "outputs": [],
   "source": [
    "X"
   ]
  },
  {
   "cell_type": "code",
   "execution_count": 179,
   "metadata": {
    "tags": []
   },
   "outputs": [
    {
     "output_type": "stream",
     "name": "stdout",
     "text": "fitting data to SVM\nWall time: 282 ms\nfitting data to Logistic\nWall time: 23 ms\nfitting data to Naive Bayes\nWall time: 1 ms\nSVM: 0.2667; Logistic: 0.1333; NB: 0.1333\nfitting data to SVM\nWall time: 14 ms\nfitting data to Logistic\nWall time: 19 ms\nfitting data to Naive Bayes\nWall time: 0 ns\nSVM: 0.2667; Logistic: 0.1333; NB: 0.1333\nfitting data to SVM\nWall time: 14 ms\nfitting data to Logistic\nWall time: 20 ms\nfitting data to Naive Bayes\nWall time: 0 ns\nSVM: 0.2667; Logistic: 0.1333; NB: 0.1333\nfitting data to SVM\nWall time: 14 ms\nfitting data to Logistic\nWall time: 19 ms\nfitting data to Naive Bayes\nWall time: 1.02 ms\nSVM: 0.2667; Logistic: 0.1333; NB: 0.1333\nfitting data to SVM\nWall time: 14 ms\nfitting data to Logistic\nWall time: 19 ms\nfitting data to Naive Bayes\nWall time: 0 ns\nSVM: 0.2667; Logistic: 0.1333; NB: 0.1333\nAverage Validation Accuracy\nSVM: 0.3067; Logistic: 0.2267; NB: 0.12\n"
    }
   ],
   "source": [
    "import numpy as np\n",
    "\n",
    "from sklearn.model_selection import train_test_split\n",
    "from sklearn.model_selection import StratifiedKFold\n",
    "\n",
    "from sklearn.svm import SVC\n",
    "from sklearn.svm import LinearSVC\n",
    "from sklearn.pipeline import Pipeline\n",
    "from sklearn.naive_bayes import MultinomialNB\n",
    "from sklearn.linear_model import LogisticRegression\n",
    "\n",
    "from sklearn import metrics\n",
    "\n",
    "val_acc_svm = 0\n",
    "val_acc_logistic = 0\n",
    "val_acc_nb = 0\n",
    "\n",
    "X = df.iloc[:, 1:-1].to_numpy()\n",
    "Y = df.iloc[:, -1].to_numpy()\n",
    "\n",
    "X_train_val, X_test, Y_train_val, Y_test = train_test_split(X, Y, test_size=0.20, random_state = 0, shuffle=True, stratify = Y)\n",
    "\n",
    "skf = StratifiedKFold(n_splits=5, shuffle=True)\n",
    "\n",
    "for train_index, val_index in skf.split(X_train_val, Y_train_val):\n",
    "    \n",
    "    X_train, X_val = X_train_val[train_index], X_train_val[val_index]\n",
    "    Y_train, Y_val = Y_train_val[train_index], Y_train_val[val_index]\n",
    "    \n",
    "    val_acc_svm += perform_SVM(X_train, Y_train, X_val, Y_val)\n",
    "    val_acc_logistic += perform_Logistic(X_train, Y_train, X_val, Y_val)\n",
    "    val_acc_nb += perform_NB(X_train, Y_train, X_val, Y_val)\n",
    "\n",
    "    print(\"SVM: {}; Logistic: {}; NB: {}\".format(round(acc_svm, 4), round(acc_logistic, 4), round(acc_nb, 4)))\n",
    "\n",
    "val_acc_svm = float(val_acc_svm/5)\n",
    "val_acc_logistic = float(val_acc_logistic/5)\n",
    "val_acc_nb = float(val_acc_nb/5) \n",
    "\n",
    "print(\"Average Validation Accuracy\")\n",
    "print(\"SVM: {}; Logistic: {}; NB: {}\".format(round(val_acc_svm, 4), round(val_acc_logistic, 4), round(val_acc_nb, 4)))\n",
    "\n",
    "# test accuracy \n"
   ]
  },
  {
   "cell_type": "code",
   "execution_count": 178,
   "metadata": {},
   "outputs": [],
   "source": [
    "def perform_SVM(X_train, Y_train, X_val, Y_val):\n",
    "    # SVM \n",
    "    \n",
    "    svm_clf = Pipeline([        \n",
    "        (\"linear_svc\", LinearSVC(C=1, loss=\"hinge\")),\n",
    "    ])\n",
    "\n",
    "    print(\"fitting data to SVM\")\n",
    "    # svm_clf = SVC(gamma='auto')\n",
    "    %time svm_clf.fit(X_train, Y_train)\n",
    "    Y_pred_svm = svm_clf.predict(X_val)\n",
    "    \n",
    "    return metrics.accuracy_score(Y_val, Y_pred_svm)\n",
    "\n",
    "def perform_Logistic(X_train, Y_train, X_val, Y_val):\n",
    "    \n",
    "    softmax_reg = LogisticRegression(multi_class=\"multinomial\",solver=\"lbfgs\", C=10)\n",
    "    print(\"fitting data to Logistic\")\n",
    "    %time softmax_reg.fit(X_train, Y_train)\n",
    "    Y_pred_logistic = softmax_reg.predict(X_val)    \n",
    "    return metrics.accuracy_score(Y_val, Y_pred_logistic)\n",
    "\n",
    "    # Multinomial Naive Bayes\n",
    "\n",
    "def perform_NB(X_train, Y_train, X_val, Y_val):\n",
    "\n",
    "    nb = MultinomialNB()\n",
    "    print(\"fitting data to Naive Bayes\")\n",
    "    %time nb.fit(X_train, Y_train)\n",
    "    Y_pred_nb = nb.predict(X_val)\n",
    "    return metrics.accuracy_score(Y_val, Y_pred_nb)\n"
   ]
  },
  {
   "cell_type": "code",
   "execution_count": null,
   "metadata": {},
   "outputs": [],
   "source": []
  }
 ],
 "metadata": {
  "language_info": {
   "codemirror_mode": {
    "name": "ipython",
    "version": 3
   },
   "file_extension": ".py",
   "mimetype": "text/x-python",
   "name": "python",
   "nbconvert_exporter": "python",
   "pygments_lexer": "ipython3",
   "version": "3.7.7-final"
  },
  "orig_nbformat": 2,
  "kernelspec": {
   "name": "python",
   "display_name": "python"
  }
 },
 "nbformat": 4,
 "nbformat_minor": 2
}