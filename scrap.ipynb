{
 "cells": [
  {
   "cell_type": "code",
   "execution_count": 63,
   "metadata": {},
   "outputs": [],
   "source": [
    "import os \n",
    "import pandas as pd \n",
    "import tensorflow as tf \n",
    "import time \n",
    "\n",
    "from sklearn.model_selection import train_test_split\n",
    "from sklearn  import feature_selection\n",
    "from sklearn.preprocessing import StandardScaler\n",
    "\n",
    "from imblearn.over_sampling import SMOTE, ADASYN\n",
    "from imblearn.under_sampling import RandomUnderSampler\n",
    "from imblearn.pipeline import Pipeline\n",
    "\n",
    "\n",
    "from sklearn.ensemble import RandomForestClassifier"
   ]
  },
  {
   "cell_type": "code",
   "execution_count": 85,
   "metadata": {},
   "outputs": [
    {
     "output_type": "execute_result",
     "data": {
      "text/plain": "            name   hyphens   colons  semi_colon  interjections  \\\n134  pg8899.epub  0.020146  0.00076    0.001837       0.003247   \n\n     Preposition_or_subordinating_conjunction  personal_pronoun  \\\n134                                  0.102331           0.07737   \n\n     possessive_pronoun  male_oriented  female_oriented     comma    period  \\\n134            0.033118        0.37715         0.213016  0.056717  0.041037   \n\n      co_conjunction       fres  \n134         0.045504  97.375725  ",
      "text/html": "<div>\n<style scoped>\n    .dataframe tbody tr th:only-of-type {\n        vertical-align: middle;\n    }\n\n    .dataframe tbody tr th {\n        vertical-align: top;\n    }\n\n    .dataframe thead th {\n        text-align: right;\n    }\n</style>\n<table border=\"1\" class=\"dataframe\">\n  <thead>\n    <tr style=\"text-align: right;\">\n      <th></th>\n      <th>name</th>\n      <th>hyphens</th>\n      <th>colons</th>\n      <th>semi_colon</th>\n      <th>interjections</th>\n      <th>Preposition_or_subordinating_conjunction</th>\n      <th>personal_pronoun</th>\n      <th>possessive_pronoun</th>\n      <th>male_oriented</th>\n      <th>female_oriented</th>\n      <th>comma</th>\n      <th>period</th>\n      <th>co_conjunction</th>\n      <th>fres</th>\n    </tr>\n  </thead>\n  <tbody>\n    <tr>\n      <th>134</th>\n      <td>pg8899.epub</td>\n      <td>0.020146</td>\n      <td>0.00076</td>\n      <td>0.001837</td>\n      <td>0.003247</td>\n      <td>0.102331</td>\n      <td>0.07737</td>\n      <td>0.033118</td>\n      <td>0.37715</td>\n      <td>0.213016</td>\n      <td>0.056717</td>\n      <td>0.041037</td>\n      <td>0.045504</td>\n      <td>97.375725</td>\n    </tr>\n  </tbody>\n</table>\n</div>"
     },
     "metadata": {},
     "execution_count": 85
    }
   ],
   "source": [
    "address = \"E:\\\\DKE related\\\\Studies\\\\Second Semester\\\\ATiML\\\\Codes\\\\Semester Project\\\\feature.csv\"\n",
    "\n",
    "df = pd.read_csv(address)\n",
    "df[df['name'] == 'pg8899.epub']\n",
    "# df"
   ]
  },
  {
   "cell_type": "code",
   "execution_count": 86,
   "metadata": {},
   "outputs": [
    {
     "output_type": "execute_result",
     "data": {
      "text/plain": "         book_id  avg_sentence_length  avg_char_per_word  \\\n114  pg8899.epub                0.073             4.1573   \n\n     avg_punctuation_per_sentence  long_word_ratio  noun_ratio  verb_ratio  \\\n114                        2.7256           0.1395      0.2141      0.1846   \n\n     adverb_ratio  preposition_ratio  adjective_ratio  article_ratio  \\\n114        0.0672             0.1127           0.0705         0.0635   \n\n     gerund_infinitive_ratio  downtoner_ratio  amplifier_ratio  \\\n114                   0.0151           0.0039           0.0018   \n\n     demonstrative_ratio  type_token_ratio    genre  \n114               0.0119            0.0071  Romance  ",
      "text/html": "<div>\n<style scoped>\n    .dataframe tbody tr th:only-of-type {\n        vertical-align: middle;\n    }\n\n    .dataframe tbody tr th {\n        vertical-align: top;\n    }\n\n    .dataframe thead th {\n        text-align: right;\n    }\n</style>\n<table border=\"1\" class=\"dataframe\">\n  <thead>\n    <tr style=\"text-align: right;\">\n      <th></th>\n      <th>book_id</th>\n      <th>avg_sentence_length</th>\n      <th>avg_char_per_word</th>\n      <th>avg_punctuation_per_sentence</th>\n      <th>long_word_ratio</th>\n      <th>noun_ratio</th>\n      <th>verb_ratio</th>\n      <th>adverb_ratio</th>\n      <th>preposition_ratio</th>\n      <th>adjective_ratio</th>\n      <th>article_ratio</th>\n      <th>gerund_infinitive_ratio</th>\n      <th>downtoner_ratio</th>\n      <th>amplifier_ratio</th>\n      <th>demonstrative_ratio</th>\n      <th>type_token_ratio</th>\n      <th>genre</th>\n    </tr>\n  </thead>\n  <tbody>\n    <tr>\n      <th>114</th>\n      <td>pg8899.epub</td>\n      <td>0.073</td>\n      <td>4.1573</td>\n      <td>2.7256</td>\n      <td>0.1395</td>\n      <td>0.2141</td>\n      <td>0.1846</td>\n      <td>0.0672</td>\n      <td>0.1127</td>\n      <td>0.0705</td>\n      <td>0.0635</td>\n      <td>0.0151</td>\n      <td>0.0039</td>\n      <td>0.0018</td>\n      <td>0.0119</td>\n      <td>0.0071</td>\n      <td>Romance</td>\n    </tr>\n  </tbody>\n</table>\n</div>"
     },
     "metadata": {},
     "execution_count": 86
    }
   ],
   "source": [
    "address = \"E:\\\\DKE related\\\\Studies\\\\Second Semester\\\\ATiML\\\\Codes\\\\Semester Project\\\\feature_vector.csv\"\n",
    "\n",
    "df = pd.read_csv(address)\n",
    "df[df['book_id'] == 'pg8899.epub']"
   ]
  },
  {
   "cell_type": "code",
   "execution_count": 120,
   "metadata": {},
   "outputs": [
    {
     "output_type": "execute_result",
     "data": {
      "text/plain": "                           book_id  avg_sentence_length  avg_char_per_word  \\\n0                     pg44018.epub               0.0436             4.3955   \n1                     pg35509.epub               0.0621             4.3673   \n2                     pg41564.epub               0.0437             4.2362   \n3                     pg30075.epub               0.0796             4.2663   \n4                     pg30436.epub               0.0684             4.3043   \n..                             ...                  ...                ...   \n133  pg19337DickensChristCarl.epub               0.0694             4.2876   \n135                    pg1392.epub               0.0488             4.3154   \n136                   pg43190.epub               0.0641             4.1603   \n137                     pg587.epub               0.0646             3.8899   \n138                   pg44796.epub               0.0723             4.1846   \n\n     long_word_ratio  noun_ratio  verb_ratio  adverb_ratio  preposition_ratio  \\\n0             0.1811      0.2354      0.1877        0.0591             0.1322   \n1             0.1794      0.2425      0.1732        0.0597             0.1339   \n2             0.1600      0.1981      0.2051        0.0792             0.1114   \n3             0.1719      0.2304      0.2084        0.0589             0.1071   \n4             0.1614      0.2400      0.1855        0.0619             0.1116   \n..               ...         ...         ...           ...                ...   \n133           0.1669      0.2390      0.1855        0.0544             0.1252   \n135           0.1814      0.2412      0.1759        0.0554             0.1294   \n136           0.1451      0.2326      0.1909        0.0500             0.1227   \n137           0.0985      0.2135      0.2097        0.0508             0.1032   \n138           0.1529      0.2756      0.1785        0.0397             0.1257   \n\n     adjective_ratio  article_ratio  ...   hyphens    colons  semi_colon  \\\n0             0.0746         0.0792  ...  0.007732  0.002541    0.010647   \n1             0.0805         0.0869  ...  0.010637  0.001506    0.003221   \n2             0.0717         0.0576  ...  0.008501  0.000158    0.007467   \n3             0.0564         0.0690  ...  0.003552  0.000669    0.000600   \n4             0.0810         0.0682  ...  0.011565  0.002002    0.006475   \n..               ...            ...  ...       ...       ...         ...   \n133           0.0718         0.0764  ...  0.008554  0.001618    0.009651   \n135           0.0681         0.0878  ...  0.011659  0.000496    0.008930   \n136           0.0637         0.0679  ...  0.008864  0.000752    0.008586   \n137           0.0581         0.0597  ...  0.007602  0.001968    0.000725   \n138           0.0649         0.0956  ...  0.007194  0.001063    0.000407   \n\n     interjections  male_oriented  female_oriented     comma    period  \\\n0         0.002136       0.377383         0.171201  0.102709  0.022088   \n1         0.002225       0.304162         0.157432  0.070962  0.041321   \n2         0.003805       0.152394         0.248537  0.090008  0.028045   \n3         0.003482       0.162269         0.127951  0.055051  0.049746   \n4         0.001434       0.267147         0.182013  0.064562  0.043974   \n..             ...            ...              ...       ...       ...   \n133       0.003290       0.338531         0.036882  0.076879  0.038028   \n135       0.001240       0.321330         0.066482  0.080205  0.030346   \n136       0.003543       0.210297         0.163412  0.064827  0.038061   \n137       0.003104       0.246856         0.098621  0.053216  0.045160   \n138       0.001533       0.260824         0.105245  0.038441  0.052610   \n\n           fres  genre  \n0     78.201643      4  \n1     89.787437      4  \n2     79.812453      4  \n3     93.230489      4  \n4     89.614016      4  \n..          ...    ...  \n133   95.977566      1  \n135   83.475617      1  \n136   95.011601      1  \n137  100.073559      3  \n138   96.167563      1  \n\n[137 rows x 25 columns]",
      "text/html": "<div>\n<style scoped>\n    .dataframe tbody tr th:only-of-type {\n        vertical-align: middle;\n    }\n\n    .dataframe tbody tr th {\n        vertical-align: top;\n    }\n\n    .dataframe thead th {\n        text-align: right;\n    }\n</style>\n<table border=\"1\" class=\"dataframe\">\n  <thead>\n    <tr style=\"text-align: right;\">\n      <th></th>\n      <th>book_id</th>\n      <th>avg_sentence_length</th>\n      <th>avg_char_per_word</th>\n      <th>long_word_ratio</th>\n      <th>noun_ratio</th>\n      <th>verb_ratio</th>\n      <th>adverb_ratio</th>\n      <th>preposition_ratio</th>\n      <th>adjective_ratio</th>\n      <th>article_ratio</th>\n      <th>...</th>\n      <th>hyphens</th>\n      <th>colons</th>\n      <th>semi_colon</th>\n      <th>interjections</th>\n      <th>male_oriented</th>\n      <th>female_oriented</th>\n      <th>comma</th>\n      <th>period</th>\n      <th>fres</th>\n      <th>genre</th>\n    </tr>\n  </thead>\n  <tbody>\n    <tr>\n      <th>0</th>\n      <td>pg44018.epub</td>\n      <td>0.0436</td>\n      <td>4.3955</td>\n      <td>0.1811</td>\n      <td>0.2354</td>\n      <td>0.1877</td>\n      <td>0.0591</td>\n      <td>0.1322</td>\n      <td>0.0746</td>\n      <td>0.0792</td>\n      <td>...</td>\n      <td>0.007732</td>\n      <td>0.002541</td>\n      <td>0.010647</td>\n      <td>0.002136</td>\n      <td>0.377383</td>\n      <td>0.171201</td>\n      <td>0.102709</td>\n      <td>0.022088</td>\n      <td>78.201643</td>\n      <td>4</td>\n    </tr>\n    <tr>\n      <th>1</th>\n      <td>pg35509.epub</td>\n      <td>0.0621</td>\n      <td>4.3673</td>\n      <td>0.1794</td>\n      <td>0.2425</td>\n      <td>0.1732</td>\n      <td>0.0597</td>\n      <td>0.1339</td>\n      <td>0.0805</td>\n      <td>0.0869</td>\n      <td>...</td>\n      <td>0.010637</td>\n      <td>0.001506</td>\n      <td>0.003221</td>\n      <td>0.002225</td>\n      <td>0.304162</td>\n      <td>0.157432</td>\n      <td>0.070962</td>\n      <td>0.041321</td>\n      <td>89.787437</td>\n      <td>4</td>\n    </tr>\n    <tr>\n      <th>2</th>\n      <td>pg41564.epub</td>\n      <td>0.0437</td>\n      <td>4.2362</td>\n      <td>0.1600</td>\n      <td>0.1981</td>\n      <td>0.2051</td>\n      <td>0.0792</td>\n      <td>0.1114</td>\n      <td>0.0717</td>\n      <td>0.0576</td>\n      <td>...</td>\n      <td>0.008501</td>\n      <td>0.000158</td>\n      <td>0.007467</td>\n      <td>0.003805</td>\n      <td>0.152394</td>\n      <td>0.248537</td>\n      <td>0.090008</td>\n      <td>0.028045</td>\n      <td>79.812453</td>\n      <td>4</td>\n    </tr>\n    <tr>\n      <th>3</th>\n      <td>pg30075.epub</td>\n      <td>0.0796</td>\n      <td>4.2663</td>\n      <td>0.1719</td>\n      <td>0.2304</td>\n      <td>0.2084</td>\n      <td>0.0589</td>\n      <td>0.1071</td>\n      <td>0.0564</td>\n      <td>0.0690</td>\n      <td>...</td>\n      <td>0.003552</td>\n      <td>0.000669</td>\n      <td>0.000600</td>\n      <td>0.003482</td>\n      <td>0.162269</td>\n      <td>0.127951</td>\n      <td>0.055051</td>\n      <td>0.049746</td>\n      <td>93.230489</td>\n      <td>4</td>\n    </tr>\n    <tr>\n      <th>4</th>\n      <td>pg30436.epub</td>\n      <td>0.0684</td>\n      <td>4.3043</td>\n      <td>0.1614</td>\n      <td>0.2400</td>\n      <td>0.1855</td>\n      <td>0.0619</td>\n      <td>0.1116</td>\n      <td>0.0810</td>\n      <td>0.0682</td>\n      <td>...</td>\n      <td>0.011565</td>\n      <td>0.002002</td>\n      <td>0.006475</td>\n      <td>0.001434</td>\n      <td>0.267147</td>\n      <td>0.182013</td>\n      <td>0.064562</td>\n      <td>0.043974</td>\n      <td>89.614016</td>\n      <td>4</td>\n    </tr>\n    <tr>\n      <th>...</th>\n      <td>...</td>\n      <td>...</td>\n      <td>...</td>\n      <td>...</td>\n      <td>...</td>\n      <td>...</td>\n      <td>...</td>\n      <td>...</td>\n      <td>...</td>\n      <td>...</td>\n      <td>...</td>\n      <td>...</td>\n      <td>...</td>\n      <td>...</td>\n      <td>...</td>\n      <td>...</td>\n      <td>...</td>\n      <td>...</td>\n      <td>...</td>\n      <td>...</td>\n      <td>...</td>\n    </tr>\n    <tr>\n      <th>133</th>\n      <td>pg19337DickensChristCarl.epub</td>\n      <td>0.0694</td>\n      <td>4.2876</td>\n      <td>0.1669</td>\n      <td>0.2390</td>\n      <td>0.1855</td>\n      <td>0.0544</td>\n      <td>0.1252</td>\n      <td>0.0718</td>\n      <td>0.0764</td>\n      <td>...</td>\n      <td>0.008554</td>\n      <td>0.001618</td>\n      <td>0.009651</td>\n      <td>0.003290</td>\n      <td>0.338531</td>\n      <td>0.036882</td>\n      <td>0.076879</td>\n      <td>0.038028</td>\n      <td>95.977566</td>\n      <td>1</td>\n    </tr>\n    <tr>\n      <th>135</th>\n      <td>pg1392.epub</td>\n      <td>0.0488</td>\n      <td>4.3154</td>\n      <td>0.1814</td>\n      <td>0.2412</td>\n      <td>0.1759</td>\n      <td>0.0554</td>\n      <td>0.1294</td>\n      <td>0.0681</td>\n      <td>0.0878</td>\n      <td>...</td>\n      <td>0.011659</td>\n      <td>0.000496</td>\n      <td>0.008930</td>\n      <td>0.001240</td>\n      <td>0.321330</td>\n      <td>0.066482</td>\n      <td>0.080205</td>\n      <td>0.030346</td>\n      <td>83.475617</td>\n      <td>1</td>\n    </tr>\n    <tr>\n      <th>136</th>\n      <td>pg43190.epub</td>\n      <td>0.0641</td>\n      <td>4.1603</td>\n      <td>0.1451</td>\n      <td>0.2326</td>\n      <td>0.1909</td>\n      <td>0.0500</td>\n      <td>0.1227</td>\n      <td>0.0637</td>\n      <td>0.0679</td>\n      <td>...</td>\n      <td>0.008864</td>\n      <td>0.000752</td>\n      <td>0.008586</td>\n      <td>0.003543</td>\n      <td>0.210297</td>\n      <td>0.163412</td>\n      <td>0.064827</td>\n      <td>0.038061</td>\n      <td>95.011601</td>\n      <td>1</td>\n    </tr>\n    <tr>\n      <th>137</th>\n      <td>pg587.epub</td>\n      <td>0.0646</td>\n      <td>3.8899</td>\n      <td>0.0985</td>\n      <td>0.2135</td>\n      <td>0.2097</td>\n      <td>0.0508</td>\n      <td>0.1032</td>\n      <td>0.0581</td>\n      <td>0.0597</td>\n      <td>...</td>\n      <td>0.007602</td>\n      <td>0.001968</td>\n      <td>0.000725</td>\n      <td>0.003104</td>\n      <td>0.246856</td>\n      <td>0.098621</td>\n      <td>0.053216</td>\n      <td>0.045160</td>\n      <td>100.073559</td>\n      <td>3</td>\n    </tr>\n    <tr>\n      <th>138</th>\n      <td>pg44796.epub</td>\n      <td>0.0723</td>\n      <td>4.1846</td>\n      <td>0.1529</td>\n      <td>0.2756</td>\n      <td>0.1785</td>\n      <td>0.0397</td>\n      <td>0.1257</td>\n      <td>0.0649</td>\n      <td>0.0956</td>\n      <td>...</td>\n      <td>0.007194</td>\n      <td>0.001063</td>\n      <td>0.000407</td>\n      <td>0.001533</td>\n      <td>0.260824</td>\n      <td>0.105245</td>\n      <td>0.038441</td>\n      <td>0.052610</td>\n      <td>96.167563</td>\n      <td>1</td>\n    </tr>\n  </tbody>\n</table>\n<p>137 rows × 25 columns</p>\n</div>"
     },
     "metadata": {},
     "execution_count": 120
    }
   ],
   "source": [
    "columns_from_java_output = ['name', 'hyphens', 'colons', 'semi_colon', 'interjections', 'male_oriented', 'female_oriented', 'comma', 'period', 'fres'] \n",
    "\n",
    "name_of_python_output = \"feature_vector.csv\"\n",
    "name_of_java_output = \"feature.csv\"\n",
    "\n",
    "path_to_python_out = os.path.join(os.getcwd(), name_of_python_output)\n",
    "path_to_java_out = os.path.join(os.getcwd(), name_of_java_output)\n",
    "\n",
    "python_out = pd.read_csv(path_to_python_out)\n",
    "java_out = pd.read_csv(path_to_java_out)\n",
    "\n",
    "python_out.drop(['avg_punctuation_per_sentence'], axis=1, inplace=True)\n",
    "java_out = java_out[columns_from_java_output]\n",
    "\n",
    "df = python_out.merge(java_out, left_on='book_id', right_on='name')\n",
    "df.drop(['name'], axis=1, inplace=True)\n",
    "\n",
    "cols = list(df.columns.values)\n",
    "cols.pop(cols.index('genre'))\n",
    "df = df[cols+['genre']]\n",
    "\n",
    "df.drop(df.loc[df['genre'] == 'Allegories'].index, inplace=True)\n",
    "\n",
    "df['genre'] = df['genre'].astype('category')\n",
    "df['genre'] = df['genre'].cat.codes\n",
    "df\n"
   ]
  },
  {
   "cell_type": "code",
   "execution_count": 122,
   "metadata": {},
   "outputs": [
    {
     "output_type": "execute_result",
     "data": {
      "text/plain": "5    30\n4    30\n0    30\n7    15\n6    15\n3     6\n2     6\n1     5\nName: genre, dtype: int64"
     },
     "metadata": {},
     "execution_count": 122
    }
   ],
   "source": [
    "df.genre.value_counts()"
   ]
  },
  {
   "cell_type": "code",
   "execution_count": null,
   "metadata": {},
   "outputs": [],
   "source": []
  },
  {
   "cell_type": "code",
   "execution_count": null,
   "metadata": {},
   "outputs": [],
   "source": []
  },
  {
   "cell_type": "code",
   "execution_count": null,
   "metadata": {},
   "outputs": [],
   "source": []
  },
  {
   "cell_type": "code",
   "execution_count": null,
   "metadata": {},
   "outputs": [],
   "source": []
  },
  {
   "cell_type": "code",
   "execution_count": null,
   "metadata": {},
   "outputs": [],
   "source": []
  },
  {
   "cell_type": "code",
   "execution_count": 22,
   "metadata": {},
   "outputs": [
    {
     "output_type": "execute_result",
     "data": {
      "text/plain": "Index(['name', ' hyphens', ' colons', ' semi_colon', ' interjections',\n       ' Preposition_or_subordinating_conjunction', ' personal_pronoun',\n       ' possessive_pronoun', ' male_oriented', ' female_oriented', ' comma',\n       ' period', ' co_conjunction', ' fres', ' ttr', ' genre'],\n      dtype='object')"
     },
     "metadata": {},
     "execution_count": 22
    }
   ],
   "source": [
    "df.columns"
   ]
  },
  {
   "cell_type": "code",
   "execution_count": 42,
   "metadata": {},
   "outputs": [
    {
     "output_type": "execute_result",
     "data": {
      "text/plain": "                book_id   hyphens    colons  semi_colon  interjections  \\\n0          pg10473.epub  0.010398  0.000145    0.000060       0.004892   \n1          pg10943.epub  0.014308  0.001114    0.004554       0.002912   \n2    pg1155Agatha2.epub  0.011290  0.001567    0.000297       0.004846   \n3          pg11655.epub  0.021617  0.001390    0.004903       0.001793   \n4           pg1190.epub  0.017723  0.001564    0.008861       0.002027   \n..                  ...       ...       ...         ...            ...   \n134         pg8899.epub  0.020146  0.000760    0.001837       0.003247   \n135         pg9746.epub  0.007626  0.000000    0.014299       0.003813   \n136         pg9807.epub  0.023184  0.000329    0.001580       0.003107   \n137         pg9849.epub  0.005712  0.000096    0.004041       0.001951   \n138         pg9927.epub  0.014967  0.001364    0.006801       0.002584   \n\n     male_oriented  female_oriented     comma    period        fres  \n0         0.296328         0.063463  0.049497  0.062430  101.636980  \n1         0.283496         0.119311  0.060399  0.048065   91.222417  \n2         0.211219         0.136949  0.045415  0.065075   97.753041  \n3         0.319929         0.219063  0.053963  0.047340   93.220457  \n4         0.499743         0.088523  0.072976  0.025542   81.578228  \n..             ...              ...       ...       ...         ...  \n134       0.377150         0.213016  0.056717  0.041037   97.375725  \n135       0.549020         0.000000  0.066730  0.040038   82.389889  \n136       0.316320         0.056638  0.056252  0.041966   92.687289  \n137       0.271107         0.180469  0.058919  0.047511   95.466662  \n138       0.371348         0.072741  0.059535  0.041051   87.669581  \n\n[139 rows x 10 columns]",
      "text/html": "<div>\n<style scoped>\n    .dataframe tbody tr th:only-of-type {\n        vertical-align: middle;\n    }\n\n    .dataframe tbody tr th {\n        vertical-align: top;\n    }\n\n    .dataframe thead th {\n        text-align: right;\n    }\n</style>\n<table border=\"1\" class=\"dataframe\">\n  <thead>\n    <tr style=\"text-align: right;\">\n      <th></th>\n      <th>book_id</th>\n      <th>hyphens</th>\n      <th>colons</th>\n      <th>semi_colon</th>\n      <th>interjections</th>\n      <th>male_oriented</th>\n      <th>female_oriented</th>\n      <th>comma</th>\n      <th>period</th>\n      <th>fres</th>\n    </tr>\n  </thead>\n  <tbody>\n    <tr>\n      <th>0</th>\n      <td>pg10473.epub</td>\n      <td>0.010398</td>\n      <td>0.000145</td>\n      <td>0.000060</td>\n      <td>0.004892</td>\n      <td>0.296328</td>\n      <td>0.063463</td>\n      <td>0.049497</td>\n      <td>0.062430</td>\n      <td>101.636980</td>\n    </tr>\n    <tr>\n      <th>1</th>\n      <td>pg10943.epub</td>\n      <td>0.014308</td>\n      <td>0.001114</td>\n      <td>0.004554</td>\n      <td>0.002912</td>\n      <td>0.283496</td>\n      <td>0.119311</td>\n      <td>0.060399</td>\n      <td>0.048065</td>\n      <td>91.222417</td>\n    </tr>\n    <tr>\n      <th>2</th>\n      <td>pg1155Agatha2.epub</td>\n      <td>0.011290</td>\n      <td>0.001567</td>\n      <td>0.000297</td>\n      <td>0.004846</td>\n      <td>0.211219</td>\n      <td>0.136949</td>\n      <td>0.045415</td>\n      <td>0.065075</td>\n      <td>97.753041</td>\n    </tr>\n    <tr>\n      <th>3</th>\n      <td>pg11655.epub</td>\n      <td>0.021617</td>\n      <td>0.001390</td>\n      <td>0.004903</td>\n      <td>0.001793</td>\n      <td>0.319929</td>\n      <td>0.219063</td>\n      <td>0.053963</td>\n      <td>0.047340</td>\n      <td>93.220457</td>\n    </tr>\n    <tr>\n      <th>4</th>\n      <td>pg1190.epub</td>\n      <td>0.017723</td>\n      <td>0.001564</td>\n      <td>0.008861</td>\n      <td>0.002027</td>\n      <td>0.499743</td>\n      <td>0.088523</td>\n      <td>0.072976</td>\n      <td>0.025542</td>\n      <td>81.578228</td>\n    </tr>\n    <tr>\n      <th>...</th>\n      <td>...</td>\n      <td>...</td>\n      <td>...</td>\n      <td>...</td>\n      <td>...</td>\n      <td>...</td>\n      <td>...</td>\n      <td>...</td>\n      <td>...</td>\n      <td>...</td>\n    </tr>\n    <tr>\n      <th>134</th>\n      <td>pg8899.epub</td>\n      <td>0.020146</td>\n      <td>0.000760</td>\n      <td>0.001837</td>\n      <td>0.003247</td>\n      <td>0.377150</td>\n      <td>0.213016</td>\n      <td>0.056717</td>\n      <td>0.041037</td>\n      <td>97.375725</td>\n    </tr>\n    <tr>\n      <th>135</th>\n      <td>pg9746.epub</td>\n      <td>0.007626</td>\n      <td>0.000000</td>\n      <td>0.014299</td>\n      <td>0.003813</td>\n      <td>0.549020</td>\n      <td>0.000000</td>\n      <td>0.066730</td>\n      <td>0.040038</td>\n      <td>82.389889</td>\n    </tr>\n    <tr>\n      <th>136</th>\n      <td>pg9807.epub</td>\n      <td>0.023184</td>\n      <td>0.000329</td>\n      <td>0.001580</td>\n      <td>0.003107</td>\n      <td>0.316320</td>\n      <td>0.056638</td>\n      <td>0.056252</td>\n      <td>0.041966</td>\n      <td>92.687289</td>\n    </tr>\n    <tr>\n      <th>137</th>\n      <td>pg9849.epub</td>\n      <td>0.005712</td>\n      <td>0.000096</td>\n      <td>0.004041</td>\n      <td>0.001951</td>\n      <td>0.271107</td>\n      <td>0.180469</td>\n      <td>0.058919</td>\n      <td>0.047511</td>\n      <td>95.466662</td>\n    </tr>\n    <tr>\n      <th>138</th>\n      <td>pg9927.epub</td>\n      <td>0.014967</td>\n      <td>0.001364</td>\n      <td>0.006801</td>\n      <td>0.002584</td>\n      <td>0.371348</td>\n      <td>0.072741</td>\n      <td>0.059535</td>\n      <td>0.041051</td>\n      <td>87.669581</td>\n    </tr>\n  </tbody>\n</table>\n<p>139 rows × 10 columns</p>\n</div>"
     },
     "metadata": {},
     "execution_count": 42
    }
   ],
   "source": [
    "filtered_df = df[['name', 'hyphens', 'colons', 'semi_colon', 'interjections', 'male_oriented', 'female_oriented', 'comma', 'period', 'fres']]\n",
    "filtered_df = filtered_df.rename(columns={\"name\": \"book_id\"})\n",
    "filtered_df"
   ]
  },
  {
   "cell_type": "code",
   "execution_count": 50,
   "metadata": {},
   "outputs": [
    {
     "output_type": "execute_result",
     "data": {
      "text/plain": "          book_id  avg_sentence_length  avg_char_per_word  \\\n0    pg44018.epub               0.0436             4.3955   \n1    pg35509.epub               0.0621             4.3673   \n2    pg41564.epub               0.0437             4.2362   \n3    pg30075.epub               0.0796             4.2663   \n4    pg30436.epub               0.0684             4.3043   \n..            ...                  ...                ...   \n134  pg15895.epub               0.0601             4.1501   \n135   pg1392.epub               0.0488             4.3154   \n136  pg43190.epub               0.0641             4.1603   \n137    pg587.epub               0.0646             3.8899   \n138  pg44796.epub               0.0723             4.1846   \n\n     avg_punctuation_per_sentence  long_word_ratio  noun_ratio  verb_ratio  \\\n0                          5.4425           0.1811      0.2354      0.1877   \n1                          3.5867           0.1794      0.2425      0.1732   \n2                          5.1578           0.1600      0.1981      0.2051   \n3                          3.1444           0.1719      0.2304      0.2084   \n4                          3.0671           0.1614      0.2400      0.1855   \n..                            ...              ...         ...         ...   \n134                        3.2832           0.1323      0.2209      0.1893   \n135                        4.1077           0.1814      0.2412      0.1759   \n136                        3.9959           0.1451      0.2326      0.1909   \n137                        3.1216           0.0985      0.2135      0.2097   \n138                        2.6125           0.1529      0.2756      0.1785   \n\n     adverb_ratio  preposition_ratio  adjective_ratio  article_ratio  \\\n0          0.0591             0.1322           0.0746         0.0792   \n1          0.0597             0.1339           0.0805         0.0869   \n2          0.0792             0.1114           0.0717         0.0576   \n3          0.0589             0.1071           0.0564         0.0690   \n4          0.0619             0.1116           0.0810         0.0682   \n..            ...                ...              ...            ...   \n134        0.0553             0.1191           0.0694         0.0808   \n135        0.0554             0.1294           0.0681         0.0878   \n136        0.0500             0.1227           0.0637         0.0679   \n137        0.0508             0.1032           0.0581         0.0597   \n138        0.0397             0.1257           0.0649         0.0956   \n\n     gerund_infinitive_ratio  downtoner_ratio  amplifier_ratio  \\\n0                     0.0243           0.0022           0.0031   \n1                     0.0232           0.0022           0.0038   \n2                     0.0208           0.0043           0.0045   \n3                     0.0182           0.0017           0.0016   \n4                     0.0154           0.0026           0.0024   \n..                       ...              ...              ...   \n134                   0.0163           0.0025           0.0014   \n135                   0.0191           0.0016           0.0044   \n136                   0.0149           0.0023           0.0020   \n137                   0.0223           0.0013           0.0008   \n138                   0.0161           0.0014           0.0015   \n\n     demonstrative_ratio  type_token_ratio       genre  \n0                 0.0154            0.0082    Literary  \n1                 0.0124            0.0147    Literary  \n2                 0.0148            0.0058    Literary  \n3                 0.0133            0.0147    Literary  \n4                 0.0150            0.0028    Literary  \n..                   ...               ...         ...  \n134               0.0123            0.0155  Allegories  \n135               0.0179            0.0652   Christmas  \n136               0.0175            0.0017   Christmas  \n137               0.0172            0.0038    Humorous  \n138               0.0152            0.0192   Christmas  \n\n[139 rows x 17 columns]",
      "text/html": "<div>\n<style scoped>\n    .dataframe tbody tr th:only-of-type {\n        vertical-align: middle;\n    }\n\n    .dataframe tbody tr th {\n        vertical-align: top;\n    }\n\n    .dataframe thead th {\n        text-align: right;\n    }\n</style>\n<table border=\"1\" class=\"dataframe\">\n  <thead>\n    <tr style=\"text-align: right;\">\n      <th></th>\n      <th>book_id</th>\n      <th>avg_sentence_length</th>\n      <th>avg_char_per_word</th>\n      <th>avg_punctuation_per_sentence</th>\n      <th>long_word_ratio</th>\n      <th>noun_ratio</th>\n      <th>verb_ratio</th>\n      <th>adverb_ratio</th>\n      <th>preposition_ratio</th>\n      <th>adjective_ratio</th>\n      <th>article_ratio</th>\n      <th>gerund_infinitive_ratio</th>\n      <th>downtoner_ratio</th>\n      <th>amplifier_ratio</th>\n      <th>demonstrative_ratio</th>\n      <th>type_token_ratio</th>\n      <th>genre</th>\n    </tr>\n  </thead>\n  <tbody>\n    <tr>\n      <th>0</th>\n      <td>pg44018.epub</td>\n      <td>0.0436</td>\n      <td>4.3955</td>\n      <td>5.4425</td>\n      <td>0.1811</td>\n      <td>0.2354</td>\n      <td>0.1877</td>\n      <td>0.0591</td>\n      <td>0.1322</td>\n      <td>0.0746</td>\n      <td>0.0792</td>\n      <td>0.0243</td>\n      <td>0.0022</td>\n      <td>0.0031</td>\n      <td>0.0154</td>\n      <td>0.0082</td>\n      <td>Literary</td>\n    </tr>\n    <tr>\n      <th>1</th>\n      <td>pg35509.epub</td>\n      <td>0.0621</td>\n      <td>4.3673</td>\n      <td>3.5867</td>\n      <td>0.1794</td>\n      <td>0.2425</td>\n      <td>0.1732</td>\n      <td>0.0597</td>\n      <td>0.1339</td>\n      <td>0.0805</td>\n      <td>0.0869</td>\n      <td>0.0232</td>\n      <td>0.0022</td>\n      <td>0.0038</td>\n      <td>0.0124</td>\n      <td>0.0147</td>\n      <td>Literary</td>\n    </tr>\n    <tr>\n      <th>2</th>\n      <td>pg41564.epub</td>\n      <td>0.0437</td>\n      <td>4.2362</td>\n      <td>5.1578</td>\n      <td>0.1600</td>\n      <td>0.1981</td>\n      <td>0.2051</td>\n      <td>0.0792</td>\n      <td>0.1114</td>\n      <td>0.0717</td>\n      <td>0.0576</td>\n      <td>0.0208</td>\n      <td>0.0043</td>\n      <td>0.0045</td>\n      <td>0.0148</td>\n      <td>0.0058</td>\n      <td>Literary</td>\n    </tr>\n    <tr>\n      <th>3</th>\n      <td>pg30075.epub</td>\n      <td>0.0796</td>\n      <td>4.2663</td>\n      <td>3.1444</td>\n      <td>0.1719</td>\n      <td>0.2304</td>\n      <td>0.2084</td>\n      <td>0.0589</td>\n      <td>0.1071</td>\n      <td>0.0564</td>\n      <td>0.0690</td>\n      <td>0.0182</td>\n      <td>0.0017</td>\n      <td>0.0016</td>\n      <td>0.0133</td>\n      <td>0.0147</td>\n      <td>Literary</td>\n    </tr>\n    <tr>\n      <th>4</th>\n      <td>pg30436.epub</td>\n      <td>0.0684</td>\n      <td>4.3043</td>\n      <td>3.0671</td>\n      <td>0.1614</td>\n      <td>0.2400</td>\n      <td>0.1855</td>\n      <td>0.0619</td>\n      <td>0.1116</td>\n      <td>0.0810</td>\n      <td>0.0682</td>\n      <td>0.0154</td>\n      <td>0.0026</td>\n      <td>0.0024</td>\n      <td>0.0150</td>\n      <td>0.0028</td>\n      <td>Literary</td>\n    </tr>\n    <tr>\n      <th>...</th>\n      <td>...</td>\n      <td>...</td>\n      <td>...</td>\n      <td>...</td>\n      <td>...</td>\n      <td>...</td>\n      <td>...</td>\n      <td>...</td>\n      <td>...</td>\n      <td>...</td>\n      <td>...</td>\n      <td>...</td>\n      <td>...</td>\n      <td>...</td>\n      <td>...</td>\n      <td>...</td>\n      <td>...</td>\n    </tr>\n    <tr>\n      <th>134</th>\n      <td>pg15895.epub</td>\n      <td>0.0601</td>\n      <td>4.1501</td>\n      <td>3.2832</td>\n      <td>0.1323</td>\n      <td>0.2209</td>\n      <td>0.1893</td>\n      <td>0.0553</td>\n      <td>0.1191</td>\n      <td>0.0694</td>\n      <td>0.0808</td>\n      <td>0.0163</td>\n      <td>0.0025</td>\n      <td>0.0014</td>\n      <td>0.0123</td>\n      <td>0.0155</td>\n      <td>Allegories</td>\n    </tr>\n    <tr>\n      <th>135</th>\n      <td>pg1392.epub</td>\n      <td>0.0488</td>\n      <td>4.3154</td>\n      <td>4.1077</td>\n      <td>0.1814</td>\n      <td>0.2412</td>\n      <td>0.1759</td>\n      <td>0.0554</td>\n      <td>0.1294</td>\n      <td>0.0681</td>\n      <td>0.0878</td>\n      <td>0.0191</td>\n      <td>0.0016</td>\n      <td>0.0044</td>\n      <td>0.0179</td>\n      <td>0.0652</td>\n      <td>Christmas</td>\n    </tr>\n    <tr>\n      <th>136</th>\n      <td>pg43190.epub</td>\n      <td>0.0641</td>\n      <td>4.1603</td>\n      <td>3.9959</td>\n      <td>0.1451</td>\n      <td>0.2326</td>\n      <td>0.1909</td>\n      <td>0.0500</td>\n      <td>0.1227</td>\n      <td>0.0637</td>\n      <td>0.0679</td>\n      <td>0.0149</td>\n      <td>0.0023</td>\n      <td>0.0020</td>\n      <td>0.0175</td>\n      <td>0.0017</td>\n      <td>Christmas</td>\n    </tr>\n    <tr>\n      <th>137</th>\n      <td>pg587.epub</td>\n      <td>0.0646</td>\n      <td>3.8899</td>\n      <td>3.1216</td>\n      <td>0.0985</td>\n      <td>0.2135</td>\n      <td>0.2097</td>\n      <td>0.0508</td>\n      <td>0.1032</td>\n      <td>0.0581</td>\n      <td>0.0597</td>\n      <td>0.0223</td>\n      <td>0.0013</td>\n      <td>0.0008</td>\n      <td>0.0172</td>\n      <td>0.0038</td>\n      <td>Humorous</td>\n    </tr>\n    <tr>\n      <th>138</th>\n      <td>pg44796.epub</td>\n      <td>0.0723</td>\n      <td>4.1846</td>\n      <td>2.6125</td>\n      <td>0.1529</td>\n      <td>0.2756</td>\n      <td>0.1785</td>\n      <td>0.0397</td>\n      <td>0.1257</td>\n      <td>0.0649</td>\n      <td>0.0956</td>\n      <td>0.0161</td>\n      <td>0.0014</td>\n      <td>0.0015</td>\n      <td>0.0152</td>\n      <td>0.0192</td>\n      <td>Christmas</td>\n    </tr>\n  </tbody>\n</table>\n<p>139 rows × 17 columns</p>\n</div>"
     },
     "metadata": {},
     "execution_count": 50
    }
   ],
   "source": [
    "address = \"E:\\\\DKE related\\\\Studies\\\\Second Semester\\\\ATiML\\\\Codes\\\\Semester Project\\\\feature_vector.csv\"\n",
    "\n",
    "df = pd.read_csv(address)\n",
    "df.drop(['avg_punctuation_per_sentence'], axis=1, inplace=True)\n",
    "df"
   ]
  },
  {
   "cell_type": "code",
   "execution_count": 44,
   "metadata": {},
   "outputs": [
    {
     "output_type": "execute_result",
     "data": {
      "text/plain": "          book_id  avg_sentence_length  avg_char_per_word  \\\n0    pg44018.epub               0.0436             4.3955   \n1    pg35509.epub               0.0621             4.3673   \n2    pg41564.epub               0.0437             4.2362   \n3    pg30075.epub               0.0796             4.2663   \n4    pg30436.epub               0.0684             4.3043   \n..            ...                  ...                ...   \n134  pg15895.epub               0.0601             4.1501   \n135   pg1392.epub               0.0488             4.3154   \n136  pg43190.epub               0.0641             4.1603   \n137    pg587.epub               0.0646             3.8899   \n138  pg44796.epub               0.0723             4.1846   \n\n     avg_punctuation_per_sentence  long_word_ratio  noun_ratio  verb_ratio  \\\n0                          5.4425           0.1811      0.2354      0.1877   \n1                          3.5867           0.1794      0.2425      0.1732   \n2                          5.1578           0.1600      0.1981      0.2051   \n3                          3.1444           0.1719      0.2304      0.2084   \n4                          3.0671           0.1614      0.2400      0.1855   \n..                            ...              ...         ...         ...   \n134                        3.2832           0.1323      0.2209      0.1893   \n135                        4.1077           0.1814      0.2412      0.1759   \n136                        3.9959           0.1451      0.2326      0.1909   \n137                        3.1216           0.0985      0.2135      0.2097   \n138                        2.6125           0.1529      0.2756      0.1785   \n\n     adverb_ratio  preposition_ratio  adjective_ratio  ...       genre  \\\n0          0.0591             0.1322           0.0746  ...    Literary   \n1          0.0597             0.1339           0.0805  ...    Literary   \n2          0.0792             0.1114           0.0717  ...    Literary   \n3          0.0589             0.1071           0.0564  ...    Literary   \n4          0.0619             0.1116           0.0810  ...    Literary   \n..            ...                ...              ...  ...         ...   \n134        0.0553             0.1191           0.0694  ...  Allegories   \n135        0.0554             0.1294           0.0681  ...   Christmas   \n136        0.0500             0.1227           0.0637  ...   Christmas   \n137        0.0508             0.1032           0.0581  ...    Humorous   \n138        0.0397             0.1257           0.0649  ...   Christmas   \n\n      hyphens    colons  semi_colon  interjections  male_oriented  \\\n0    0.007732  0.002541    0.010647       0.002136       0.377383   \n1    0.010637  0.001506    0.003221       0.002225       0.304162   \n2    0.008501  0.000158    0.007467       0.003805       0.152394   \n3    0.003552  0.000669    0.000600       0.003482       0.162269   \n4    0.011565  0.002002    0.006475       0.001434       0.267147   \n..        ...       ...         ...            ...            ...   \n134  0.005234  0.001863    0.007129       0.002280       0.206852   \n135  0.011659  0.000496    0.008930       0.001240       0.321330   \n136  0.008864  0.000752    0.008586       0.003543       0.210297   \n137  0.007602  0.001968    0.000725       0.003104       0.246856   \n138  0.007194  0.001063    0.000407       0.001533       0.260824   \n\n    female_oriented     comma    period        fres  \n0          0.171201  0.102709  0.022088   78.201643  \n1          0.157432  0.070962  0.041321   89.787437  \n2          0.248537  0.090008  0.028045   79.812453  \n3          0.127951  0.055051  0.049746   93.230489  \n4          0.182013  0.064562  0.043974   89.614016  \n..              ...       ...       ...         ...  \n134        0.198042  0.065958  0.037089   94.150012  \n135        0.066482  0.080205  0.030346   83.475617  \n136        0.163412  0.064827  0.038061   95.011601  \n137        0.098621  0.053216  0.045160  100.073559  \n138        0.105245  0.038441  0.052610   96.167563  \n\n[139 rows x 26 columns]",
      "text/html": "<div>\n<style scoped>\n    .dataframe tbody tr th:only-of-type {\n        vertical-align: middle;\n    }\n\n    .dataframe tbody tr th {\n        vertical-align: top;\n    }\n\n    .dataframe thead th {\n        text-align: right;\n    }\n</style>\n<table border=\"1\" class=\"dataframe\">\n  <thead>\n    <tr style=\"text-align: right;\">\n      <th></th>\n      <th>book_id</th>\n      <th>avg_sentence_length</th>\n      <th>avg_char_per_word</th>\n      <th>avg_punctuation_per_sentence</th>\n      <th>long_word_ratio</th>\n      <th>noun_ratio</th>\n      <th>verb_ratio</th>\n      <th>adverb_ratio</th>\n      <th>preposition_ratio</th>\n      <th>adjective_ratio</th>\n      <th>...</th>\n      <th>genre</th>\n      <th>hyphens</th>\n      <th>colons</th>\n      <th>semi_colon</th>\n      <th>interjections</th>\n      <th>male_oriented</th>\n      <th>female_oriented</th>\n      <th>comma</th>\n      <th>period</th>\n      <th>fres</th>\n    </tr>\n  </thead>\n  <tbody>\n    <tr>\n      <th>0</th>\n      <td>pg44018.epub</td>\n      <td>0.0436</td>\n      <td>4.3955</td>\n      <td>5.4425</td>\n      <td>0.1811</td>\n      <td>0.2354</td>\n      <td>0.1877</td>\n      <td>0.0591</td>\n      <td>0.1322</td>\n      <td>0.0746</td>\n      <td>...</td>\n      <td>Literary</td>\n      <td>0.007732</td>\n      <td>0.002541</td>\n      <td>0.010647</td>\n      <td>0.002136</td>\n      <td>0.377383</td>\n      <td>0.171201</td>\n      <td>0.102709</td>\n      <td>0.022088</td>\n      <td>78.201643</td>\n    </tr>\n    <tr>\n      <th>1</th>\n      <td>pg35509.epub</td>\n      <td>0.0621</td>\n      <td>4.3673</td>\n      <td>3.5867</td>\n      <td>0.1794</td>\n      <td>0.2425</td>\n      <td>0.1732</td>\n      <td>0.0597</td>\n      <td>0.1339</td>\n      <td>0.0805</td>\n      <td>...</td>\n      <td>Literary</td>\n      <td>0.010637</td>\n      <td>0.001506</td>\n      <td>0.003221</td>\n      <td>0.002225</td>\n      <td>0.304162</td>\n      <td>0.157432</td>\n      <td>0.070962</td>\n      <td>0.041321</td>\n      <td>89.787437</td>\n    </tr>\n    <tr>\n      <th>2</th>\n      <td>pg41564.epub</td>\n      <td>0.0437</td>\n      <td>4.2362</td>\n      <td>5.1578</td>\n      <td>0.1600</td>\n      <td>0.1981</td>\n      <td>0.2051</td>\n      <td>0.0792</td>\n      <td>0.1114</td>\n      <td>0.0717</td>\n      <td>...</td>\n      <td>Literary</td>\n      <td>0.008501</td>\n      <td>0.000158</td>\n      <td>0.007467</td>\n      <td>0.003805</td>\n      <td>0.152394</td>\n      <td>0.248537</td>\n      <td>0.090008</td>\n      <td>0.028045</td>\n      <td>79.812453</td>\n    </tr>\n    <tr>\n      <th>3</th>\n      <td>pg30075.epub</td>\n      <td>0.0796</td>\n      <td>4.2663</td>\n      <td>3.1444</td>\n      <td>0.1719</td>\n      <td>0.2304</td>\n      <td>0.2084</td>\n      <td>0.0589</td>\n      <td>0.1071</td>\n      <td>0.0564</td>\n      <td>...</td>\n      <td>Literary</td>\n      <td>0.003552</td>\n      <td>0.000669</td>\n      <td>0.000600</td>\n      <td>0.003482</td>\n      <td>0.162269</td>\n      <td>0.127951</td>\n      <td>0.055051</td>\n      <td>0.049746</td>\n      <td>93.230489</td>\n    </tr>\n    <tr>\n      <th>4</th>\n      <td>pg30436.epub</td>\n      <td>0.0684</td>\n      <td>4.3043</td>\n      <td>3.0671</td>\n      <td>0.1614</td>\n      <td>0.2400</td>\n      <td>0.1855</td>\n      <td>0.0619</td>\n      <td>0.1116</td>\n      <td>0.0810</td>\n      <td>...</td>\n      <td>Literary</td>\n      <td>0.011565</td>\n      <td>0.002002</td>\n      <td>0.006475</td>\n      <td>0.001434</td>\n      <td>0.267147</td>\n      <td>0.182013</td>\n      <td>0.064562</td>\n      <td>0.043974</td>\n      <td>89.614016</td>\n    </tr>\n    <tr>\n      <th>...</th>\n      <td>...</td>\n      <td>...</td>\n      <td>...</td>\n      <td>...</td>\n      <td>...</td>\n      <td>...</td>\n      <td>...</td>\n      <td>...</td>\n      <td>...</td>\n      <td>...</td>\n      <td>...</td>\n      <td>...</td>\n      <td>...</td>\n      <td>...</td>\n      <td>...</td>\n      <td>...</td>\n      <td>...</td>\n      <td>...</td>\n      <td>...</td>\n      <td>...</td>\n      <td>...</td>\n    </tr>\n    <tr>\n      <th>134</th>\n      <td>pg15895.epub</td>\n      <td>0.0601</td>\n      <td>4.1501</td>\n      <td>3.2832</td>\n      <td>0.1323</td>\n      <td>0.2209</td>\n      <td>0.1893</td>\n      <td>0.0553</td>\n      <td>0.1191</td>\n      <td>0.0694</td>\n      <td>...</td>\n      <td>Allegories</td>\n      <td>0.005234</td>\n      <td>0.001863</td>\n      <td>0.007129</td>\n      <td>0.002280</td>\n      <td>0.206852</td>\n      <td>0.198042</td>\n      <td>0.065958</td>\n      <td>0.037089</td>\n      <td>94.150012</td>\n    </tr>\n    <tr>\n      <th>135</th>\n      <td>pg1392.epub</td>\n      <td>0.0488</td>\n      <td>4.3154</td>\n      <td>4.1077</td>\n      <td>0.1814</td>\n      <td>0.2412</td>\n      <td>0.1759</td>\n      <td>0.0554</td>\n      <td>0.1294</td>\n      <td>0.0681</td>\n      <td>...</td>\n      <td>Christmas</td>\n      <td>0.011659</td>\n      <td>0.000496</td>\n      <td>0.008930</td>\n      <td>0.001240</td>\n      <td>0.321330</td>\n      <td>0.066482</td>\n      <td>0.080205</td>\n      <td>0.030346</td>\n      <td>83.475617</td>\n    </tr>\n    <tr>\n      <th>136</th>\n      <td>pg43190.epub</td>\n      <td>0.0641</td>\n      <td>4.1603</td>\n      <td>3.9959</td>\n      <td>0.1451</td>\n      <td>0.2326</td>\n      <td>0.1909</td>\n      <td>0.0500</td>\n      <td>0.1227</td>\n      <td>0.0637</td>\n      <td>...</td>\n      <td>Christmas</td>\n      <td>0.008864</td>\n      <td>0.000752</td>\n      <td>0.008586</td>\n      <td>0.003543</td>\n      <td>0.210297</td>\n      <td>0.163412</td>\n      <td>0.064827</td>\n      <td>0.038061</td>\n      <td>95.011601</td>\n    </tr>\n    <tr>\n      <th>137</th>\n      <td>pg587.epub</td>\n      <td>0.0646</td>\n      <td>3.8899</td>\n      <td>3.1216</td>\n      <td>0.0985</td>\n      <td>0.2135</td>\n      <td>0.2097</td>\n      <td>0.0508</td>\n      <td>0.1032</td>\n      <td>0.0581</td>\n      <td>...</td>\n      <td>Humorous</td>\n      <td>0.007602</td>\n      <td>0.001968</td>\n      <td>0.000725</td>\n      <td>0.003104</td>\n      <td>0.246856</td>\n      <td>0.098621</td>\n      <td>0.053216</td>\n      <td>0.045160</td>\n      <td>100.073559</td>\n    </tr>\n    <tr>\n      <th>138</th>\n      <td>pg44796.epub</td>\n      <td>0.0723</td>\n      <td>4.1846</td>\n      <td>2.6125</td>\n      <td>0.1529</td>\n      <td>0.2756</td>\n      <td>0.1785</td>\n      <td>0.0397</td>\n      <td>0.1257</td>\n      <td>0.0649</td>\n      <td>...</td>\n      <td>Christmas</td>\n      <td>0.007194</td>\n      <td>0.001063</td>\n      <td>0.000407</td>\n      <td>0.001533</td>\n      <td>0.260824</td>\n      <td>0.105245</td>\n      <td>0.038441</td>\n      <td>0.052610</td>\n      <td>96.167563</td>\n    </tr>\n  </tbody>\n</table>\n<p>139 rows × 26 columns</p>\n</div>"
     },
     "metadata": {},
     "execution_count": 44
    }
   ],
   "source": [
    "df.merge(filtered_df, on='book_id')"
   ]
  },
  {
   "cell_type": "code",
   "execution_count": null,
   "metadata": {},
   "outputs": [],
   "source": []
  },
  {
   "cell_type": "code",
   "execution_count": null,
   "metadata": {},
   "outputs": [],
   "source": []
  },
  {
   "cell_type": "code",
   "execution_count": null,
   "metadata": {},
   "outputs": [],
   "source": []
  },
  {
   "cell_type": "code",
   "execution_count": null,
   "metadata": {},
   "outputs": [],
   "source": []
  },
  {
   "cell_type": "code",
   "execution_count": null,
   "metadata": {},
   "outputs": [],
   "source": []
  },
  {
   "cell_type": "code",
   "execution_count": null,
   "metadata": {},
   "outputs": [],
   "source": [
    "def convert_data(a, b):\n",
    "    \n",
    "    row_list =[]     \n",
    "\n",
    "    for index, rows in a.iterrows(): \n",
    "        \n",
    "        my_list = [rows[i] for i in a.columns]     \n",
    "        row_list.append(my_list) \n",
    "    \n",
    "    target = [rows for _, rows in b.items()]\n",
    "        \n",
    "    return row_list, target"
   ]
  },
  {
   "cell_type": "code",
   "execution_count": 2,
   "metadata": {},
   "outputs": [],
   "source": [
    "address = \"E:\\\\DKE related\\\\Studies\\\\Second Semester\\\\ATiML\\\\Codes\\\\Semester Project\\\\feature_vector.csv\"\n",
    "\n",
    "df = pd.read_csv(address)\n",
    "\n",
    "# df['genre'] = df['genre'].astype('category')\n",
    "# df['genre'] = df['genre'].cat.codes\n",
    "\n",
    "# X_train,X_test,y_train,y_test = train_test_split(df.iloc[:, 1:-1].to_numpy(), df.iloc[:, -1].to_numpy(),random_state=0)\n",
    "\n",
    "df[df['genre']=='Allegories']\n",
    "df.drop([90, 93], inplace=True)"
   ]
  },
  {
   "cell_type": "code",
   "execution_count": null,
   "metadata": {},
   "outputs": [],
   "source": [
    "X_train"
   ]
  },
  {
   "cell_type": "code",
   "execution_count": null,
   "metadata": {},
   "outputs": [],
   "source": [
    "train_data = tf.data.Dataset.from_tensor_slices((X_train, y_train))\n",
    "train_data = train_data.shuffle(buffer_size=500).batch(50).repeat(200)\n",
    "\n",
    "test_data = tf.data.Dataset.from_tensor_slices((X_test, y_test))\n",
    "test_data = test_data.batch(64)\n",
    "\n",
    "# for item in train_data:\n",
    "#     print(item)"
   ]
  },
  {
   "cell_type": "code",
   "execution_count": null,
   "metadata": {
    "tags": []
   },
   "outputs": [],
   "source": [
    "from tensorflow import keras\n",
    "\n",
    "model = keras.models.Sequential([\n",
    "    keras.layers.Dense(30, activation=\"relu\", input_shape=X_train.shape[1:]),\n",
    "    keras.layers.Dense(50, activation=\"relu\"),\n",
    "    keras.layers.Dense(50, activation=\"relu\"),\n",
    "    keras.layers.Dense(1)\n",
    "])\n",
    "\n",
    "model.compile(loss=\"mean_squared_error\", optimizer=keras.optimizers.SGD(lr=1e-3))\n",
    "\n",
    "model.fit(train_data, epochs=3)\n",
    "\n",
    "result = model.evaluate(test_data)\n",
    "print(model.metrics_names, result)"
   ]
  },
  {
   "cell_type": "code",
   "execution_count": null,
   "metadata": {
    "tags": []
   },
   "outputs": [],
   "source": [
    "model = keras.models.Sequential([\n",
    "    keras.layers.Dense(30, activation=\"relu\", input_shape=X_train.shape[1:]),\n",
    "    keras.layers.Dense(1)\n",
    "])\n",
    "\n",
    "model.compile(loss=\"mean_squared_error\", optimizer=keras.optimizers.SGD(lr=1e-3))\n",
    "history = model.fit(X_train, y_train, epochs=20)\n",
    "# mse_test = model.evaluate(X_test, y_test)\n",
    "# X_new = X_test[:3]\n",
    "# y_pred = model.predict(X_new)\n",
    "\n",
    "\n",
    "plt.plot(pd.DataFrame(history.history))\n",
    "plt.grid(True)\n",
    "plt.gca().set_ylim(0, 1)\n",
    "plt.show()\n",
    "\n",
    "y_pred"
   ]
  },
  {
   "cell_type": "code",
   "execution_count": null,
   "metadata": {},
   "outputs": [],
   "source": [
    "df"
   ]
  },
  {
   "cell_type": "code",
   "execution_count": null,
   "metadata": {},
   "outputs": [],
   "source": [
    "address = \"E:\\\\DKE related\\\\Studies\\\\Second Semester\\\\ATiML\\\\Codes\\\\Semester Project\\\\feature_vector.csv\"\n",
    "\n",
    "df = pd.read_csv(address)\n",
    "df['genre'] = df['genre'].astype('category')\n",
    "df['genre'] = df['genre'].cat.codes\n",
    "\n",
    "df"
   ]
  },
  {
   "cell_type": "code",
   "execution_count": null,
   "metadata": {},
   "outputs": [],
   "source": [
    "X = df.iloc[:, 1:-1].to_numpy()\n",
    "Y = df.iloc[:, -1].to_numpy()\n",
    "\n",
    "scaler = StandardScaler()\n",
    "X = scaler.fit_transform(X.astype(np.float64))\n",
    "\n"
   ]
  },
  {
   "cell_type": "code",
   "execution_count": null,
   "metadata": {
    "tags": []
   },
   "outputs": [],
   "source": [
    "X_train_val, X_test, Y_train_val, Y_test = train_test_split(df.iloc[:, 1:-1], df.iloc[:, -1], test_size=0.20, random_state = 0, shuffle=True, stratify = df.iloc[:, -1])\n",
    "\n",
    "skf = StratifiedKFold(n_splits=5, shuffle=True)\n",
    "\n",
    "for train_index, val_index in skf.split(X_train_val, Y_train_val):\n",
    "    \n",
    "    X_train, X_val = X[train_index], X[val_index]\n",
    "    Y_train, Y_val = Y[train_index], Y[val_index]\n",
    "\n",
    "    print(X_train.shape, X_val.shape, Y_train.shape, Y_val.shape)\n",
    "\n",
    "    nb = MultinomialNB()\n",
    "\n",
    "    %time nb.fit(X_train, Y_train)\n",
    "\n",
    "    y_pred_nb = nb.predict(X_val)\n",
    "    acc_nb = metrics.accuracy_score(y_val, y_pred_nb)\n",
    "    print(acc_nb)\n",
    "    \n"
   ]
  },
  {
   "cell_type": "code",
   "execution_count": null,
   "metadata": {},
   "outputs": [],
   "source": [
    "X = df.iloc[:, 1:-1].to_numpy()\n",
    "Y = df.iloc[:, -1].to_numpy()\n",
    "\n",
    "X_train, X_test, Y_train, Y_test = train_test_split(X, Y, test_size=0.25, random_state = 0, shuffle=True, stratify = Y)\n",
    "\n",
    "X_train.shape, X_test.shape, Y_train.shape, Y_test.shape\n"
   ]
  },
  {
   "cell_type": "code",
   "execution_count": null,
   "metadata": {
    "tags": []
   },
   "outputs": [],
   "source": [
    "nb = MultinomialNB()\n",
    "\n",
    "%time nb.fit(X_train, Y_train)\n",
    "\n",
    "Y_pred_nb = nb.predict(X_test)\n",
    "\n",
    "acc_nb = metrics.accuracy_score(Y_test, Y_pred_nb)\n",
    "print(acc_nb)"
   ]
  },
  {
   "cell_type": "code",
   "execution_count": null,
   "metadata": {},
   "outputs": [],
   "source": []
  },
  {
   "cell_type": "code",
   "execution_count": null,
   "metadata": {},
   "outputs": [],
   "source": []
  },
  {
   "cell_type": "code",
   "execution_count": null,
   "metadata": {},
   "outputs": [],
   "source": [
    "X"
   ]
  },
  {
   "cell_type": "code",
   "execution_count": 125,
   "metadata": {
    "tags": []
   },
   "outputs": [
    {
     "output_type": "stream",
     "name": "stdout",
     "text": "--------------------------------\n(170, 15) (170,) Counter({'Adventure': 25, 'Mystery': 24, 'Literary': 21, 'Humorous': 21, 'Christmas': 21, 'Western': 20, 'Horror': 20, 'Romance': 18})\n(144, 15) (144,) Counter({'Adventure': 18, 'Christmas': 18, 'Horror': 18, 'Humorous': 18, 'Literary': 18, 'Mystery': 18, 'Romance': 18, 'Western': 18})\n--------------------------------\nfitting data to SVM\nWall time: 5.25 ms\nfitting data to Logistic\nWall time: 29.4 ms\nfitting data to Naive Bayes\nWall time: 954 µs\n--------------------------------\n(164, 15) (164,) Counter({'Western': 24, 'Literary': 23, 'Christmas': 21, 'Humorous': 21, 'Horror': 20, 'Mystery': 19, 'Romance': 18, 'Adventure': 18})\n(144, 15) (144,) Counter({'Adventure': 18, 'Christmas': 18, 'Horror': 18, 'Humorous': 18, 'Literary': 18, 'Mystery': 18, 'Romance': 18, 'Western': 18})\n--------------------------------\nfitting data to SVM\nWall time: 2.03 ms\nfitting data to Logistic\nWall time: 37 ms\nfitting data to Naive Bayes\nWall time: 2.24 ms\n--------------------------------\n(176, 15) (176,) Counter({'Romance': 25, 'Adventure': 24, 'Western': 23, 'Horror': 22, 'Mystery': 21, 'Humorous': 21, 'Literary': 20, 'Christmas': 20})\n(160, 15) (160,) Counter({'Adventure': 20, 'Christmas': 20, 'Horror': 20, 'Humorous': 20, 'Literary': 20, 'Mystery': 20, 'Romance': 20, 'Western': 20})\n--------------------------------\nfitting data to SVM\nWall time: 2.11 ms\nfitting data to Logistic\nWall time: 45.4 ms\nfitting data to Naive Bayes\nWall time: 1.83 ms\n--------------------------------\n(172, 15) (172,) Counter({'Literary': 26, 'Adventure': 26, 'Christmas': 21, 'Romance': 21, 'Mystery': 20, 'Horror': 20, 'Humorous': 20, 'Western': 18})\n(144, 15) (144,) Counter({'Adventure': 18, 'Christmas': 18, 'Horror': 18, 'Humorous': 18, 'Literary': 18, 'Mystery': 18, 'Romance': 18, 'Western': 18})\n--------------------------------\nfitting data to SVM\nWall time: 6.24 ms\nfitting data to Logistic\nWall time: 33.1 ms\nfitting data to Naive Bayes\nWall time: 1.02 ms\n--------------------------------\n(178, 15) (178,) Counter({'Western': 26, 'Adventure': 25, 'Romance': 24, 'Literary': 22, 'Christmas': 21, 'Humorous': 21, 'Horror': 20, 'Mystery': 19})\n(152, 15) (152,) Counter({'Adventure': 19, 'Christmas': 19, 'Horror': 19, 'Humorous': 19, 'Literary': 19, 'Mystery': 19, 'Romance': 19, 'Western': 19})\n--------------------------------\nfitting data to SVM\nWall time: 1.45 ms\nfitting data to Logistic\nWall time: 30.9 ms\nfitting data to Naive Bayes\nWall time: 2.02 ms\nAverage Validation Accuracy\nSVM: 0.2457; Logistic: 0.2467; NB: 0.2305; RB: 0.3543\n"
    }
   ],
   "source": [
    "import numpy as np\n",
    "\n",
    "from sklearn.model_selection import train_test_split\n",
    "from sklearn.model_selection import StratifiedKFold\n",
    "\n",
    "from sklearn.svm import SVC\n",
    "from sklearn.svm import LinearSVC\n",
    "from sklearn.pipeline import Pipeline\n",
    "from sklearn.naive_bayes import MultinomialNB\n",
    "from sklearn.linear_model import LogisticRegression\n",
    "\n",
    "from sklearn import metrics\n",
    "\n",
    "val_acc_svm = 0\n",
    "val_acc_logistic = 0\n",
    "val_acc_nb = 0\n",
    "val_acc_rf = 0\n",
    "\n",
    "X = df.iloc[:, 1:-1].to_numpy()\n",
    "Y = df.iloc[:, -1].to_numpy()\n",
    "\n",
    "X_train_val, X_test, Y_train_val, Y_test = train_test_split(X, Y, test_size=0.20, random_state = 0, shuffle=True, stratify = Y)\n",
    "\n",
    "skf = StratifiedKFold(n_splits=5, shuffle=True)\n",
    "\n",
    "for train_index, val_index in skf.split(X_train_val, Y_train_val):\n",
    "    \n",
    "    X_train, X_val = X_train_val[train_index], X_train_val[val_index]\n",
    "    Y_train, Y_val = Y_train_val[train_index], Y_train_val[val_index]\n",
    "    \n",
    "    X_train, Y_train = tackle_data_imbalance(X_train, Y_train) \n",
    "\n",
    "    val_acc_svm += perform_SVM(X_train, Y_train, X_val, Y_val)\n",
    "    val_acc_logistic += perform_Logistic(X_train, Y_train, X_val, Y_val)\n",
    "    val_acc_nb += perform_NB(X_train, Y_train, X_val, Y_val)\n",
    "    val_acc_rf += perform_random_forrest(X_train, Y_train, X_val, Y_val)\n",
    "\n",
    "    # print(\"SVM: {}; Logistic: {}; NB: {}; RB: {}\".format(round(acc_svm, 4), round(acc_logistic, 4), round(acc_nb, 4), round()))\n",
    "\n",
    "val_acc_svm = float(val_acc_svm/5)\n",
    "val_acc_logistic = float(val_acc_logistic/5)\n",
    "val_acc_nb = float(val_acc_nb/5) \n",
    "val_acc_rf = float(val_acc_rf/5) \n",
    "\n",
    "print(\"Average Validation Accuracy\")\n",
    "print(\"SVM: {}; Logistic: {}; NB: {}; RB: {}\".format(round(val_acc_svm, 4), round(val_acc_logistic, 4), round(val_acc_nb, 4), round(val_acc_rf, 4)))\n",
    "\n",
    "# test accuracy \n"
   ]
  },
  {
   "cell_type": "code",
   "execution_count": 124,
   "metadata": {},
   "outputs": [],
   "source": [
    "from collections import Counter\n",
    "import operator\n",
    "\n",
    "def tackle_data_imbalance(X, Y):\n",
    "    \n",
    "    counter = Counter(Y)\n",
    "        \n",
    "    total_classes = len(counter)\n",
    "    total_data_points = sum(counter.values())\n",
    "    expected_points = total_data_points*3\n",
    "    avg_points_per_class = int(expected_points/total_classes)\n",
    "    \n",
    "    # generating highest amount of data for each class \n",
    "    # higest_key, highest_val = max(counter.items(), key=operator.itemgetter(1))\n",
    "    # famous_dict = dict((key, highest_val) for key in counter) \n",
    "    \n",
    "    famous_dict = dict((key, avg_points_per_class) for key in counter) # generating double of previous for each class\n",
    "    \n",
    "    over = ADASYN(n_neighbors=1, sampling_strategy=famous_dict)    \n",
    "    under = RandomUnderSampler(sampling_strategy=\"auto\")\n",
    "    \n",
    "    print(\"--------------------------------\")\n",
    "\n",
    "    X, Y = over.fit_resample(X, Y)\n",
    "    print(X.shape, Y.shape, Counter(Y))\n",
    "    X, Y = under.fit_resample(X, Y)    \n",
    "    print(X.shape, Y.shape, Counter(Y))\n",
    "    print(\"--------------------------------\")\n",
    "    return X, Y"
   ]
  },
  {
   "cell_type": "code",
   "execution_count": null,
   "metadata": {
    "tags": []
   },
   "outputs": [],
   "source": [
    "import operator\n",
    "\n",
    "\n",
    "famous_dict = {\n",
    "        7: 10, \n",
    "        6: 10, \n",
    "        5: 9, \n",
    "        0: 9, \n",
    "        8: 9, \n",
    "        2: 4, \n",
    "        3: 4, \n",
    "        4: 4, \n",
    "        1: 1\n",
    "    }\n",
    "\n",
    "counter = Counter(famous_dict)\n",
    "\n",
    "new_dict = {}\n",
    "higest_key, highest_val = max(famous_dict.items(), key=operator.itemgetter(1))\n",
    "\n",
    "new_dict = dict((key, counter.get(key)*2) for key in counter)\n",
    "\n",
    "print(new_dict)"
   ]
  },
  {
   "cell_type": "code",
   "execution_count": null,
   "metadata": {},
   "outputs": [],
   "source": []
  },
  {
   "cell_type": "code",
   "execution_count": null,
   "metadata": {},
   "outputs": [],
   "source": []
  },
  {
   "cell_type": "code",
   "execution_count": 115,
   "metadata": {},
   "outputs": [],
   "source": [
    "from sklearn.svm import SVC\n",
    "\n",
    "def perform_SVM(X_train, Y_train, X_val, Y_val):\n",
    "    # SVM \n",
    "    \n",
    "    svm_clf = Pipeline([\n",
    "        (\"scaler\", StandardScaler()),\n",
    "        (\"svm_clf\", SVC(kernel=\"poly\", degree=10, coef0=50, C=500))\n",
    "    ])\n",
    "\n",
    "\n",
    "    # (\"svm_clf\", SVC(kernel=\"rbf\", gamma=0.0001, C=0.1)) -> 28 \n",
    "    # (\"svm_clf\", SVC(kernel=\"poly\", degree=10, coef0=50, C=500)) -> 30\n",
    "    \n",
    "    print(\"fitting data to SVM\")\n",
    "    # svm_clf = SVC(gamma='auto')\n",
    "    %time svm_clf.fit(X_train, Y_train)\n",
    "    Y_pred_svm = svm_clf.predict(X_val)\n",
    "    \n",
    "    return metrics.accuracy_score(Y_val, Y_pred_svm)\n",
    "\n",
    "def perform_Logistic(X_train, Y_train, X_val, Y_val):\n",
    "    \n",
    "\n",
    "    clf = Pipeline([\n",
    "            (\"scaler\", StandardScaler()),\n",
    "            (\"lr\", LogisticRegression(multi_class=\"multinomial\", solver=\"lbfgs\", C=50, n_jobs=-1, class_weight='balanced'))\n",
    "        ])        \n",
    "    \n",
    "    print(\"fitting data to Logistic\")\n",
    "    %time clf.fit(X_train, Y_train)\n",
    "    Y_pred_logistic = clf.predict(X_val)\n",
    "    return metrics.accuracy_score(Y_val, Y_pred_logistic)\n",
    "\n",
    "    # Multinomial Naive Bayes\n",
    "\n",
    "def perform_NB(X_train, Y_train, X_val, Y_val):\n",
    "    \n",
    "    nb = MultinomialNB(alpha=0.001)\n",
    "    print(\"fitting data to Naive Bayes\")\n",
    "    %time nb.fit(X_train, Y_train)\n",
    "    Y_pred_nb = nb.predict(X_val)\n",
    "    return metrics.accuracy_score(Y_val, Y_pred_nb)\n",
    "\n",
    "def perform_random_forrest(X_train, Y_train, X_val, Y_val):\n",
    "\n",
    "    clf = Pipeline([\n",
    "            (\"scaler\", StandardScaler()),\n",
    "            (\"rf\", RandomForestClassifier(max_depth=100))\n",
    "        ])\n",
    "            \n",
    "    clf.fit(X_train, Y_train)\n",
    "\n",
    "    Y_pred = clf.predict(X_val)\n",
    "    return metrics.accuracy_score(Y_val, Y_pred)"
   ]
  },
  {
   "cell_type": "code",
   "execution_count": null,
   "metadata": {
    "tags": []
   },
   "outputs": [],
   "source": []
  },
  {
   "cell_type": "code",
   "execution_count": null,
   "metadata": {},
   "outputs": [],
   "source": [
    "def select_k_features(k, X_train, X_test, Y_train):\n",
    "    ch2 = feature_selection.SelectKBest(feature_selection.chi2, k=k)\n",
    "    X_train = ch2.fit_transform(X_train, Y_train)\n",
    "    X_test = ch2.transform(X_test)\n",
    "    return X_train, X_test"
   ]
  },
  {
   "cell_type": "code",
   "execution_count": null,
   "metadata": {},
   "outputs": [],
   "source": [
    "X = df.iloc[:, 1:-1].to_numpy()\n",
    "Y = df.iloc[:, -1].to_numpy()\n",
    "\n",
    "X_train_val, X_test, Y_train_val, Y_test = train_test_split(X, Y, test_size=0.20, shuffle=True, stratify = Y)"
   ]
  },
  {
   "cell_type": "code",
   "execution_count": null,
   "metadata": {
    "tags": []
   },
   "outputs": [],
   "source": [
    "X_train_val, X_test = select_k_features(10, X_train_val, X_test, Y_train_val)\n",
    "perform_random_forrest(X_train_val, Y_train_val, X_test, Y_test)\n"
   ]
  },
  {
   "cell_type": "code",
   "execution_count": null,
   "metadata": {},
   "outputs": [],
   "source": []
  },
  {
   "cell_type": "code",
   "execution_count": null,
   "metadata": {},
   "outputs": [],
   "source": []
  },
  {
   "cell_type": "code",
   "execution_count": null,
   "metadata": {},
   "outputs": [],
   "source": []
  },
  {
   "cell_type": "code",
   "execution_count": 17,
   "metadata": {},
   "outputs": [],
   "source": [
    "import numpy as np\n",
    "from sklearn.linear_model import LogisticRegression\n",
    "from sklearn.naive_bayes import GaussianNB\n",
    "from sklearn.ensemble import RandomForestClassifier, VotingClassifier\n",
    "from sklearn.svm import SVC\n",
    "\n",
    "from sklearn.naive_bayes import GaussianNB\n",
    "\n",
    "\n",
    "def do_ensemble_and_learn(X_train, Y_train, X_test, Y_test): \n",
    "\n",
    "    clf1 = (\"svm_clf\", SVC(kernel=\"poly\", degree=10, coef0=50, C=500))\n",
    "    clf2 = (\"lr\", LogisticRegression(multi_class=\"multinomial\", solver=\"lbfgs\", C=50, n_jobs=-1, class_weight='balanced'))\n",
    "    clf3 = (\"rf\", RandomForestClassifier())\n",
    "    \n",
    "    ensemble_clf = VotingClassifier(\n",
    "                estimators=[\n",
    "                    clf1, \n",
    "                    clf2,\n",
    "                    clf3\n",
    "                ], \n",
    "                voting='hard'\n",
    "            )\n",
    "\n",
    "    eclf = Pipeline([\n",
    "        (\"scaler\", StandardScaler()),\n",
    "        (\"clf\", ensemble_clf)\n",
    "    ])\n",
    "\n",
    "    eclf = eclf.fit(X_train, Y_train)\n",
    "    Y_preds = eclf.predict(X_test)\n",
    "    return metrics.accuracy_score(Y_test, Y_preds)\n",
    "\n"
   ]
  },
  {
   "cell_type": "code",
   "execution_count": 18,
   "metadata": {},
   "outputs": [
    {
     "output_type": "execute_result",
     "data": {
      "text/plain": "0.5"
     },
     "metadata": {},
     "execution_count": 18
    }
   ],
   "source": [
    "import numpy as np\n",
    "\n",
    "from sklearn.model_selection import train_test_split\n",
    "from sklearn.model_selection import StratifiedKFold\n",
    "from sklearn import metrics\n",
    "\n",
    "X = df.iloc[:, 1:-1].to_numpy()\n",
    "Y = df.iloc[:, -1].to_numpy()\n",
    "\n",
    "X_train, X_test, Y_train, Y_test = train_test_split(X, Y, test_size=0.20, shuffle=True, stratify = Y)\n",
    "\n",
    "do_ensemble_and_learn(X_train, Y_train, X_test, Y_test)"
   ]
  },
  {
   "cell_type": "code",
   "execution_count": null,
   "metadata": {},
   "outputs": [],
   "source": []
  },
  {
   "cell_type": "code",
   "execution_count": null,
   "metadata": {},
   "outputs": [],
   "source": []
  },
  {
   "cell_type": "code",
   "execution_count": null,
   "metadata": {},
   "outputs": [],
   "source": []
  },
  {
   "cell_type": "code",
   "execution_count": null,
   "metadata": {},
   "outputs": [],
   "source": []
  },
  {
   "cell_type": "code",
   "execution_count": null,
   "metadata": {},
   "outputs": [],
   "source": []
  }
 ],
 "metadata": {
  "language_info": {
   "codemirror_mode": {
    "name": "ipython",
    "version": 3
   },
   "file_extension": ".py",
   "mimetype": "text/x-python",
   "name": "python",
   "nbconvert_exporter": "python",
   "pygments_lexer": "ipython3",
   "version": "3.8.2-final"
  },
  "orig_nbformat": 2,
  "kernelspec": {
   "name": "python38264bit904d071412294ae39b6cab4e9556921d",
   "display_name": "Python 3.8.2 64-bit"
  }
 },
 "nbformat": 4,
 "nbformat_minor": 2
}