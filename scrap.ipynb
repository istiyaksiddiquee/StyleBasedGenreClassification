{
 "cells": [
  {
   "cell_type": "code",
   "execution_count": null,
   "metadata": {},
   "outputs": [],
   "source": [
    "import os \n",
    "import pandas as pd \n",
    "import tensorflow as tf \n",
    "import time \n",
    "\n",
    "from sklearn.model_selection import train_test_split"
   ]
  },
  {
   "cell_type": "code",
   "execution_count": 161,
   "metadata": {},
   "outputs": [],
   "source": [
    "def convert_data(a, b):\n",
    "    \n",
    "    row_list =[]     \n",
    "\n",
    "    for index, rows in a.iterrows(): \n",
    "        \n",
    "        my_list = [rows[i] for i in a.columns]     \n",
    "        row_list.append(my_list) \n",
    "    \n",
    "    target = [rows for _, rows in b.items()]\n",
    "        \n",
    "    return row_list, target"
   ]
  },
  {
   "cell_type": "code",
   "execution_count": 172,
   "metadata": {},
   "outputs": [],
   "source": [
    "address = \"E:\\\\DKE related\\\\Studies\\\\Second Semester\\\\ATiML\\\\Codes\\\\Semester Project\\\\feature_vector.csv\"\n",
    "\n",
    "df = pd.read_csv(address)\n",
    "df['genre'] = df['genre'].astype('category')\n",
    "df['genre'] = df['genre'].cat.codes\n",
    "\n",
    "X_train,X_test,y_train,y_test = train_test_split(df.iloc[:, 1:-1], df.iloc[:, -1],random_state=0)\n",
    "\n",
    "train_data = tf.data.Dataset.from_tensor_slices(convert_data(X_train, y_train))\n",
    "train_data = train_data.shuffle(buffer_size=500).batch(50).repeat(200)\n",
    "\n",
    "test_data = tf.data.Dataset.from_tensor_slices(convert_data(X_test, y_test))\n",
    "test_data = test_data.batch(64)\n",
    "\n",
    "# for item in train_data:\n",
    "#     print(item)"
   ]
  },
  {
   "cell_type": "code",
   "execution_count": 171,
   "metadata": {
    "tags": []
   },
   "outputs": [
    {
     "output_type": "stream",
     "name": "stdout",
     "text": "Train for 200 steps\nEpoch 1/3\n200/200 [==============================] - 1s 6ms/step - loss: 0.0176\nEpoch 2/3\n200/200 [==============================] - 0s 2ms/step - loss: 8.8754e-05\nEpoch 3/3\n200/200 [==============================] - 1s 3ms/step - loss: 6.1052e-05\n1/1 [==============================] - 0s 84ms/step - loss: 8.0895e-04\n['loss'] 0.0008089460898190737\n"
    }
   ],
   "source": [
    "from tensorflow import keras\n",
    "\n",
    "model = keras.models.Sequential([\n",
    "    keras.layers.Dense(30, activation=\"relu\", input_shape=X_train.shape[1:]),\n",
    "    keras.layers.Dense(50, activation=\"relu\"),\n",
    "    keras.layers.Dense(50, activation=\"relu\"),\n",
    "    keras.layers.Dense(1)\n",
    "])\n",
    "\n",
    "model.compile(loss=\"mean_squared_error\", optimizer=keras.optimizers.SGD(lr=1e-3))\n",
    "\n",
    "model.fit(train_data, epochs=3)\n",
    "\n",
    "result = model.evaluate(test_data)\n",
    "print(model.metrics_names, result)"
   ]
  },
  {
   "cell_type": "code",
   "execution_count": null,
   "metadata": {
    "tags": []
   },
   "outputs": [],
   "source": [
    "model = keras.models.Sequential([\n",
    "    keras.layers.Dense(30, activation=\"relu\", input_shape=X_train.shape[1:]),\n",
    "    keras.layers.Dense(1)\n",
    "])\n",
    "\n",
    "model.compile(loss=\"mean_squared_error\", optimizer=keras.optimizers.SGD(lr=1e-3))\n",
    "history = model.fit(X_train, y_train, epochs=20)\n",
    "# mse_test = model.evaluate(X_test, y_test)\n",
    "# X_new = X_test[:3]\n",
    "# y_pred = model.predict(X_new)\n",
    "\n",
    "\n",
    "plt.plot(pd.DataFrame(history.history))\n",
    "plt.grid(True)\n",
    "plt.gca().set_ylim(0, 1)\n",
    "plt.show()\n",
    "\n",
    "y_pred"
   ]
  }
 ],
 "metadata": {
  "language_info": {
   "codemirror_mode": {
    "name": "ipython",
    "version": 3
   },
   "file_extension": ".py",
   "mimetype": "text/x-python",
   "name": "python",
   "nbconvert_exporter": "python",
   "pygments_lexer": "ipython3",
   "version": "3.7.7-final"
  },
  "orig_nbformat": 2,
  "kernelspec": {
   "name": "python",
   "display_name": "python"
  }
 },
 "nbformat": 4,
 "nbformat_minor": 2
}